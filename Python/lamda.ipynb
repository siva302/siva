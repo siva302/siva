{
 "cells": [
  {
   "cell_type": "markdown",
   "id": "1ea5b216",
   "metadata": {},
   "source": [
    "1.Write a Python program to create a lambda function that adds 15 to a given number passed in as an argument, also create a lambda function that multiplies argument x with argument y and prints the result."
   ]
  },
  {
   "cell_type": "code",
   "execution_count": 22,
   "id": "c5565b63",
   "metadata": {
    "scrolled": true
   },
   "outputs": [
    {
     "name": "stdout",
     "output_type": "stream",
     "text": [
      "25\n",
      "150\n"
     ]
    }
   ],
   "source": [
    "a = lambda a : a + 15;print(a(10))\n",
    "b = lambda x, y : x * y;print(b(15, 10))"
   ]
  },
  {
   "cell_type": "markdown",
   "id": "d74e5cd5",
   "metadata": {},
   "source": [
    "2.Write a Python program to create a function that takes one argument, and that argument will be multiplied with an unknown given number.\n",
    "Sample Output:\n",
    "2 times the number of 15 = 30\n",
    "3 times the number of 15 = 45\n",
    "4 times the number of 15 = 60\n",
    "5 times the number 15 = 75"
   ]
  },
  {
   "cell_type": "code",
   "execution_count": 40,
   "id": "1df5fcc7",
   "metadata": {},
   "outputs": [
    {
     "name": "stdout",
     "output_type": "stream",
     "text": [
      "2  times the number of 15 = 30\n",
      "3  times the number of 15 = 45\n",
      "4  times the number of 15 = 60\n",
      "5  times the number of 15 = 75\n"
     ]
    },
    {
     "data": {
      "text/plain": [
       "'n=5\\nfor i in range(2,n+1):\\n    print(i*15)'"
      ]
     },
     "execution_count": 40,
     "metadata": {},
     "output_type": "execute_result"
    }
   ],
   "source": [
    "def mul(n):\n",
    "    for i in range(2,n+1):\n",
    "        x=lambda n:i*15\n",
    "        print(i, \" times the number of 15 =\",x(n))\n",
    "mul(5)\n",
    "'''n=5\n",
    "for i in range(2,n+1):\n",
    "    print(i*15)'''"
   ]
  },
  {
   "cell_type": "markdown",
   "id": "c2de7092",
   "metadata": {},
   "source": [
    "3.Write a Python program to sort a list of tuples using Lambda.\n",
    "Original list of tuples:\n",
    "[('English', 88), ('Science', 90), ('Maths', 97), ('Social sciences', 82)] Sorting the List of Tuples:\n",
    "[('Social sciences', 82), ('English', 88), ('Science', 90), ('Maths', 97)]"
   ]
  },
  {
   "cell_type": "code",
   "execution_count": 82,
   "id": "ce569474",
   "metadata": {},
   "outputs": [
    {
     "name": "stdout",
     "output_type": "stream",
     "text": [
      "['Social sciences', 82, 'English', 88, 'Science', 90, 'Maths', 97]\n"
     ]
    }
   ],
   "source": [
    "org=[('English', 88), ('Science', 90), ('Maths', 97), ('Social sciences', 82)]\n",
    "\n",
    "'''k=org[-1]\n",
    "l=org[0]\n",
    "m=org[1]\n",
    "n=org[2]\n",
    "a=k,l,m,n'''\n",
    "#print(list((a)))\n",
    "s=lambda a: org[-1]+org[0]+org[1]+org[2]\n",
    "print(list((s(org))))"
   ]
  },
  {
   "cell_type": "markdown",
   "id": "76c200d3",
   "metadata": {},
   "source": [
    "4.Write a Python program to filter a list of integers using Lambda.\n",
    "Original list of integers:\n",
    "[1, 2, 3, 4, 5, 6, 7, 8, 9, 10]\n",
    "Even numbers from the said list:\n",
    "[2, 4, 6, 8, 10]\n",
    "Odd numbers from the said list:\n",
    "[1, 3, 5, 7, 9]"
   ]
  },
  {
   "cell_type": "code",
   "execution_count": 136,
   "id": "a23494c5",
   "metadata": {},
   "outputs": [
    {
     "name": "stdout",
     "output_type": "stream",
     "text": [
      "[2, 4, 6, 8, 10]\n"
     ]
    }
   ],
   "source": [
    "org= [1, 2, 3, 4, 5, 6, 7, 8, 9, 10] \n",
    "a=lambda x:[i for i in org if i%2==0] \n",
    "print(a(x))\n"
   ]
  },
  {
   "cell_type": "code",
   "execution_count": 109,
   "id": "0c9bac3d",
   "metadata": {},
   "outputs": [
    {
     "name": "stdout",
     "output_type": "stream",
     "text": [
      "[1, 3, 5, 7, 9]\n"
     ]
    }
   ],
   "source": [
    "a=lambda y:[i for i in org if i%2==1]\n",
    "print(a(x))"
   ]
  },
  {
   "cell_type": "markdown",
   "id": "7e44e4cb",
   "metadata": {},
   "source": [
    "5.Write a Python program to square and cube every number in a given list of integers using Lambda.\n",
    "Original list of integers:\n",
    "[1, 2, 3, 4, 5, 6, 7, 8, 9, 10]\n",
    "Square every number of the said list:\n",
    "[1, 4, 9, 16, 25, 36, 49, 64, 81, 100]\n",
    "Cube every number of the said list:\n",
    "[1, 8, 27, 64, 125, 216, 343, 512, 729, 1000]"
   ]
  },
  {
   "cell_type": "code",
   "execution_count": 144,
   "id": "660b8f15",
   "metadata": {},
   "outputs": [
    {
     "name": "stdout",
     "output_type": "stream",
     "text": [
      "[1, 4, 9, 16, 25, 36, 49, 64, 81, 100]\n"
     ]
    }
   ],
   "source": [
    "org=[1, 2, 3, 4, 5, 6, 7, 8, 9, 10]\n",
    "a=lambda x:[i*i for i in org]\n",
    "print(a(x))"
   ]
  },
  {
   "cell_type": "code",
   "execution_count": 132,
   "id": "aefb9da4",
   "metadata": {},
   "outputs": [
    {
     "name": "stdout",
     "output_type": "stream",
     "text": [
      "[1, 8, 27, 64, 125, 216, 343, 512, 729, 1000]\n"
     ]
    }
   ],
   "source": [
    "a=lambda x:[i*i*i for i in org]\n",
    "print(a(x))"
   ]
  },
  {
   "cell_type": "markdown",
   "id": "ec24d6fc",
   "metadata": {},
   "source": [
    "6.Write a Python function that checks whether a passed string is a palindrome or not.\n",
    "Note: A palindrome is a word, phrase, or sequence that reads the same backward as forward, e.g., madam or nurses run"
   ]
  },
  {
   "cell_type": "code",
   "execution_count": 1,
   "id": "368afa7a",
   "metadata": {},
   "outputs": [
    {
     "name": "stdout",
     "output_type": "stream",
     "text": [
      "enter a name: non\n",
      "ok palindrome\n"
     ]
    }
   ],
   "source": [
    "def palin():\n",
    "    if n==n[::-1]:\n",
    "        print('ok palindrome')\n",
    "    else:\n",
    "        print('not palindrome')\n",
    "n=input(\"enter a name: \")\n",
    "\n",
    "palin()\n",
    "    "
   ]
  },
  {
   "cell_type": "markdown",
   "id": "23000708",
   "metadata": {},
   "source": [
    "7.Write a Python function to create and print a list where the values are the squares of numbers between 1 and 30 (both included)."
   ]
  },
  {
   "cell_type": "code",
   "execution_count": 145,
   "id": "82838f51",
   "metadata": {},
   "outputs": [
    {
     "name": "stdout",
     "output_type": "stream",
     "text": [
      "[1, 4, 9, 16, 25, 36, 49, 64, 81, 100, 121, 144, 169, 196, 225, 256, 289, 324, 361, 400, 441, 484, 529, 576, 625, 676, 729, 784, 841, 900]\n"
     ]
    }
   ],
   "source": [
    "a=lambda x:[i*i for i in range(1,31)]\n",
    "print(a(x))"
   ]
  },
  {
   "cell_type": "markdown",
   "id": "b15aa623",
   "metadata": {},
   "source": [
    "8.Write a Python program to extract year, month, date and time using Lambda.\n",
    "Sample Output:\n",
    "2020-01-15 09:03:32.744178\n",
    "2020\n",
    "1"
   ]
  },
  {
   "cell_type": "code",
   "execution_count": 2,
   "id": "db7eb566",
   "metadata": {},
   "outputs": [
    {
     "name": "stdout",
     "output_type": "stream",
     "text": [
      "2023-11-10 09:39:56.893319\n",
      "Year -  2023\n",
      "Month -  11\n",
      "Day -  10\n"
     ]
    }
   ],
   "source": [
    "import datetime\n",
    "currentDateTime = datetime.datetime.now()\n",
    "print(currentDateTime)\n",
    "year = lambda x: x.year\n",
    "month = lambda x: x.month\n",
    "day = lambda x: x.day\n",
    "print('Year - ',year(currentDateTime))\n",
    "print('Month - ',month(currentDateTime))\n",
    "print('Day - ',day(currentDateTime))"
   ]
  },
  {
   "cell_type": "code",
   "execution_count": null,
   "id": "a012ab59",
   "metadata": {},
   "outputs": [],
   "source": []
  }
 ],
 "metadata": {
  "kernelspec": {
   "display_name": "Python 3 (ipykernel)",
   "language": "python",
   "name": "python3"
  },
  "language_info": {
   "codemirror_mode": {
    "name": "ipython",
    "version": 3
   },
   "file_extension": ".py",
   "mimetype": "text/x-python",
   "name": "python",
   "nbconvert_exporter": "python",
   "pygments_lexer": "ipython3",
   "version": "3.10.9"
  }
 },
 "nbformat": 4,
 "nbformat_minor": 5
}
