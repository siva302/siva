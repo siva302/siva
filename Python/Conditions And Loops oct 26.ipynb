{
 "cells": [
  {
   "cell_type": "markdown",
   "id": "e5f68051",
   "metadata": {},
   "source": [
    "#  conditions\n"
   ]
  },
  {
   "cell_type": "code",
   "execution_count": null,
   "id": "5071cb95",
   "metadata": {},
   "outputs": [],
   "source": [
    "# if,else,elif,nested if\n",
    "# conditon can use operators\n"
   ]
  },
  {
   "cell_type": "code",
   "execution_count": 14,
   "id": "7185892b",
   "metadata": {},
   "outputs": [
    {
     "name": "stdout",
     "output_type": "stream",
     "text": [
      "a is greater than b\n"
     ]
    }
   ],
   "source": [
    "\n",
    "# create a if statementa=100\n",
    "a=400\n",
    "b=20000\n",
    "if a>b:\n",
    "    print('a is greater than b')"
   ]
  },
  {
   "cell_type": "code",
   "execution_count": 15,
   "id": "063f8b21",
   "metadata": {},
   "outputs": [
    {
     "name": "stdout",
     "output_type": "stream",
     "text": [
      "a is big to b\n"
     ]
    }
   ],
   "source": [
    "# if else\n",
    "a=5000\n",
    "b=100\n",
    "if a<b:\n",
    "    print('a is small to b')\n",
    "else:\n",
    "    print('a is big to b')"
   ]
  },
  {
   "cell_type": "code",
   "execution_count": 16,
   "id": "1d64126b",
   "metadata": {},
   "outputs": [
    {
     "name": "stdout",
     "output_type": "stream",
     "text": [
      " a nd b are equal\n"
     ]
    }
   ],
   "source": [
    "# if, elif,else\n",
    "a=50\n",
    "b=50\n",
    "if a>b:\n",
    "    print('a is big to b')\n",
    "elif a==b:\n",
    "    print(' a nd b are equal')\n",
    "else:\n",
    "    print('a is small to b')"
   ]
  },
  {
   "cell_type": "code",
   "execution_count": 5,
   "id": "07c057b3",
   "metadata": {},
   "outputs": [
    {
     "name": "stdout",
     "output_type": "stream",
     "text": [
      "c is big to b,a\n"
     ]
    }
   ],
   "source": [
    "# task\n",
    "a=100\n",
    "b=20\n",
    "c=30\n",
    "if a>b and a>c:\n",
    "    print('a is big to b,c')\n",
    "elif b>c and b>a:\n",
    "    print('b is big to c,a')\n",
    "elif c>a and c>b:\n",
    "    print('c is big to b,a')\n",
    "else:\n",
    "    print('a,b,c is equal')"
   ]
  },
  {
   "cell_type": "code",
   "execution_count": 20,
   "id": "40a9e051",
   "metadata": {},
   "outputs": [
    {
     "name": "stdout",
     "output_type": "stream",
     "text": [
      "not ok\n"
     ]
    }
   ],
   "source": [
    "a=50\n",
    "b=40\n",
    "if a>b and b==50:\n",
    "    print('ok')\n",
    "else:\n",
    "    print('not ok')"
   ]
  },
  {
   "cell_type": "code",
   "execution_count": 21,
   "id": "f9d430d3",
   "metadata": {},
   "outputs": [
    {
     "name": "stdout",
     "output_type": "stream",
     "text": [
      "ok\n"
     ]
    }
   ],
   "source": [
    "a=50\n",
    "b=40\n",
    "if a>b or b==50:\n",
    "    print('ok')\n",
    "else:\n",
    "    print('not ok')"
   ]
  },
  {
   "cell_type": "code",
   "execution_count": 25,
   "id": "e41a5b75",
   "metadata": {},
   "outputs": [
    {
     "name": "stdout",
     "output_type": "stream",
     "text": [
      "ok\n"
     ]
    }
   ],
   "source": [
    "a=50\n",
    "b=40\n",
    "if not b==50:\n",
    "    print('ok')\n",
    "else:\n",
    "    print('not ok')"
   ]
  },
  {
   "cell_type": "code",
   "execution_count": 26,
   "id": "5f5e973f",
   "metadata": {},
   "outputs": [
    {
     "name": "stdout",
     "output_type": "stream",
     "text": [
      "50 is small to 90\n"
     ]
    }
   ],
   "source": [
    "# short hand if\n",
    "a=50\n",
    "b=90\n",
    "'''if a<b:\n",
    "    print(f'{a} is small to {b}')'''\n",
    "if a<b:  print(f'{a} is small to {b}')"
   ]
  },
  {
   "cell_type": "code",
   "execution_count": 28,
   "id": "3e17ee3a",
   "metadata": {},
   "outputs": [
    {
     "name": "stdout",
     "output_type": "stream",
     "text": [
      "50 is small to 90\n"
     ]
    }
   ],
   "source": [
    "a=50\n",
    "b=90\n",
    "if a<b: print(a,\"is small to\",b)"
   ]
  },
  {
   "cell_type": "code",
   "execution_count": 27,
   "id": "5655fc89",
   "metadata": {},
   "outputs": [
    {
     "name": "stdout",
     "output_type": "stream",
     "text": [
      "500 is big to 90\n"
     ]
    }
   ],
   "source": [
    "# short hand if else\n",
    "a=500\n",
    "b=90\n",
    "'''if a<b:\n",
    "    print(f'{a} is small to {b}')\n",
    "else:\n",
    "    print(f'{a} is big to {b}')'''\n",
    "print(f'{a} is small to {b}') if a<b else print(f'{a} is big to {b}')"
   ]
  },
  {
   "cell_type": "code",
   "execution_count": 30,
   "id": "f89f6e1a",
   "metadata": {},
   "outputs": [
    {
     "name": "stdout",
     "output_type": "stream",
     "text": [
      "not big\n"
     ]
    }
   ],
   "source": [
    "# nested if\n",
    "x=100\n",
    "if x>25:\n",
    "    print('x is big')\n",
    "    if x>35:\n",
    "        print('x is big')\n",
    "        if x>40:\n",
    "            print('x is big')\n",
    "            if x>400:\n",
    "                print('big')\n",
    "            else:\n",
    "                print('x is less')\n",
    "else:\n",
    "    print('not big')"
   ]
  },
  {
   "cell_type": "code",
   "execution_count": 36,
   "id": "0ed8341c",
   "metadata": {},
   "outputs": [
    {
     "name": "stdout",
     "output_type": "stream",
     "text": [
      "enter a number18\n",
      "eligible\n"
     ]
    }
   ],
   "source": [
    "a=int(input('enter a number'))\n",
    "if a>=18:\n",
    "    print('eligible')\n",
    "else: print('not eligible')\n",
    "    "
   ]
  },
  {
   "cell_type": "markdown",
   "id": "0d0a21be",
   "metadata": {},
   "source": [
    "# loops"
   ]
  },
  {
   "cell_type": "code",
   "execution_count": 15,
   "id": "93e67d4b",
   "metadata": {},
   "outputs": [
    {
     "name": "stdout",
     "output_type": "stream",
     "text": [
      "1\n",
      "2\n",
      "3\n",
      "4\n",
      "5\n",
      "6\n"
     ]
    }
   ],
   "source": [
    "# for loops\n",
    "a=[1,2,3,4,5,6]\n",
    "for i in a:\n",
    "    print(i)"
   ]
  },
  {
   "cell_type": "code",
   "execution_count": 16,
   "id": "1938bded",
   "metadata": {},
   "outputs": [
    {
     "name": "stdout",
     "output_type": "stream",
     "text": [
      "s\n",
      "i\n",
      "v\n",
      "a\n"
     ]
    }
   ],
   "source": [
    "for i in 'siva':\n",
    "    print(i)"
   ]
  },
  {
   "cell_type": "code",
   "execution_count": 20,
   "id": "a7421834",
   "metadata": {},
   "outputs": [
    {
     "name": "stdout",
     "output_type": "stream",
     "text": [
      "mango\n",
      "cherry\n",
      "banana\n"
     ]
    }
   ],
   "source": [
    "# continue\n",
    "fruits=['apple','mango','cherry','banana']\n",
    "for i in fruits:\n",
    "    if i=='apple':\n",
    "        continue\n",
    "    print(i)"
   ]
  },
  {
   "cell_type": "code",
   "execution_count": 22,
   "id": "919dba4b",
   "metadata": {},
   "outputs": [
    {
     "name": "stdout",
     "output_type": "stream",
     "text": [
      "apple\n",
      "mango\n"
     ]
    }
   ],
   "source": [
    "# break\n",
    "fruits=['apple','mango','cherry','banana']\n",
    "for i in fruits:\n",
    "    if i=='cherry':\n",
    "        break\n",
    "    print(i)"
   ]
  },
  {
   "cell_type": "code",
   "execution_count": 23,
   "id": "e5abbe6d",
   "metadata": {},
   "outputs": [
    {
     "name": "stdout",
     "output_type": "stream",
     "text": [
      "apple\n",
      "mango\n",
      "cherry\n",
      "banana\n"
     ]
    }
   ],
   "source": [
    "# pass\n",
    "fruits=['apple','mango','cherry','banana']\n",
    "for i in fruits:\n",
    "    if i=='cherry':\n",
    "        pass\n",
    "    print(i)"
   ]
  },
  {
   "cell_type": "code",
   "execution_count": 24,
   "id": "96e1cf36",
   "metadata": {},
   "outputs": [
    {
     "name": "stdout",
     "output_type": "stream",
     "text": [
      "1 odd\n",
      "2 even\n",
      "3 odd\n",
      "4 even\n",
      "5 odd\n",
      "6 even\n",
      "7 odd\n",
      "8 even\n",
      "9 odd\n",
      "0 even\n"
     ]
    }
   ],
   "source": [
    "# for in even\n",
    "a=[1,2,3,4,5,6,7,8,9,0]\n",
    "for i in a:\n",
    "    if i%2==0:\n",
    "        print(i,'even')\n",
    "    else:\n",
    "        print(i,'odd')"
   ]
  },
  {
   "cell_type": "code",
   "execution_count": 33,
   "id": "73dc730c",
   "metadata": {},
   "outputs": [
    {
     "name": "stdout",
     "output_type": "stream",
     "text": [
      "0 even\n",
      "1 odd\n",
      "2 even\n",
      "3 odd\n",
      "4 even\n",
      "5 odd\n",
      "6 even\n",
      "7 odd\n",
      "8 even\n",
      "9 odd\n"
     ]
    }
   ],
   "source": [
    "# while\n",
    "a=10\n",
    "i=0\n",
    "while i<a:\n",
    "    if i%2==0:\n",
    "        print(i,'even')\n",
    "    else:\n",
    "        print(i,'odd')\n",
    "        \n",
    "    i=i+1"
   ]
  },
  {
   "cell_type": "code",
   "execution_count": 34,
   "id": "96afafe1",
   "metadata": {},
   "outputs": [
    {
     "name": "stdout",
     "output_type": "stream",
     "text": [
      "0\n",
      "1\n",
      "2\n",
      "3\n",
      "4\n",
      "5\n",
      "6\n",
      "7\n",
      "8\n",
      "9\n",
      "10\n",
      "11\n",
      "12\n",
      "13\n",
      "14\n",
      "15\n",
      "16\n",
      "17\n",
      "18\n",
      "19\n",
      "20\n",
      "21\n",
      "22\n",
      "23\n",
      "24\n",
      "25\n",
      "26\n",
      "27\n",
      "28\n",
      "29\n",
      "30\n",
      "31\n",
      "32\n",
      "33\n",
      "34\n",
      "35\n",
      "36\n",
      "37\n",
      "38\n",
      "39\n",
      "40\n",
      "41\n",
      "42\n",
      "43\n",
      "44\n",
      "45\n",
      "46\n",
      "47\n",
      "48\n",
      "49\n",
      "50\n"
     ]
    }
   ],
   "source": [
    "i=0\n",
    "while i<=50:\n",
    "    print(i)\n",
    "    i=i+1"
   ]
  },
  {
   "cell_type": "code",
   "execution_count": 35,
   "id": "77fea131",
   "metadata": {},
   "outputs": [
    {
     "name": "stdout",
     "output_type": "stream",
     "text": [
      "1 apple\n",
      "1 mango\n",
      "1 cherry\n",
      "1 banana\n",
      "1 orange\n",
      "2 apple\n",
      "2 mango\n",
      "2 cherry\n",
      "2 banana\n",
      "2 orange\n",
      "3 apple\n",
      "3 mango\n",
      "3 cherry\n",
      "3 banana\n",
      "3 orange\n",
      "4 apple\n",
      "4 mango\n",
      "4 cherry\n",
      "4 banana\n",
      "4 orange\n",
      "5 apple\n",
      "5 mango\n",
      "5 cherry\n",
      "5 banana\n",
      "5 orange\n"
     ]
    }
   ],
   "source": [
    "# nested for\n",
    "a=[1,2,3,4,5]\n",
    "b=['apple','mango','cherry','banana','orange']\n",
    "for i in a:\n",
    "    for j in b:\n",
    "        print(i,j)\n"
   ]
  },
  {
   "cell_type": "code",
   "execution_count": 7,
   "id": "86721f93",
   "metadata": {},
   "outputs": [
    {
     "name": "stdout",
     "output_type": "stream",
     "text": [
      "1\n",
      "2\n",
      "3\n"
     ]
    }
   ],
   "source": [
    "d={1:'siva',2:'chinna',3:'manoj'}\n",
    "for i in d:\n",
    "    print(i)"
   ]
  },
  {
   "cell_type": "code",
   "execution_count": 8,
   "id": "02d9c275",
   "metadata": {},
   "outputs": [
    {
     "name": "stdout",
     "output_type": "stream",
     "text": [
      "siva\n",
      "chinna\n",
      "manoj\n",
      "siva\n",
      "chinna\n",
      "manoj\n"
     ]
    }
   ],
   "source": [
    "d={1:'siva',2:'chinna',3:'manoj'}\n",
    "for i in d:\n",
    "    print(d[i])\n",
    "for i in d.values():\n",
    "    print(i)"
   ]
  },
  {
   "cell_type": "code",
   "execution_count": 14,
   "id": "2dcd69e1",
   "metadata": {},
   "outputs": [
    {
     "name": "stdout",
     "output_type": "stream",
     "text": [
      "(1, 'siva')\n",
      "(2, 'chinna')\n",
      "(3, 'manoj')\n"
     ]
    }
   ],
   "source": [
    "d={1:'siva',2:'chinna',3:'manoj'}\n",
    "for i in d.items():\n",
    "    print(i)"
   ]
  },
  {
   "cell_type": "code",
   "execution_count": 28,
   "id": "d4312aed",
   "metadata": {},
   "outputs": [
    {
     "name": "stdout",
     "output_type": "stream",
     "text": [
      "1\n",
      "2\n",
      "4\n",
      "7\n",
      "56\n"
     ]
    }
   ],
   "source": [
    "s={1,2,4,56,7}\n",
    "for i in s:\n",
    "    print(i)"
   ]
  },
  {
   "cell_type": "code",
   "execution_count": 4,
   "id": "2101682b",
   "metadata": {},
   "outputs": [
    {
     "name": "stdout",
     "output_type": "stream",
     "text": [
      "1\n",
      "2\n",
      "5\n",
      "10\n",
      "25\n"
     ]
    }
   ],
   "source": [
    "a=50\n",
    "i=1\n",
    "while i<a:\n",
    "    if a%i==0:\n",
    "        print(i)\n",
    "    i=i+1"
   ]
  },
  {
   "cell_type": "code",
   "execution_count": null,
   "id": "1f4ecaf4",
   "metadata": {},
   "outputs": [],
   "source": []
  },
  {
   "cell_type": "code",
   "execution_count": null,
   "id": "3f6a2439",
   "metadata": {},
   "outputs": [],
   "source": []
  }
 ],
 "metadata": {
  "kernelspec": {
   "display_name": "Python 3 (ipykernel)",
   "language": "python",
   "name": "python3"
  },
  "language_info": {
   "codemirror_mode": {
    "name": "ipython",
    "version": 3
   },
   "file_extension": ".py",
   "mimetype": "text/x-python",
   "name": "python",
   "nbconvert_exporter": "python",
   "pygments_lexer": "ipython3",
   "version": "3.10.9"
  }
 },
 "nbformat": 4,
 "nbformat_minor": 5
}
