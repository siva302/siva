{
 "cells": [
  {
   "cell_type": "code",
   "execution_count": 1,
   "id": "dbd95261",
   "metadata": {},
   "outputs": [
    {
     "name": "stdout",
     "output_type": "stream",
     "text": [
      "hello\n"
     ]
    }
   ],
   "source": [
    "# String\n",
    "'''* It is collection of character\n",
    "* it was using single and double quotes (' ',\" \")\n",
    "* sample create a string'''\n",
    "a='hello'\n",
    "print(a)"
   ]
  },
  {
   "cell_type": "code",
   "execution_count": 3,
   "id": "2e6c5f3e",
   "metadata": {},
   "outputs": [
    {
     "name": "stdout",
     "output_type": "stream",
     "text": [
      "i\n",
      "u\n",
      "m\n"
     ]
    }
   ],
   "source": [
    "# index\n",
    "a= 'i am studying in kothacheruvu'\n",
    "print(a[0])\n",
    "print(a[-1])\n",
    "print(a[3])"
   ]
  },
  {
   "cell_type": "code",
   "execution_count": 10,
   "id": "a9c0879e",
   "metadata": {},
   "outputs": [
    {
     "name": "stdout",
     "output_type": "stream",
     "text": [
      "i am studying in kothacheruvu\n",
      "ia t\n",
      "i am stud\n",
      "uvurehcahtok ni gniyduts ma i\n",
      "ni gniyduts ma i\n"
     ]
    }
   ],
   "source": [
    "# slicing\n",
    "a=\"i am studying in kothacheruvu\"\n",
    "print(a[:])\n",
    "print(a[0:8:2])\n",
    "print(a[:9])\n",
    "# reversing\n",
    "print(a[::-1])\n",
    "print(a[-14::-1])\n"
   ]
  },
  {
   "cell_type": "code",
   "execution_count": 2,
   "id": "cb4e1d0d",
   "metadata": {},
   "outputs": [
    {
     "name": "stdout",
     "output_type": "stream",
     "text": [
      "livasankar\n",
      "['l', 'i', 'v', 'a', 's', 'a', 'n', 'k', 'a', 'r']\n",
      "sivasankar is nice\n",
      "siva and sankar\n",
      "sivasankar\n"
     ]
    }
   ],
   "source": [
    "#delete /update from a string\n",
    "''' * string is immutable ,but by using convert the string into list'''\n",
    "# update\n",
    "a='sivasankar'\n",
    "b=list(a)\n",
    "b[0]='l'\n",
    "k=''.join(b)\n",
    "print(k)\n",
    "print(b)\n",
    "c=a+' is nice'\n",
    "d=a[0:4]+' and '+a[4:]\n",
    "print(c)\n",
    "print(d)\n",
    "# delete\n",
    "e=a[0:4]+a[4:]\n",
    "print(e)\n",
    "\n"
   ]
  },
  {
   "cell_type": "code",
   "execution_count": 11,
   "id": "494deb0e",
   "metadata": {},
   "outputs": [
    {
     "name": "stdout",
     "output_type": "stream",
     "text": [
      "  SIVA SANKAR :-upper\n",
      "  siva sankar :-lower\n",
      "  hiva hankar :-replace\n",
      "['  siv', ' s', 'nk', 'r'] :-split\n",
      "siva sankar :-strip\n",
      "  SIVA SANKAR :-swapcase\n",
      "False :-isupper\n",
      "True :-islower\n",
      "13 :-len\n",
      "3 :-count\n"
     ]
    }
   ],
   "source": [
    "# modify\n",
    "# upper,lower,remove spces- replace,strip,split\n",
    "a='  siva sankar'\n",
    "print(a.upper(),\":-upper\")\n",
    "print(a.lower(),\":-lower\")\n",
    "print(a.replace('s','h'),\":-replace\")\n",
    "print(a.split('a'),\":-split\")\n",
    "print(a.strip(),\":-strip\")\n",
    "print(a.swapcase(),\":-swapcase\")\n",
    "print(a.isupper(),\":-isupper\")\n",
    "print(a.islower(),\":-islower\")\n",
    "print(len(a),\":-len\")\n",
    "print(a.count('a'),\":-count\")\n",
    "\n",
    "\n",
    "\n"
   ]
  },
  {
   "cell_type": "code",
   "execution_count": 8,
   "id": "3e2c2141",
   "metadata": {},
   "outputs": [
    {
     "name": "stdout",
     "output_type": "stream",
     "text": [
      "siva sankar\n"
     ]
    }
   ],
   "source": [
    "# concatenation\n",
    "a='siva'\n",
    "b='sankar'\n",
    "c=a+\" \"+b\n",
    "print(c)"
   ]
  },
  {
   "cell_type": "code",
   "execution_count": 12,
   "id": "d5ffbb35",
   "metadata": {},
   "outputs": [
    {
     "name": "stdout",
     "output_type": "stream",
     "text": [
      "he was drinking a cool water and eating a mango\n"
     ]
    }
   ],
   "source": [
    "# format\n",
    "a='drinking'\n",
    "b='and eating a mango'\n",
    "print('he was {} a cool water {}'.format(a,b))\n"
   ]
  },
  {
   "cell_type": "markdown",
   "id": "be5820e1",
   "metadata": {},
   "source": [
    "# string method"
   ]
  },
  {
   "cell_type": "code",
   "execution_count": 16,
   "id": "c8b0b93d",
   "metadata": {},
   "outputs": [
    {
     "name": "stdout",
     "output_type": "stream",
     "text": [
      "['i', 'm goto koth', 'cheruvu ', 't evening'] :-split\n",
      "iam goto kothacheruvu at evening :-strip\n",
      "IAM GOTO KOTHACHERUVU AT EVENING :-swapcase\n",
      "False :-isupper\n",
      "True :-islower\n",
      "32 :-len\n",
      "3 :-count\n",
      "Iam goto kothacheruvu at evening ;-capitalize\n",
      "b'iam goto kothacheruvu at evening' ;- encode\n"
     ]
    }
   ],
   "source": [
    "a='iam goto kothacheruvu at evening'\n",
    "print(a.split('a'),\":-split\")\n",
    "print(a.strip(),\":-strip\")\n",
    "print(a.swapcase(),\":-swapcase\")\n",
    "print(a.isupper(),\":-isupper\")\n",
    "print(a.islower(),\":-islower\")\n",
    "print(len(a),\":-len\")\n",
    "print(a.count('a'),\":-count\")\n",
    "print(a.capitalize(),';-capitalize')\n",
    "print(a.encode(),';- encode')\n",
    "print(a.find())"
   ]
  },
  {
   "cell_type": "code",
   "execution_count": null,
   "id": "211d4e97",
   "metadata": {},
   "outputs": [],
   "source": []
  }
 ],
 "metadata": {
  "kernelspec": {
   "display_name": "Python 3 (ipykernel)",
   "language": "python",
   "name": "python3"
  },
  "language_info": {
   "codemirror_mode": {
    "name": "ipython",
    "version": 3
   },
   "file_extension": ".py",
   "mimetype": "text/x-python",
   "name": "python",
   "nbconvert_exporter": "python",
   "pygments_lexer": "ipython3",
   "version": "3.10.9"
  }
 },
 "nbformat": 4,
 "nbformat_minor": 5
}
