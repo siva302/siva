{
 "cells": [
  {
   "cell_type": "markdown",
   "id": "fdc3a1ec",
   "metadata": {},
   "source": [
    "1.Write a python programme to reverse each word of a given string;\n",
    "Str=”Welcome to Mitraz”\n",
    "\t Expected Output: emocleW ot zartiM"
   ]
  },
  {
   "cell_type": "code",
   "execution_count": 1,
   "id": "8c4ea71f",
   "metadata": {},
   "outputs": [
    {
     "data": {
      "text/plain": [
       "'emocleWotzartiM'"
      ]
     },
     "execution_count": 1,
     "metadata": {},
     "output_type": "execute_result"
    }
   ],
   "source": [
    "s=\"Welcome to Mitraz\"\n",
    "k=s[::-1]\n",
    "j=k.split()\n",
    "m=j[::-1]\n",
    "s=''.join(m)\n",
    "s\n"
   ]
  },
  {
   "cell_type": "code",
   "execution_count": 9,
   "id": "e456ef6b",
   "metadata": {},
   "outputs": [
    {
     "name": "stdout",
     "output_type": "stream",
     "text": [
      "Line1\n",
      "Line2\n",
      "Line3\n",
      "Line4\n",
      "Line5\n"
     ]
    }
   ],
   "source": [
    " for i in range(1, 6):\n",
    "        print(f\"Line{i}\")\n"
   ]
  },
  {
   "cell_type": "markdown",
   "id": "a6d5d208",
   "metadata": {},
   "source": [
    "2.Create a text file(sample.txt) with the following text. The data should be shown like below.\n",
    "Line1\n",
    "Line2\n",
    "Line3\n",
    "Line4\n",
    "Line5\n",
    "Read text file into a variable and replace all newlines with space. Expected Output:  Line1 Line2 Line3 Line4 Line5"
   ]
  },
  {
   "cell_type": "code",
   "execution_count": 2,
   "id": "ef826db4",
   "metadata": {},
   "outputs": [
    {
     "name": "stdout",
     "output_type": "stream",
     "text": [
      "Expected Output: Line1 Line2 Line3 Line4 Line5 \n"
     ]
    }
   ],
   "source": [
    "\n",
    "with open(\"sample.txt\", \"w\") as file:\n",
    "    for i in range(1, 6):\n",
    "        file.write(f\"Line{i}\\n\")\n",
    "with open(\"sample.txt\", \"r\") as file:\n",
    "    content = file.read().replace('\\n', ' ')\n",
    "\n",
    "print(\"Expected Output:\", content)\n"
   ]
  },
  {
   "cell_type": "markdown",
   "id": "f81834f3",
   "metadata": {},
   "source": [
    "3.Remove items from a list while iterating\n",
    "Description:\n",
    "In this question, You need to remove items from a list while iterating but without creating a different copy of a list.\n",
    "Remove numbers greater than 50\n",
    "Given:\n",
    "number_list = [10, 20, 30, 40, 50, 60, 70, 80, 90, 100]\n",
    "Expected Output: -\n",
    "[10, 20, 30, 40, 50]"
   ]
  },
  {
   "cell_type": "code",
   "execution_count": 8,
   "id": "deb8f3c1",
   "metadata": {},
   "outputs": [
    {
     "name": "stdout",
     "output_type": "stream",
     "text": [
      "[10, 20, 30, 40, 50]\n"
     ]
    }
   ],
   "source": [
    "nt = [10, 20, 30, 40, 50, 60, 70, 80, 90, 100]\n",
    "l=[]\n",
    "for i in nt:\n",
    "\tif i<=50:\n",
    "\t\tl.append(i)\n",
    "print(l)\n"
   ]
  },
  {
   "cell_type": "markdown",
   "id": "02a5076a",
   "metadata": {},
   "source": [
    "4.Write a python programme to reverse Dictionary mapping\n",
    "Given:\n",
    "ascii_dict = {'A': 65, 'B': 66, 'C': 67, 'D': 68}                                                        Expected Output:\n",
    "{65: 'A', 66: 'B', 67: 'C', 68: 'D'}"
   ]
  },
  {
   "cell_type": "code",
   "execution_count": 27,
   "id": "f1d88432",
   "metadata": {},
   "outputs": [
    {
     "data": {
      "text/plain": [
       "{65: 'A', 66: 'B', 67: 'C', 68: 'D'}"
      ]
     },
     "execution_count": 27,
     "metadata": {},
     "output_type": "execute_result"
    }
   ],
   "source": [
    "d={'A': 65, 'B': 66, 'C': 67, 'D': 68}\n",
    "d1={v:k for k,v in d.items()}\n",
    "d1\n"
   ]
  },
  {
   "cell_type": "code",
   "execution_count": null,
   "id": "8d16f75b",
   "metadata": {},
   "outputs": [],
   "source": [
    "\n",
    "\n",
    "\n"
   ]
  },
  {
   "cell_type": "markdown",
   "id": "35e9b1eb",
   "metadata": {},
   "source": [
    "5.Write a python programme to display duplicate items from a list.\n",
    "sample_list = [10, 20, 60, 30, 20, 40, 30, 60, 70, 80]\n",
    "\tExpected Output : [20,60,30]"
   ]
  },
  {
   "cell_type": "code",
   "execution_count": 18,
   "id": "095e84c7",
   "metadata": {},
   "outputs": [
    {
     "name": "stdout",
     "output_type": "stream",
     "text": [
      "[20, 60, 30]\n"
     ]
    }
   ],
   "source": [
    "lis = [10, 20, 60, 30, 20, 40, 30, 60, 70, 80]\n",
    "x = []\n",
    "y = []\n",
    "for i in lis:\n",
    "    if i not in x:\n",
    "        x.append(i)\n",
    "for i in x:\n",
    "    if lis.count(i) > 1:\n",
    "        y.append(i)\n",
    "print(y)\n"
   ]
  },
  {
   "cell_type": "code",
   "execution_count": null,
   "id": "76417059",
   "metadata": {},
   "outputs": [],
   "source": []
  }
 ],
 "metadata": {
  "kernelspec": {
   "display_name": "Python 3 (ipykernel)",
   "language": "python",
   "name": "python3"
  },
  "language_info": {
   "codemirror_mode": {
    "name": "ipython",
    "version": 3
   },
   "file_extension": ".py",
   "mimetype": "text/x-python",
   "name": "python",
   "nbconvert_exporter": "python",
   "pygments_lexer": "ipython3",
   "version": "3.10.9"
  }
 },
 "nbformat": 4,
 "nbformat_minor": 5
}
