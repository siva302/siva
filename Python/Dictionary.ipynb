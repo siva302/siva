{
 "cells": [
  {
   "cell_type": "code",
   "execution_count": 2,
   "id": "f6a5bf43",
   "metadata": {},
   "outputs": [
    {
     "name": "stdout",
     "output_type": "stream",
     "text": [
      "{'a': 1, 'b': 1, 'c': 3} <class 'dict'>\n"
     ]
    }
   ],
   "source": [
    "a={\"a\":1,\"b\":1,\"c\":3}\n",
    "print(a,type(a))"
   ]
  },
  {
   "cell_type": "code",
   "execution_count": 7,
   "id": "90577c99",
   "metadata": {},
   "outputs": [
    {
     "name": "stdout",
     "output_type": "stream",
     "text": [
      "{'name': 'siva'} <class 'dict'>\n",
      "[1, 2, 3] <class 'list'>\n",
      "{8, 1, 'siva'} <class 'set'>\n",
      "(1,) <class 'tuple'>\n"
     ]
    }
   ],
   "source": [
    "d={\"name\":\"siva\"}\n",
    "print(d,type(d))\n",
    "l=[1,2,3,]\n",
    "print(l,type(l))\n",
    "s={1,8,\"siva\"}\n",
    "print(s,type(s))\n",
    "t=(1,)\n",
    "print(t,type(t))"
   ]
  },
  {
   "cell_type": "code",
   "execution_count": 16,
   "id": "c59d548d",
   "metadata": {},
   "outputs": [
    {
     "name": "stdout",
     "output_type": "stream",
     "text": [
      "{1: 'name'} <class 'dict'>\n"
     ]
    }
   ],
   "source": [
    "# constructor\n",
    "d=dict({1:\"name\"})\n",
    "print(d,type(d))"
   ]
  },
  {
   "cell_type": "code",
   "execution_count": 25,
   "id": "7a177e9e",
   "metadata": {},
   "outputs": [
    {
     "name": "stdout",
     "output_type": "stream",
     "text": [
      "{1: 'siva', 's.no': 2} <class 'dict'>\n"
     ]
    }
   ],
   "source": [
    "# create a dict\n",
    "d=dict([(1,'siva'),('s.no',2)])\n",
    "print(d,type(d))"
   ]
  },
  {
   "cell_type": "code",
   "execution_count": 26,
   "id": "0fbbfddc",
   "metadata": {},
   "outputs": [
    {
     "name": "stdout",
     "output_type": "stream",
     "text": [
      "{1: 'siva', 2: 'nandha', 'friends': {1: 'siva', 2: 'rasul'}}\n"
     ]
    }
   ],
   "source": [
    "# nested dict\n",
    "d={1:\"siva\",2:\"nandha\",\"friends\":{1:'siva',2:'rasul'}}\n",
    "print(d)"
   ]
  },
  {
   "cell_type": "code",
   "execution_count": 38,
   "id": "a347fad1",
   "metadata": {},
   "outputs": [
    {
     "name": "stdout",
     "output_type": "stream",
     "text": [
      "{} <class 'dict'>\n"
     ]
    }
   ],
   "source": [
    "#d=dict()\n",
    "d={}\n",
    "print(d,type(d))"
   ]
  },
  {
   "cell_type": "code",
   "execution_count": 37,
   "id": "c8ad91de",
   "metadata": {},
   "outputs": [
    {
     "name": "stdout",
     "output_type": "stream",
     "text": [
      "() <class 'tuple'>\n"
     ]
    }
   ],
   "source": [
    "#s=set()\n",
    "s=()\n",
    "print(s,type(s))"
   ]
  },
  {
   "cell_type": "code",
   "execution_count": 36,
   "id": "34cbd16a",
   "metadata": {},
   "outputs": [
    {
     "name": "stdout",
     "output_type": "stream",
     "text": [
      "() <class 'tuple'>\n"
     ]
    }
   ],
   "source": [
    "#s=tuple()\n",
    "s=()\n",
    "print(s,type(s))"
   ]
  },
  {
   "cell_type": "code",
   "execution_count": 35,
   "id": "f5d93d7f",
   "metadata": {},
   "outputs": [
    {
     "name": "stdout",
     "output_type": "stream",
     "text": [
      "[] <class 'list'>\n"
     ]
    }
   ],
   "source": [
    "#s=list()\n",
    "s=[]\n",
    "print(s,type(s))"
   ]
  },
  {
   "cell_type": "code",
   "execution_count": 5,
   "id": "e4089bc1",
   "metadata": {},
   "outputs": [
    {
     "name": "stdout",
     "output_type": "stream",
     "text": [
      "Empty Dictionary: \n",
      "{}\n",
      "\n",
      "Adding a Nested Key: \n",
      "{5: {'Nested': {'1': 'aa', '2': 'bb'}}}\n"
     ]
    }
   ],
   "source": [
    "# Creating an empty Dictionary \n",
    "Dict = {} \n",
    "print(\"Empty Dictionary: \") \n",
    "print(Dict) \n",
    "  \n",
    "  \n",
    "# Adding Nested Key value to Dictionary \n",
    "Dict[5] = {'Nested': {'1': 'aa', '2': 'bb'}} \n",
    "print(\"\\nAdding a Nested Key: \") \n",
    "print(Dict)"
   ]
  },
  {
   "cell_type": "code",
   "execution_count": 2,
   "id": "dcd46873",
   "metadata": {},
   "outputs": [
    {
     "name": "stdout",
     "output_type": "stream",
     "text": [
      "\n",
      "Dictionary after adding 3 elements: \n",
      "{0: 'aa', 2: 'bb', 3: 123, 'Value_set': (2, 3, 4), 5: {'Nested': {'1': 'aa', '2': 'bb'}}}\n"
     ]
    }
   ],
   "source": [
    "# Adding elements one at a time \n",
    "Dict[0] = 'aa'\n",
    "Dict[2] = 'bb'\n",
    "Dict[3] = 123\n",
    "print(\"\\nDictionary after adding 3 elements: \") \n",
    "print(Dict) \n",
    "  "
   ]
  },
  {
   "cell_type": "code",
   "execution_count": 4,
   "id": "68ddbfdc",
   "metadata": {},
   "outputs": [
    {
     "name": "stdout",
     "output_type": "stream",
     "text": [
      "\n",
      "Dictionary after adding 3 elements: \n",
      "{'Value_set': (2, 3, 4), 2: 'Welcome', 5: {'Nested': {'1': 'aa', '2': 'bb'}}}\n"
     ]
    }
   ],
   "source": [
    "# Adding set of values \n",
    "# to a single Key \n",
    "Dict['Value_set'] = 2, 3, 4\n",
    "print(\"\\nDictionary after adding 3 elements: \") \n",
    "print(Dict)"
   ]
  },
  {
   "cell_type": "code",
   "execution_count": 6,
   "id": "da561b6a",
   "metadata": {},
   "outputs": [
    {
     "name": "stdout",
     "output_type": "stream",
     "text": [
      "\n",
      "Updated key value: \n",
      "{5: {'Nested': {'1': 'aa', '2': 'bb'}}, 2: 'Welcome'}\n"
     ]
    }
   ],
   "source": [
    "# Updating existing Key's Value \n",
    "Dict[2] = 'Welcome'\n",
    "print(\"\\nUpdated key value: \") \n",
    "print(Dict) "
   ]
  },
  {
   "cell_type": "code",
   "execution_count": 7,
   "id": "89087959",
   "metadata": {},
   "outputs": [
    {
     "name": "stdout",
     "output_type": "stream",
     "text": [
      "Accessing a element using key:\n",
      "To\n",
      "Accessing a element using key:\n",
      "Welcome\n"
     ]
    }
   ],
   "source": [
    "# Creating a Dictionary \n",
    "Dict = {1: 'Welcome', 'name': 'To', 3: 'India'} \n",
    "  \n",
    "# accessing a element using key \n",
    "print(\"Accessing a element using key:\") \n",
    "print(Dict['name']) \n",
    "  \n",
    "# accessing a element using key \n",
    "print(\"Accessing a element using key:\") \n",
    "print(Dict[1]) "
   ]
  },
  {
   "cell_type": "code",
   "execution_count": 8,
   "id": "609acec1",
   "metadata": {},
   "outputs": [
    {
     "name": "stdout",
     "output_type": "stream",
     "text": [
      "{'Dict1': {1: 'Welcome'}, 'Dict2': {'Name': 'AAA'}}\n",
      "{1: 'Welcome'}\n",
      "Welcome\n",
      "AAA\n"
     ]
    }
   ],
   "source": [
    "# Creating a Dictionary \n",
    "Dict = {'Dict1': {1: 'Welcome'}, \n",
    "        'Dict2': {'Name': 'AAA'}} \n",
    "print(Dict)\n",
    "  \n",
    "# Accessing element using key \n",
    "print(Dict['Dict1']) \n",
    "print(Dict['Dict1'][1]) \n",
    "print(Dict['Dict2']['Name']) "
   ]
  },
  {
   "cell_type": "code",
   "execution_count": null,
   "id": "9ef36adb",
   "metadata": {},
   "outputs": [],
   "source": []
  }
 ],
 "metadata": {
  "kernelspec": {
   "display_name": "Python 3 (ipykernel)",
   "language": "python",
   "name": "python3"
  },
  "language_info": {
   "codemirror_mode": {
    "name": "ipython",
    "version": 3
   },
   "file_extension": ".py",
   "mimetype": "text/x-python",
   "name": "python",
   "nbconvert_exporter": "python",
   "pygments_lexer": "ipython3",
   "version": "3.10.9"
  }
 },
 "nbformat": 4,
 "nbformat_minor": 5
}
