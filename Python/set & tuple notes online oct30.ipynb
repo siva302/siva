{
 "cells": [
  {
   "cell_type": "markdown",
   "id": "b46f95c3",
   "metadata": {},
   "source": [
    "# sets\n",
    " it is unorder,unindex,unchangleable,donot allow duplicates"
   ]
  },
  {
   "cell_type": "code",
   "execution_count": 1,
   "id": "f2755bc3",
   "metadata": {},
   "outputs": [
    {
     "name": "stdout",
     "output_type": "stream",
     "text": [
      "{1, 2, 3, 4} <class 'set'>\n"
     ]
    }
   ],
   "source": [
    "# create a set\n",
    "set={1,2,3,4}\n",
    "print(set,type(set))"
   ]
  },
  {
   "cell_type": "code",
   "execution_count": 2,
   "id": "2ceb4ea8",
   "metadata": {},
   "outputs": [
    {
     "name": "stdout",
     "output_type": "stream",
     "text": [
      "{1, 2, 3}\n"
     ]
    }
   ],
   "source": [
    "# not allow duplicataes\n",
    "s={1,2,3,1,2,3}\n",
    "print(s)"
   ]
  },
  {
   "cell_type": "code",
   "execution_count": 2,
   "id": "b478dd60",
   "metadata": {},
   "outputs": [
    {
     "name": "stdout",
     "output_type": "stream",
     "text": [
      "{1, 2, 3}\n"
     ]
    }
   ],
   "source": [
    "# construction\n",
    "s=set([1,2,3])\n",
    "print(s)"
   ]
  },
  {
   "cell_type": "code",
   "execution_count": 4,
   "id": "258f862e",
   "metadata": {},
   "outputs": [
    {
     "name": "stdout",
     "output_type": "stream",
     "text": [
      "chinna\n",
      "rasul\n",
      "siva\n"
     ]
    }
   ],
   "source": [
    "#accessing sets and also a unorder\n",
    "a={'siva','chinna','rasul'}\n",
    "for i in a:\n",
    "    print(i)"
   ]
  },
  {
   "cell_type": "code",
   "execution_count": 5,
   "id": "1c898e77",
   "metadata": {},
   "outputs": [
    {
     "name": "stdout",
     "output_type": "stream",
     "text": [
      "True\n"
     ]
    }
   ],
   "source": [
    "# checking\n",
    "a={'siva','chinna','rasul'}\n",
    "print('siva' in a)"
   ]
  },
  {
   "cell_type": "code",
   "execution_count": 6,
   "id": "2ad137d2",
   "metadata": {},
   "outputs": [
    {
     "name": "stdout",
     "output_type": "stream",
     "text": [
      "{'chinna', 'rasul', 'siva', 'kavi'}\n"
     ]
    }
   ],
   "source": [
    "# Once a set is created, you cannot change its items, but you can add new items.\n",
    "# add set items\n",
    "a={'siva','chinna','rasul'}\n",
    "a.add('kavi')\n",
    "print(a)\n"
   ]
  },
  {
   "cell_type": "code",
   "execution_count": 7,
   "id": "299c2c0e",
   "metadata": {},
   "outputs": [
    {
     "name": "stdout",
     "output_type": "stream",
     "text": [
      "{1, 'rasul', 2, 'chinna', 'siva', 3}\n"
     ]
    }
   ],
   "source": [
    "# update\n",
    "a={'siva','chinna','rasul'}\n",
    "a.update(s)\n",
    "print(a)"
   ]
  },
  {
   "cell_type": "code",
   "execution_count": 9,
   "id": "8cf661d6",
   "metadata": {},
   "outputs": [
    {
     "name": "stdout",
     "output_type": "stream",
     "text": [
      "{'rasul', 'siva'}\n"
     ]
    }
   ],
   "source": [
    "# Note: Update function is not only consised with set obj but we can add any other data\n",
    "# remove\n",
    "a={'siva','chinna','rasul'}\n",
    "a.remove('chinna')\n",
    "print(a)"
   ]
  },
  {
   "cell_type": "code",
   "execution_count": 12,
   "id": "b6532327",
   "metadata": {},
   "outputs": [
    {
     "name": "stdout",
     "output_type": "stream",
     "text": [
      "{'chinna', 'rasul', 'siva'}\n"
     ]
    }
   ],
   "source": [
    "# Note: If the item to remove does not exist, discard() will NOT raise an error.\n",
    "a={'siva','chinna','rasul'}\n",
    "a.discard('chinnas')\n",
    "print(a)"
   ]
  },
  {
   "cell_type": "code",
   "execution_count": 16,
   "id": "d63854b3",
   "metadata": {},
   "outputs": [
    {
     "name": "stdout",
     "output_type": "stream",
     "text": [
      "{'mango', 'apple'}\n"
     ]
    }
   ],
   "source": [
    "# you can also use the pop() method to remove an item, but this method will remove a random item, so you cannot be sure what item that gets removed.\n",
    "\n",
    "# The return value of the pop() method is the removed item.\n",
    "a={'mango','apple','cherry'}\n",
    "a.pop()\n",
    "print(a)"
   ]
  },
  {
   "cell_type": "code",
   "execution_count": 17,
   "id": "05c8b6a4",
   "metadata": {},
   "outputs": [
    {
     "name": "stdout",
     "output_type": "stream",
     "text": [
      "set()\n"
     ]
    }
   ],
   "source": [
    "# clear\n",
    "a={'mango','apple','cherry'}\n",
    "a.clear()\n",
    "print(a)"
   ]
  },
  {
   "cell_type": "code",
   "execution_count": 18,
   "id": "5e80611a",
   "metadata": {},
   "outputs": [
    {
     "ename": "NameError",
     "evalue": "name 's' is not defined",
     "output_type": "error",
     "traceback": [
      "\u001b[1;31m---------------------------------------------------------------------------\u001b[0m",
      "\u001b[1;31mNameError\u001b[0m                                 Traceback (most recent call last)",
      "Cell \u001b[1;32mIn[18], line 4\u001b[0m\n\u001b[0;32m      2\u001b[0m s\u001b[38;5;241m=\u001b[39m{\u001b[38;5;241m1\u001b[39m,\u001b[38;5;241m2\u001b[39m,\u001b[38;5;241m3\u001b[39m,\u001b[38;5;241m4\u001b[39m}\n\u001b[0;32m      3\u001b[0m \u001b[38;5;28;01mdel\u001b[39;00m s\n\u001b[1;32m----> 4\u001b[0m \u001b[38;5;28mprint\u001b[39m(\u001b[43ms\u001b[49m)\n",
      "\u001b[1;31mNameError\u001b[0m: name 's' is not defined"
     ]
    }
   ],
   "source": [
    "# delete\n",
    "s={1,2,3,4}\n",
    "del s\n",
    "print(s)"
   ]
  },
  {
   "cell_type": "code",
   "execution_count": 19,
   "id": "ea242321",
   "metadata": {},
   "outputs": [
    {
     "name": "stdout",
     "output_type": "stream",
     "text": [
      "{1, 2, 3, 'apple', 'banana', 'cherry'}\n"
     ]
    }
   ],
   "source": [
    "# join\n",
    "# update\n",
    "set={'apple','banana','cherry'}\n",
    "list=[1,2,3]\n",
    "set.update(list)\n",
    "print(set)"
   ]
  },
  {
   "cell_type": "code",
   "execution_count": 37,
   "id": "e9560cf3",
   "metadata": {},
   "outputs": [
    {
     "name": "stdout",
     "output_type": "stream",
     "text": [
      "{3}\n"
     ]
    }
   ],
   "source": [
    "# intersection update\n",
    "set={'apple','banana','cherry',3}\n",
    "list=[1,2,3]\n",
    "set.intersection_update(list)\n",
    "print(set)"
   ]
  },
  {
   "cell_type": "code",
   "execution_count": 36,
   "id": "2ae3ba31",
   "metadata": {},
   "outputs": [
    {
     "name": "stdout",
     "output_type": "stream",
     "text": [
      "{3, 45, 6, 7}\n"
     ]
    }
   ],
   "source": [
    "# union\n",
    "set={45,6,7,3}\n",
    "list=[1,2,3]\n",
    "set.union(list)\n",
    "print(set)"
   ]
  },
  {
   "cell_type": "code",
   "execution_count": 41,
   "id": "97cfa765",
   "metadata": {},
   "outputs": [
    {
     "name": "stdout",
     "output_type": "stream",
     "text": [
      "{'apple'}\n"
     ]
    }
   ],
   "source": [
    "# intersection\n",
    "x = {\"apple\", \"banana\", \"cherry\"}\n",
    "y = {\"google\", \"microsoft\", \"apple\"}\n",
    "\n",
    "z = x.intersection(y)\n",
    "\n",
    "print(z)"
   ]
  },
  {
   "cell_type": "code",
   "execution_count": 42,
   "id": "f9d45cc7",
   "metadata": {},
   "outputs": [
    {
     "name": "stdout",
     "output_type": "stream",
     "text": [
      "{'cherry', 'microsoft', 'banana', 'google'}\n"
     ]
    }
   ],
   "source": [
    "# The symmetric_difference_update() method will keep only the elements that are NOT present in both setsr\n",
    "x = {\"apple\", \"banana\", \"cherry\"}\n",
    "y = {\"google\", \"microsoft\", \"apple\"}\n",
    "\n",
    "x.symmetric_difference_update(y)\n",
    "\n",
    "print(x)"
   ]
  },
  {
   "cell_type": "code",
   "execution_count": 43,
   "id": "24005bc5",
   "metadata": {},
   "outputs": [
    {
     "name": "stdout",
     "output_type": "stream",
     "text": [
      "{'cherry', 'microsoft', 'banana', 'google'}\n"
     ]
    }
   ],
   "source": [
    "# The symmetric_difference_update() method will keep only the elements that are NOT present in both sets.\n",
    "x = {\"apple\", \"banana\", \"cherry\"}\n",
    "y = {\"google\", \"microsoft\", \"apple\"}\n",
    "\n",
    "x.symmetric_difference_update(y)\n",
    "\n",
    "print(x)\n"
   ]
  },
  {
   "cell_type": "markdown",
   "id": "c6aa2334",
   "metadata": {},
   "source": [
    "# tuple"
   ]
  },
  {
   "cell_type": "code",
   "execution_count": 44,
   "id": "c2728418",
   "metadata": {},
   "outputs": [
    {
     "name": "stdout",
     "output_type": "stream",
     "text": [
      "('apple', 'banana', 'cherry', 'apple', 'cherry')\n"
     ]
    }
   ],
   "source": [
    "thistuple = (\"apple\", \"banana\", \"cherry\", \"apple\", \"cherry\")\n",
    "print(thistuple)"
   ]
  },
  {
   "cell_type": "code",
   "execution_count": 45,
   "id": "66e4745f",
   "metadata": {},
   "outputs": [
    {
     "name": "stdout",
     "output_type": "stream",
     "text": [
      "banana\n",
      "('cherry', 'apple', 'cherry')\n",
      "cherry\n",
      "('apple', 'banana', 'cherry', 'apple')\n"
     ]
    }
   ],
   "source": [
    "#access\n",
    "thistuple = (\"apple\", \"banana\", \"cherry\",\"apple\", \"cherry\")\n",
    "print(thistuple[1])\n",
    "print(thistuple[2:5])\n",
    "print(thistuple[-1])\n",
    "print(thistuple[:4])"
   ]
  },
  {
   "cell_type": "code",
   "execution_count": 1,
   "id": "17d92dae",
   "metadata": {},
   "outputs": [
    {
     "name": "stdout",
     "output_type": "stream",
     "text": [
      "<class 'tuple'>\n",
      "<class 'list'>\n",
      "<class 'tuple'>\n",
      "<class 'list'>\n"
     ]
    },
    {
     "data": {
      "text/plain": [
       "['apple', 'banana', 'cherry', 'apple', 'cherry']"
      ]
     },
     "execution_count": 1,
     "metadata": {},
     "output_type": "execute_result"
    }
   ],
   "source": [
    "#type casting\n",
    "\n",
    "thistuple = (\"apple\", \"banana\", \"cherry\", \"apple\", \"cherry\")\n",
    "print(type(thistuple))\n",
    "thislist = [\"apple\", \"banana\", \"cherry\"]\n",
    "print(type(thislist))\n",
    "\n",
    "newtuple = tuple(thislist)\n",
    "print(type(newtuple))\n",
    "newlist = list(thistuple)\n",
    "print(type(newlist))\n",
    "newlist"
   ]
  },
  {
   "cell_type": "code",
   "execution_count": 2,
   "id": "fa9bc2b7",
   "metadata": {},
   "outputs": [
    {
     "name": "stdout",
     "output_type": "stream",
     "text": [
      "<class 'list'>\n",
      "('apple', 'kiwi', 'cherry')\n"
     ]
    }
   ],
   "source": [
    "x = (\"apple\", \"banana\", \"cherry\")\n",
    "y = list(x)\n",
    "print(type(y))\n",
    "y[1] = \"kiwi\"\n",
    "x = tuple(y)\n",
    "\n",
    "print(x)"
   ]
  },
  {
   "cell_type": "code",
   "execution_count": 3,
   "id": "3b42f061",
   "metadata": {},
   "outputs": [
    {
     "name": "stdout",
     "output_type": "stream",
     "text": [
      "('apple', 'banana', 'cherry', 'orange')\n"
     ]
    }
   ],
   "source": [
    "thistuple = (\"apple\", \"banana\", \"cherry\")\n",
    "y = (\"orange\",)\n",
    "thistuple += y # thistuple = thistuple + y\n",
    "\n",
    "print(thistuple)"
   ]
  },
  {
   "cell_type": "code",
   "execution_count": 4,
   "id": "ace9d484",
   "metadata": {},
   "outputs": [
    {
     "data": {
      "text/plain": [
       "('banana', 'cherry', 'apple', 'banana', 'cherry')"
      ]
     },
     "execution_count": 4,
     "metadata": {},
     "output_type": "execute_result"
    }
   ],
   "source": [
    "# remove\n",
    "thistuple = (\"apple\", \"banana\", \"cherry\",\"apple\", \"banana\", \"cherry\")\n",
    "y = list(thistuple)\n",
    "y.remove(\"apple\")\n",
    "thistuple = tuple(y)\n",
    "thistuple"
   ]
  },
  {
   "cell_type": "code",
   "execution_count": 5,
   "id": "84433e52",
   "metadata": {},
   "outputs": [
    {
     "name": "stdout",
     "output_type": "stream",
     "text": [
      "shoes\n",
      "clothes\n",
      "accesories\n"
     ]
    }
   ],
   "source": [
    "# unpacking\n",
    "bag = (\"shoes\", \"clothes\", \"accesories\")\n",
    "\n",
    "(feet, body, neck) = bag\n",
    "\n",
    "print(feet)\n",
    "print(body)\n",
    "print(neck)"
   ]
  },
  {
   "cell_type": "code",
   "execution_count": 13,
   "id": "568ada34",
   "metadata": {},
   "outputs": [
    {
     "name": "stdout",
     "output_type": "stream",
     "text": [
      "accesories\n"
     ]
    }
   ],
   "source": [
    "thislist = [\"shoes\", \"clothes\", \"accesories\"]\n",
    "v1 = thislist[0]\n",
    "v2 = thislist[2]\n",
    "print(v2)\n"
   ]
  },
  {
   "cell_type": "code",
   "execution_count": 12,
   "id": "4fe66f4d",
   "metadata": {},
   "outputs": [
    {
     "name": "stdout",
     "output_type": "stream",
     "text": [
      "apple\n",
      "['mango', 'papaya', 'pineapple']\n",
      "cherry\n"
     ]
    },
    {
     "data": {
      "text/plain": [
       "['mango', 'papaya', 'pineapple']"
      ]
     },
     "execution_count": 12,
     "metadata": {},
     "output_type": "execute_result"
    }
   ],
   "source": [
    "fruits = (\"apple\", \"mango\", \"papaya\", \"pineapple\", \"cherry\")\n",
    "\n",
    "(green, *tropic, red) = fruits\n",
    "\n",
    "print(green)\n",
    "print(tropic)\n",
    "print(red)\n",
    "['mango', 'papaya', 'pineapple']"
   ]
  },
  {
   "cell_type": "code",
   "execution_count": 10,
   "id": "62ca965e",
   "metadata": {},
   "outputs": [
    {
     "name": "stdout",
     "output_type": "stream",
     "text": [
      "apple\n",
      "<class 'str'>\n",
      "banana\n",
      "<class 'list'>\n"
     ]
    }
   ],
   "source": [
    "\n",
    "fruits = (\"apple\", \"banana\", \"cherry\", \"strawberry\", \"raspberry\",\"cherry\", \"strawberry\", \"raspberry\",\"cherry\", \"strawberry\", \"raspberry\",\"cherry\", \"strawberry\", \"raspberry\",\"cherry\", \"strawberry\", \"raspberry\",\"cherry\", \"strawberry\", \"raspberry\",\"cherry\", \"strawberry\", \"raspberry\")\n",
    "\n",
    "(green, yellow, *red) = fruits\n",
    "\n",
    "print(green)\n",
    "print(type(green))\n",
    "print(yellow)\n",
    "print(type(red))"
   ]
  },
  {
   "cell_type": "code",
   "execution_count": 9,
   "id": "1c6dbbde",
   "metadata": {},
   "outputs": [
    {
     "name": "stdout",
     "output_type": "stream",
     "text": [
      "apple\n",
      "banana\n",
      "cherry\n"
     ]
    }
   ],
   "source": [
    "# loop\n",
    "thistuple = (\"apple\", \"banana\", \"cherry\")\n",
    "for i in range(len(thistuple)):\n",
    "  print(thistuple[i])"
   ]
  },
  {
   "cell_type": "code",
   "execution_count": 8,
   "id": "bf6f58b5",
   "metadata": {},
   "outputs": [
    {
     "name": "stdout",
     "output_type": "stream",
     "text": [
      "banana\n",
      "cherry\n",
      "apple\n",
      "banana\n",
      "cherry\n",
      "apple\n",
      "banana\n",
      "cherry\n"
     ]
    }
   ],
   "source": [
    "for i in thistuple:\n",
    "    print(i)\n",
    "\n",
    "thistuple = (\"apple\", \"banana\", \"cherry\")\n",
    "i = 0\n",
    "\n",
    "while i < len(thistuple):\n",
    "  print(thistuple[i])\n",
    "  i = i + 1\n"
   ]
  },
  {
   "cell_type": "code",
   "execution_count": 7,
   "id": "9ef86d29",
   "metadata": {},
   "outputs": [
    {
     "name": "stdout",
     "output_type": "stream",
     "text": [
      "('a', 'b', 'c', 1, 2, 3)\n",
      "('apple', 'banana', 'cherry', 'apple', 'banana', 'cherry')\n"
     ]
    }
   ],
   "source": [
    "# join\n",
    "\n",
    "tuple1 = (\"a\", \"b\" , \"c\")\n",
    "tuple2 = (1, 2, 3)\n",
    "\n",
    "tuple3 = tuple1 + tuple2\n",
    "print(tuple3)\n",
    "('a', 'b', 'c', 1, 2, 3)\n",
    "# multiply\n",
    "fruits = (\"apple\", \"banana\", \"cherry\")\n",
    "mytuple = fruits * 2\n",
    "\n",
    "print(mytuple)"
   ]
  },
  {
   "cell_type": "code",
   "execution_count": null,
   "id": "33062ffe",
   "metadata": {},
   "outputs": [],
   "source": []
  }
 ],
 "metadata": {
  "kernelspec": {
   "display_name": "Python 3 (ipykernel)",
   "language": "python",
   "name": "python3"
  },
  "language_info": {
   "codemirror_mode": {
    "name": "ipython",
    "version": 3
   },
   "file_extension": ".py",
   "mimetype": "text/x-python",
   "name": "python",
   "nbconvert_exporter": "python",
   "pygments_lexer": "ipython3",
   "version": "3.10.9"
  }
 },
 "nbformat": 4,
 "nbformat_minor": 5
}
