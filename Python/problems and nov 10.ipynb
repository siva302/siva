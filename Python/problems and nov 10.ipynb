{
 "cells": [
  {
   "cell_type": "markdown",
   "id": "175f6a72",
   "metadata": {},
   "source": [
    "1.Statement:    \n",
    "In this assignment, our interpreter has a word. The user first has to input their names and then, will be asked to guess any alphabet. If the random word contains that alphabet, it will be shown as the output(with correct placement) else the program will ask you to guess another alphabet. The user will be given 10 turns(which can be changed accordingly) to guess the complete word.\n"
   ]
  },
  {
   "cell_type": "code",
   "execution_count": 1,
   "id": "ce1c3885",
   "metadata": {},
   "outputs": [
    {
     "name": "stdout",
     "output_type": "stream",
     "text": [
      "enter a name is: siva\n",
      "hello, siva lets play hangman\n",
      "enter your guess letter is s\n",
      "good s your remaining turns 10\n",
      "enter your guess letter is i\n",
      "good i your remaining turns 9\n",
      "enter your guess letter is v\n",
      "good v your remaining turns 8\n",
      "enter your guess letter is a\n",
      "good a your remaining turns 7\n",
      "you can win\n"
     ]
    }
   ],
   "source": [
    "name=input('enter a name is: ')\n",
    "print('hello,',name,'lets play hangman')\n",
    "c=\"\"\n",
    "#name\n",
    "for i in range(10,1,-1):\n",
    "    guess=input(\"enter your guess letter is \")\n",
    "\n",
    "    if guess==name[0] or guess==name[1] or guess==name[2] or guess==name[3]:\n",
    "            print('good',guess,'your remaining turns',i)\n",
    "            c=c+guess\n",
    "    else:\n",
    "        print('sorry',guess,'your remaining turns',i)\n",
    "    if c==name:\n",
    "        break\n",
    "    \n",
    "print('you can win')"
   ]
  },
  {
   "cell_type": "code",
   "execution_count": 8,
   "id": "6c19903f",
   "metadata": {},
   "outputs": [
    {
     "name": "stdout",
     "output_type": "stream",
     "text": [
      "s\n",
      "i\n",
      "v\n",
      "a\n"
     ]
    }
   ],
   "source": [
    "n='siva'\n",
    "for i in n:\n",
    "    print(i)"
   ]
  },
  {
   "cell_type": "code",
   "execution_count": 6,
   "id": "08546760",
   "metadata": {},
   "outputs": [],
   "source": [
    "n=10\n",
    "i=0\n",
    "while i>n:\n",
    "    print(i)\n",
    "    i=i+1"
   ]
  },
  {
   "cell_type": "code",
   "execution_count": null,
   "id": "91f2bcb5",
   "metadata": {},
   "outputs": [],
   "source": []
  },
  {
   "cell_type": "code",
   "execution_count": null,
   "id": "1f6a109b",
   "metadata": {},
   "outputs": [],
   "source": []
  },
  {
   "cell_type": "code",
   "execution_count": null,
   "id": "bf9ca235",
   "metadata": {},
   "outputs": [],
   "source": []
  },
  {
   "cell_type": "code",
   "execution_count": null,
   "id": "ae50b4e4",
   "metadata": {},
   "outputs": [],
   "source": []
  },
  {
   "cell_type": "code",
   "execution_count": 3,
   "id": "9e619e2f",
   "metadata": {},
   "outputs": [
    {
     "ename": "SyntaxError",
     "evalue": "incomplete input (3477860531.py, line 1)",
     "output_type": "error",
     "traceback": [
      "\u001b[1;36m  Cell \u001b[1;32mIn[3], line 1\u001b[1;36m\u001b[0m\n\u001b[1;33m    \\\u001b[0m\n\u001b[1;37m     ^\u001b[0m\n\u001b[1;31mSyntaxError\u001b[0m\u001b[1;31m:\u001b[0m incomplete input\n"
     ]
    }
   ],
   "source": []
  },
  {
   "cell_type": "code",
   "execution_count": null,
   "id": "27df14f0",
   "metadata": {},
   "outputs": [],
   "source": []
  },
  {
   "cell_type": "code",
   "execution_count": null,
   "id": "0cc3a7b2",
   "metadata": {},
   "outputs": [],
   "source": []
  },
  {
   "cell_type": "code",
   "execution_count": null,
   "id": "8376b6fc",
   "metadata": {},
   "outputs": [],
   "source": []
  },
  {
   "cell_type": "code",
   "execution_count": null,
   "id": "0ddadec0",
   "metadata": {},
   "outputs": [],
   "source": []
  }
 ],
 "metadata": {
  "kernelspec": {
   "display_name": "Python 3 (ipykernel)",
   "language": "python",
   "name": "python3"
  },
  "language_info": {
   "codemirror_mode": {
    "name": "ipython",
    "version": 3
   },
   "file_extension": ".py",
   "mimetype": "text/x-python",
   "name": "python",
   "nbconvert_exporter": "python",
   "pygments_lexer": "ipython3",
   "version": "3.10.9"
  }
 },
 "nbformat": 4,
 "nbformat_minor": 5
}
