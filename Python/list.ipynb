{
 "cells": [
  {
   "cell_type": "code",
   "execution_count": 6,
   "id": "f0db2c19",
   "metadata": {},
   "outputs": [
    {
     "name": "stdout",
     "output_type": "stream",
     "text": [
      "enter a num:8452369|\n",
      "['8', '4', '5', '2', '3', '6', '9', '|']\n"
     ]
    }
   ],
   "source": [
    "a=list(input(\"enter a num:\"))\n",
    "print(a)"
   ]
  },
  {
   "cell_type": "code",
   "execution_count": 13,
   "id": "d31240fc",
   "metadata": {},
   "outputs": [
    {
     "name": "stdout",
     "output_type": "stream",
     "text": [
      "hello my deat friend\n",
      "['hello', 'my', 'deat', 'friend']\n"
     ]
    }
   ],
   "source": [
    "# split\n",
    "a=input()\n",
    "b=a.split()\n",
    "print(b)"
   ]
  },
  {
   "cell_type": "code",
   "execution_count": 15,
   "id": "f6b897c4",
   "metadata": {},
   "outputs": [
    {
     "name": "stdout",
     "output_type": "stream",
     "text": [
      "['siva', 50]\n"
     ]
    }
   ],
   "source": [
    "# append\n",
    "a=[]\n",
    "a.append(\"siva\")\n",
    "a.append(50)\n",
    "print(a)"
   ]
  },
  {
   "cell_type": "code",
   "execution_count": 17,
   "id": "1e660cc3",
   "metadata": {},
   "outputs": [
    {
     "name": "stdout",
     "output_type": "stream",
     "text": [
      "[2, 8, 4, 5, 6, 50]\n"
     ]
    }
   ],
   "source": [
    "# insert\n",
    "a=[2,8,4,5,6]\n",
    "a.insert(8,50)\n",
    "print(a)"
   ]
  },
  {
   "cell_type": "code",
   "execution_count": 20,
   "id": "233e4fc3",
   "metadata": {},
   "outputs": [
    {
     "name": "stdout",
     "output_type": "stream",
     "text": [
      "[7, 8, 9, 4, 2, 5, 6, 10, 'hello']\n"
     ]
    }
   ],
   "source": [
    "# extend\n",
    "a=[7,8,9,4,2,5,6]\n",
    "a.extend([10,\"hello\"])\n",
    "print(a)"
   ]
  },
  {
   "cell_type": "code",
   "execution_count": 22,
   "id": "b47126fc",
   "metadata": {},
   "outputs": [
    {
     "name": "stdout",
     "output_type": "stream",
     "text": [
      "['hello', 10, 6, 5, 2, 4, 9, 8, 7]\n",
      "['hello', 10, 6, 5, 2, 4, 9, 8, 7]\n"
     ]
    }
   ],
   "source": [
    "# reverse\n",
    "a=[7, 8, 9, 4, 2, 5, 6, 10, 'hello']\n",
    "b=a[::-1]\n",
    "print(b)\n",
    "a.reverse()\n",
    "print(a)"
   ]
  },
  {
   "cell_type": "code",
   "execution_count": 24,
   "id": "3319b368",
   "metadata": {},
   "outputs": [
    {
     "name": "stdout",
     "output_type": "stream",
     "text": [
      "[7, 8, 9, 4, 2, 5, 6, 'hello']\n"
     ]
    }
   ],
   "source": [
    "# remove\n",
    "a=[7, 8, 9, 4, 2, 5, 6, 10, 'hello']\n",
    "a.remove(10)\n",
    "print(a)"
   ]
  },
  {
   "cell_type": "code",
   "execution_count": 27,
   "id": "6858190e",
   "metadata": {},
   "outputs": [
    {
     "name": "stdout",
     "output_type": "stream",
     "text": [
      "[7, 8, 9, 4, 2]\n"
     ]
    }
   ],
   "source": [
    "#pop\n",
    "[7, 8, 9, 4, 2, 5, 6, 10]\n",
    "a.pop()\n",
    "print(a)"
   ]
  },
  {
   "cell_type": "code",
   "execution_count": null,
   "id": "a518f9da",
   "metadata": {},
   "outputs": [],
   "source": []
  }
 ],
 "metadata": {
  "kernelspec": {
   "display_name": "Python 3 (ipykernel)",
   "language": "python",
   "name": "python3"
  },
  "language_info": {
   "codemirror_mode": {
    "name": "ipython",
    "version": 3
   },
   "file_extension": ".py",
   "mimetype": "text/x-python",
   "name": "python",
   "nbconvert_exporter": "python",
   "pygments_lexer": "ipython3",
   "version": "3.10.9"
  }
 },
 "nbformat": 4,
 "nbformat_minor": 5
}
