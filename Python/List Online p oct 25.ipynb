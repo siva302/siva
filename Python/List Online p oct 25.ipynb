{
 "cells": [
  {
   "cell_type": "code",
   "execution_count": 5,
   "id": "eb27c984",
   "metadata": {},
   "outputs": [
    {
     "name": "stdout",
     "output_type": "stream",
     "text": [
      "[]\n"
     ]
    }
   ],
   "source": [
    "# create a empty list\n",
    "list=[]\n",
    "print(list)\n"
   ]
  },
  {
   "cell_type": "code",
   "execution_count": 8,
   "id": "002af914",
   "metadata": {},
   "outputs": [
    {
     "name": "stdout",
     "output_type": "stream",
     "text": [
      "[1, 'siva', True, 1.0, (2+5j)] <class 'list'>\n"
     ]
    }
   ],
   "source": [
    "# create a list\n",
    "list=[1,'siva',True,1.0,2+5j]\n",
    "print(list,type(list))"
   ]
  },
  {
   "cell_type": "code",
   "execution_count": 12,
   "id": "d81b6176",
   "metadata": {},
   "outputs": [
    {
     "name": "stdout",
     "output_type": "stream",
     "text": [
      "(1, 2, 3) <class 'tuple'>\n",
      "{1, 2, 3} <class 'set'>\n"
     ]
    },
    {
     "ename": "TypeError",
     "evalue": "cannot convert dictionary update sequence element #0 to a sequence",
     "output_type": "error",
     "traceback": [
      "\u001b[1;31m---------------------------------------------------------------------------\u001b[0m",
      "\u001b[1;31mTypeError\u001b[0m                                 Traceback (most recent call last)",
      "Cell \u001b[1;32mIn[12], line 9\u001b[0m\n\u001b[0;32m      7\u001b[0m \u001b[38;5;28mprint\u001b[39m(\u001b[38;5;28mlist\u001b[39m,\u001b[38;5;28mtype\u001b[39m(\u001b[38;5;28mlist\u001b[39m))\n\u001b[0;32m      8\u001b[0m \u001b[38;5;66;03m# convert into dict\u001b[39;00m\n\u001b[1;32m----> 9\u001b[0m \u001b[38;5;28mlist\u001b[39m\u001b[38;5;241m=\u001b[39m\u001b[38;5;28;43mdict\u001b[39;49m\u001b[43m(\u001b[49m\u001b[43m[\u001b[49m\u001b[38;5;241;43m1\u001b[39;49m\u001b[43m,\u001b[49m\u001b[38;5;241;43m2\u001b[39;49m\u001b[43m,\u001b[49m\u001b[38;5;241;43m3\u001b[39;49m\u001b[43m]\u001b[49m\u001b[43m)\u001b[49m\n\u001b[0;32m     10\u001b[0m \u001b[38;5;28mprint\u001b[39m(\u001b[38;5;28mlist\u001b[39m,\u001b[38;5;28mtype\u001b[39m(\u001b[38;5;28mlist\u001b[39m))\n",
      "\u001b[1;31mTypeError\u001b[0m: cannot convert dictionary update sequence element #0 to a sequence"
     ]
    }
   ],
   "source": [
    "# create a bulit in fun [tuple,string,dict]\n",
    "# convert into tuple\n",
    "list=tuple([1,2,3])\n",
    "print(list,type(list))\n",
    "# convert into set\n",
    "list=set([1,2,3])\n",
    "print(list,type(list))\n",
    "# convert into dict\n",
    "list=dict([1,2,3])\n",
    "print(list,type(list))\n"
   ]
  },
  {
   "cell_type": "code",
   "execution_count": 13,
   "id": "2f5457b6",
   "metadata": {},
   "outputs": [
    {
     "name": "stdout",
     "output_type": "stream",
     "text": [
      "{} <class 'dict'>\n"
     ]
    }
   ],
   "source": [
    "dict={}\n",
    "print(dict,type(dict))"
   ]
  },
  {
   "cell_type": "code",
   "execution_count": 14,
   "id": "7027cf4d",
   "metadata": {},
   "outputs": [
    {
     "name": "stdout",
     "output_type": "stream",
     "text": [
      "[] <class 'list'>\n"
     ]
    }
   ],
   "source": [
    "list=[]\n",
    "print(list,type(list))"
   ]
  },
  {
   "cell_type": "code",
   "execution_count": 15,
   "id": "0ba8ab62",
   "metadata": {},
   "outputs": [
    {
     "name": "stdout",
     "output_type": "stream",
     "text": [
      "() <class 'tuple'>\n"
     ]
    }
   ],
   "source": [
    "tuple=()\n",
    "print(tuple,type(tuple))"
   ]
  },
  {
   "cell_type": "code",
   "execution_count": 1,
   "id": "36014070",
   "metadata": {},
   "outputs": [
    {
     "name": "stdout",
     "output_type": "stream",
     "text": [
      "set() <class 'set'>\n"
     ]
    }
   ],
   "source": [
    "a=set()\n",
    "print(a,type(a))"
   ]
  },
  {
   "cell_type": "code",
   "execution_count": 2,
   "id": "cb49d0cc",
   "metadata": {},
   "outputs": [
    {
     "name": "stdout",
     "output_type": "stream",
     "text": [
      "['siva', 'chinna', 'rasul']\n"
     ]
    }
   ],
   "source": [
    "# ordered\n",
    "names=['siva','chinna','rasul']\n",
    "print(names)"
   ]
  },
  {
   "cell_type": "code",
   "execution_count": 6,
   "id": "4d487a80",
   "metadata": {},
   "outputs": [
    {
     "name": "stdout",
     "output_type": "stream",
     "text": [
      "before change ['siva', 'apple', 'pen']\n",
      "after change ['siva', 'chinna', 'pen']\n",
      "before change ['siva', 'apple', 'pen', 1, 2, 7, 8, 9]\n",
      "after change [100, 99, 78, 1, 2, 7, 8, 9]\n"
     ]
    }
   ],
   "source": [
    "# changeable\n",
    "# single value\n",
    "list=['siva','apple','pen']\n",
    "print('before change',list)\n",
    "list[1]='chinna'\n",
    "print('after change',list)\n",
    "# multiple values\n",
    "list_m=['siva','apple','pen',1,2,7,8,9]\n",
    "print('before change',list_m)\n",
    "list_m[0:3]=100,99,78\n",
    "print('after change',list_m)\n",
    "\n"
   ]
  },
  {
   "cell_type": "code",
   "execution_count": 8,
   "id": "0fa872d9",
   "metadata": {},
   "outputs": [
    {
     "name": "stdout",
     "output_type": "stream",
     "text": [
      "['pen', 'book', 'bag', 'Pen']\n"
     ]
    }
   ],
   "source": [
    "# allow the duplicates\n",
    "iteams=['pen','book','bag','Pen']\n",
    "print(iteams)"
   ]
  },
  {
   "cell_type": "code",
   "execution_count": 9,
   "id": "ace09148",
   "metadata": {},
   "outputs": [
    {
     "data": {
      "text/plain": [
       "21"
      ]
     },
     "execution_count": 9,
     "metadata": {},
     "output_type": "execute_result"
    }
   ],
   "source": [
    "# len\n",
    "list=[1,'siva',5,7,8,5,7,4,5,1,2,6,5,4,7,85,4,1,2,3,8]\n",
    "len(list)"
   ]
  },
  {
   "cell_type": "code",
   "execution_count": 10,
   "id": "06d474ef",
   "metadata": {},
   "outputs": [
    {
     "ename": "IndexError",
     "evalue": "list assignment index out of range",
     "output_type": "error",
     "traceback": [
      "\u001b[1;31m---------------------------------------------------------------------------\u001b[0m",
      "\u001b[1;31mIndexError\u001b[0m                                Traceback (most recent call last)",
      "Cell \u001b[1;32mIn[10], line 3\u001b[0m\n\u001b[0;32m      1\u001b[0m \u001b[38;5;66;03m# out of range\u001b[39;00m\n\u001b[0;32m      2\u001b[0m \u001b[38;5;28mlist\u001b[39m\u001b[38;5;241m=\u001b[39m[\u001b[38;5;241m1\u001b[39m,\u001b[38;5;124m'\u001b[39m\u001b[38;5;124msiva\u001b[39m\u001b[38;5;124m'\u001b[39m,\u001b[38;5;241m5\u001b[39m,\u001b[38;5;241m7\u001b[39m,\u001b[38;5;241m8\u001b[39m,\u001b[38;5;241m5\u001b[39m,\u001b[38;5;241m7\u001b[39m,\u001b[38;5;241m4\u001b[39m,\u001b[38;5;241m5\u001b[39m,\u001b[38;5;241m1\u001b[39m,\u001b[38;5;241m2\u001b[39m,\u001b[38;5;241m6\u001b[39m,\u001b[38;5;241m5\u001b[39m,\u001b[38;5;241m4\u001b[39m,\u001b[38;5;241m7\u001b[39m,\u001b[38;5;241m85\u001b[39m,\u001b[38;5;241m4\u001b[39m,\u001b[38;5;241m1\u001b[39m,\u001b[38;5;241m2\u001b[39m,\u001b[38;5;241m3\u001b[39m,\u001b[38;5;241m8\u001b[39m]\n\u001b[1;32m----> 3\u001b[0m \u001b[38;5;28mlist\u001b[39m[\u001b[38;5;241m21\u001b[39m]\u001b[38;5;241m=\u001b[39m\u001b[38;5;124m'\u001b[39m\u001b[38;5;124mchinna\u001b[39m\u001b[38;5;124m'\u001b[39m\n\u001b[0;32m      4\u001b[0m \u001b[38;5;28mprint\u001b[39m(\u001b[38;5;28mlist\u001b[39m)\n",
      "\u001b[1;31mIndexError\u001b[0m: list assignment index out of range"
     ]
    }
   ],
   "source": [
    "# out of range\n",
    "list=[1,'siva',5,7,8,5,7,4,5,1,2,6,5,4,7,85,4,1,2,3,8]\n",
    "list[21]='chinna'\n",
    "print(list)\n"
   ]
  },
  {
   "cell_type": "code",
   "execution_count": 11,
   "id": "07157f41",
   "metadata": {},
   "outputs": [
    {
     "data": {
      "text/plain": [
       "85"
      ]
     },
     "execution_count": 11,
     "metadata": {},
     "output_type": "execute_result"
    }
   ],
   "source": [
    "# access iteam\n",
    "list=[1,'siva',5,7,8,5,7,4,5,1,2,6,5,4,7,85,4,1,2,3,8]\n",
    "list[15]"
   ]
  },
  {
   "cell_type": "code",
   "execution_count": 16,
   "id": "9412f0af",
   "metadata": {},
   "outputs": [
    {
     "name": "stdout",
     "output_type": "stream",
     "text": [
      "siva\n",
      "8\n"
     ]
    }
   ],
   "source": [
    "# index\n",
    "list=[1,'siva',5,7,8,5,7,4,5,1,2,6,5,4,7,85,4,1,2,3,8]\n",
    "# pos\n",
    "a=list[1]\n",
    "print(a)\n",
    "# neg\n",
    "b=list[-1]\n",
    "print(b)"
   ]
  },
  {
   "cell_type": "code",
   "execution_count": 5,
   "id": "5c5b2a4f",
   "metadata": {},
   "outputs": [
    {
     "name": "stdout",
     "output_type": "stream",
     "text": [
      "[1, 5, 7, 8, 5, 7, 4, 5, 1, 2, 6, 5, 4, 7, 85, 4, 1, 2, 3, 8]\n",
      "[1, 5, 7, 8, 5, 7, 4, 5, 1, 2, 6, 5, 4, 7, 85, 4, 1, 2]\n",
      "[8, 3, 2, 1, 4, 85, 7, 4, 5, 6, 2, 1, 5, 4, 7, 5, 8, 7, 5, 1]\n",
      "[5, 7, 8, 5]\n",
      "[1, 5, 7, 8, 5]\n",
      "[5, 7, 8, 5]\n",
      "[1, 5, 7, 8, 5, 7, 4, 5, 1, 2, 6, 5, 4, 7, 85, 4, 1, 2, 3]\n",
      "[3, 2, 1, 4, 85, 7, 4, 5, 6, 2, 1, 5, 4, 7, 5, 8, 7, 5, 1]\n"
     ]
    }
   ],
   "source": [
    "# range or sclicing\n",
    "list=[1,5,7,8,5,7,4,5,1,2,6,5,4,7,85,4,1,2,3,8]\n",
    "print(list[:])\n",
    "print(list[:-2])\n",
    "print(list[::-1])\n",
    "print(list[1:5:1])\n",
    "print(list[:5:1])\n",
    "print(list[1:5:])\n",
    "print(list[:-1])\n",
    "print(list[-2::-1])\n"
   ]
  },
  {
   "cell_type": "code",
   "execution_count": 9,
   "id": "734d8ce9",
   "metadata": {},
   "outputs": [
    {
     "name": "stdout",
     "output_type": "stream",
     "text": [
      "['siva', 1, 28, 7, 5, 9, 4, 5, 'kavi', 'rasul', 'cinna']\n"
     ]
    }
   ],
   "source": [
    "# insert\n",
    "list=['siva',1,28,7,5,9,4,5]\n",
    "list[8:]='kavi','rasul','cinna'\n",
    "print(list)"
   ]
  },
  {
   "cell_type": "code",
   "execution_count": 14,
   "id": "b0399db3",
   "metadata": {},
   "outputs": [
    {
     "name": "stdout",
     "output_type": "stream",
     "text": [
      "['siva', 1, 28, 7, 5, 9, 4, 5, 100]\n"
     ]
    }
   ],
   "source": [
    "# append\n",
    "list=['siva',1,28,7,5,9,4,5]\n",
    "list.append(100)\n",
    "print(list)\n"
   ]
  },
  {
   "cell_type": "code",
   "execution_count": 26,
   "id": "11acbe5a",
   "metadata": {},
   "outputs": [
    {
     "name": "stdout",
     "output_type": "stream",
     "text": [
      "['siva', 1, 28, 7, 5, 9, 4, 5, 's', 'i', 'v', 'a']\n",
      "['siva', 1, 28, 7, 5, 9, 4, 5, 's', 'i', 'v', 'a', 1, 5, 7, 8, 5, 7, 4, 5, 1, 2, 6, 'siva', 'kavi', 5, 4, 7, 85, 4, 1, 2, 3, 8]\n"
     ]
    }
   ],
   "source": [
    "# extend\n",
    "list=['siva',1,28,7,5,9,4,5]\n",
    "list.extend('siva')\n",
    "print(list)\n",
    "#\n",
    "list1=[1,5,7,8,5,7,4,5,1,2,6,'siva','kavi',5,4,7,85,4,1,2,3,8]\n",
    "list.extend(list1)\n",
    "print(list)"
   ]
  },
  {
   "cell_type": "code",
   "execution_count": 34,
   "id": "787b48b5",
   "metadata": {},
   "outputs": [
    {
     "name": "stdout",
     "output_type": "stream",
     "text": [
      "[0, 0, 1, 2, 4, 4, 5, 8, 8, 11, 15, 55, 77]\n",
      "[77, 55, 15, 11, 8, 8, 5, 4, 4, 2, 1, 0, 0]\n"
     ]
    }
   ],
   "source": [
    "# sort\n",
    "num=[15,8,77,4,5,8,11,55,4,2,1,0,0]\n",
    "num.sort()\n",
    "print(num)\n",
    "# reverse\n",
    "num1=[15,8,77,4,5,8,11,55,4,2,1,0,0]\n",
    "num1.sort(reverse=True)\n",
    "print(num1)\n"
   ]
  },
  {
   "cell_type": "code",
   "execution_count": 40,
   "id": "02b2fe50",
   "metadata": {},
   "outputs": [
    {
     "ename": "AttributeError",
     "evalue": "'list' object has no attribute 'replace'",
     "output_type": "error",
     "traceback": [
      "\u001b[1;31m---------------------------------------------------------------------------\u001b[0m",
      "\u001b[1;31mAttributeError\u001b[0m                            Traceback (most recent call last)",
      "Cell \u001b[1;32mIn[40], line 2\u001b[0m\n\u001b[0;32m      1\u001b[0m num\u001b[38;5;241m=\u001b[39m([\u001b[38;5;241m15\u001b[39m,\u001b[38;5;241m8\u001b[39m,\u001b[38;5;241m77\u001b[39m,\u001b[38;5;241m4\u001b[39m,\u001b[38;5;241m5\u001b[39m,\u001b[38;5;241m8\u001b[39m,\u001b[38;5;241m11\u001b[39m,\u001b[38;5;241m55\u001b[39m,\u001b[38;5;241m4\u001b[39m,\u001b[38;5;241m2\u001b[39m,\u001b[38;5;241m1\u001b[39m,\u001b[38;5;241m0\u001b[39m,\u001b[38;5;241m0\u001b[39m])\n\u001b[1;32m----> 2\u001b[0m \u001b[43mnum\u001b[49m\u001b[38;5;241;43m.\u001b[39;49m\u001b[43mreplace\u001b[49m(\u001b[38;5;241m0\u001b[39m,\u001b[38;5;124m'\u001b[39m\u001b[38;5;124m-\u001b[39m\u001b[38;5;124m'\u001b[39m)\n",
      "\u001b[1;31mAttributeError\u001b[0m: 'list' object has no attribute 'replace'"
     ]
    }
   ],
   "source": [
    "num=[15,8,77,4,5,8,11,55,4,2,1,0,0]\n",
    "num.replace(0,'-')"
   ]
  },
  {
   "cell_type": "code",
   "execution_count": 48,
   "id": "179307a1",
   "metadata": {},
   "outputs": [
    {
     "ename": "IndentationError",
     "evalue": "expected an indented block after 'if' statement on line 3 (3214986490.py, line 4)",
     "output_type": "error",
     "traceback": [
      "\u001b[1;36m  Cell \u001b[1;32mIn[48], line 4\u001b[1;36m\u001b[0m\n\u001b[1;33m    print(i)\u001b[0m\n\u001b[1;37m    ^\u001b[0m\n\u001b[1;31mIndentationError\u001b[0m\u001b[1;31m:\u001b[0m expected an indented block after 'if' statement on line 3\n"
     ]
    }
   ],
   "source": [
    "n=[15,8,77,4,5,8,11,55,4,2,1,0,0]\n",
    "for i in n:\n",
    "    if n==0:\n",
    "    print(i)\n",
    "    else:\n",
    "    print(i)"
   ]
  },
  {
   "cell_type": "code",
   "execution_count": null,
   "id": "c3c93523",
   "metadata": {},
   "outputs": [],
   "source": []
  }
 ],
 "metadata": {
  "kernelspec": {
   "display_name": "Python 3 (ipykernel)",
   "language": "python",
   "name": "python3"
  },
  "language_info": {
   "codemirror_mode": {
    "name": "ipython",
    "version": 3
   },
   "file_extension": ".py",
   "mimetype": "text/x-python",
   "name": "python",
   "nbconvert_exporter": "python",
   "pygments_lexer": "ipython3",
   "version": "3.10.9"
  }
 },
 "nbformat": 4,
 "nbformat_minor": 5
}
