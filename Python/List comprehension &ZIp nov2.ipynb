{
 "cells": [
  {
   "cell_type": "markdown",
   "id": "c4d26c4c",
   "metadata": {},
   "source": [
    "# List Comprehension"
   ]
  },
  {
   "cell_type": "markdown",
   "id": "0ededb5e",
   "metadata": {},
   "source": [
    "List comprehension offers a shorter syntax when you want to create a new list based on the values of an existing list.\n",
    "Note-list comprehension - Both Input and output will be in list format\n",
    "Example:\n",
    "\n",
    "Based on a list of fruits, you want a new list, containing only the fruits with the letter \"a\" in the name.\n",
    "\n",
    "Without list comprehension you will have to write a for statement with a conditional test inside:\n"
   ]
  },
  {
   "cell_type": "code",
   "execution_count": 8,
   "id": "4c7e0bd4",
   "metadata": {},
   "outputs": [
    {
     "name": "stdout",
     "output_type": "stream",
     "text": [
      "['bags', 'carry bags']\n"
     ]
    }
   ],
   "source": [
    "# 1 without a comprehension by using for and if\n",
    "items=['books','pens','bags','carry bags']\n",
    "new_list=[]\n",
    "for i in iteams:\n",
    "    if 'bags' in i:\n",
    "        new_list.append(i)\n",
    "print(new_list)\n"
   ]
  },
  {
   "cell_type": "code",
   "execution_count": 9,
   "id": "ffba58fe",
   "metadata": {},
   "outputs": [
    {
     "name": "stdout",
     "output_type": "stream",
     "text": [
      "['bags', 'carry bags']\n"
     ]
    }
   ],
   "source": [
    "# with comprehension by using for and if\n",
    "new_list=[i for i in items if 'bags' in i]\n",
    "print(new_list)"
   ]
  },
  {
   "cell_type": "code",
   "execution_count": 23,
   "id": "3757e63c",
   "metadata": {},
   "outputs": [
    {
     "name": "stdout",
     "output_type": "stream",
     "text": [
      "['no', 2, 'no', 4, 'no', 6, 'no', 8, 'no', 10]\n"
     ]
    }
   ],
   "source": [
    "# 2 with a comprehension by using for and if else\n",
    "num=[1,2,3,4,5,6,7,8,9,10]\n",
    "new_list=[i if i%2==0 else \"no\" for i in num]\n",
    "print(new_list)"
   ]
  },
  {
   "cell_type": "code",
   "execution_count": 25,
   "id": "4cb84b0d",
   "metadata": {},
   "outputs": [
    {
     "name": "stdout",
     "output_type": "stream",
     "text": [
      "[1, 2, 3, 4, 5, 6, 7, 8, 9, 10]\n"
     ]
    }
   ],
   "source": [
    "# 3 with comprehension by using for \n",
    "new=[i for i in num]\n",
    "print(new)"
   ]
  },
  {
   "cell_type": "code",
   "execution_count": 26,
   "id": "5dfeca2c",
   "metadata": {},
   "outputs": [
    {
     "ename": "SyntaxError",
     "evalue": "invalid syntax. Perhaps you forgot a comma? (2228377690.py, line 2)",
     "output_type": "error",
     "traceback": [
      "\u001b[1;36m  Cell \u001b[1;32mIn[26], line 2\u001b[1;36m\u001b[0m\n\u001b[1;33m    new=[i i=0 while i<len(num) i=i+1]\u001b[0m\n\u001b[1;37m         ^\u001b[0m\n\u001b[1;31mSyntaxError\u001b[0m\u001b[1;31m:\u001b[0m invalid syntax. Perhaps you forgot a comma?\n"
     ]
    }
   ],
   "source": [
    "# task 1\n",
    "# task a while\n",
    "\n",
    "new=[i i=0 while i<len(num) i=i+1]\n",
    "print(new)"
   ]
  },
  {
   "cell_type": "code",
   "execution_count": 27,
   "id": "2bbc9ffc",
   "metadata": {},
   "outputs": [
    {
     "ename": "SyntaxError",
     "evalue": "expected 'else' after 'if' expression (2435464111.py, line 2)",
     "output_type": "error",
     "traceback": [
      "\u001b[1;36m  Cell \u001b[1;32mIn[27], line 2\u001b[1;36m\u001b[0m\n\u001b[1;33m    new=[i if i%2==0 elif i%2!=0 'odd' else 'no' for i in num]\u001b[0m\n\u001b[1;37m         ^\u001b[0m\n\u001b[1;31mSyntaxError\u001b[0m\u001b[1;31m:\u001b[0m expected 'else' after 'if' expression\n"
     ]
    }
   ],
   "source": [
    "# task 1 \n",
    "# task b if else ladder\n",
    "new=[i if i%2==0 elif i%2!=0 'odd' else 'no' for i in num]\n",
    "print(new)"
   ]
  },
  {
   "cell_type": "code",
   "execution_count": 28,
   "id": "6c7cb91b",
   "metadata": {},
   "outputs": [
    {
     "ename": "SyntaxError",
     "evalue": "invalid syntax (1395451993.py, line 3)",
     "output_type": "error",
     "traceback": [
      "\u001b[1;36m  Cell \u001b[1;32mIn[28], line 3\u001b[1;36m\u001b[0m\n\u001b[1;33m    new=[i for i in num if i%2==0 else \"no\"]\u001b[0m\n\u001b[1;37m                                  ^\u001b[0m\n\u001b[1;31mSyntaxError\u001b[0m\u001b[1;31m:\u001b[0m invalid syntax\n"
     ]
    }
   ],
   "source": [
    "# task 1\n",
    "# task c\n",
    "new=[i for i in num if i%2==0 else \"no\"]\n"
   ]
  },
  {
   "cell_type": "code",
   "execution_count": 41,
   "id": "7b47c6f9",
   "metadata": {},
   "outputs": [
    {
     "name": "stdout",
     "output_type": "stream",
     "text": [
      "chinna 1 apple\n",
      "siva 2 orange\n",
      "rasul 3 cherry\n"
     ]
    }
   ],
   "source": [
    "# task 2\n",
    "list1=['chinna','siva','rasul']\n",
    "list2=[1,2,3,4]\n",
    "list3=['apple','orange','cherry']\n",
    "#print(tuple(zip(list1,list2)))\n",
    "# loops\n",
    "for i,j,k in zip(list1,list2,list3):\n",
    "    print(i,j,k)\n",
    "# \n"
   ]
  },
  {
   "cell_type": "code",
   "execution_count": 46,
   "id": "9cecbe29",
   "metadata": {},
   "outputs": [
    {
     "name": "stdout",
     "output_type": "stream",
     "text": [
      "(0, 'chinna')\n",
      "(1, 'siva')\n",
      "(2, 'rasul')\n"
     ]
    }
   ],
   "source": [
    "# task3\n",
    "list1=['chinna','siva','rasul']\n",
    "\n",
    "for i in enumerate(list1):\n",
    "    print(i)"
   ]
  },
  {
   "cell_type": "code",
   "execution_count": null,
   "id": "834a7ee5",
   "metadata": {},
   "outputs": [],
   "source": []
  }
 ],
 "metadata": {
  "kernelspec": {
   "display_name": "Python 3 (ipykernel)",
   "language": "python",
   "name": "python3"
  },
  "language_info": {
   "codemirror_mode": {
    "name": "ipython",
    "version": 3
   },
   "file_extension": ".py",
   "mimetype": "text/x-python",
   "name": "python",
   "nbconvert_exporter": "python",
   "pygments_lexer": "ipython3",
   "version": "3.10.9"
  }
 },
 "nbformat": 4,
 "nbformat_minor": 5
}
