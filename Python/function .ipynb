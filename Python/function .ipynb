{
 "cells": [
  {
   "cell_type": "markdown",
   "id": "6ad41379",
   "metadata": {},
   "source": [
    "# Python Functions\n",
    "A function is a block of code which only runs when it is called.\n",
    "\n",
    "You can pass data, known as parameters, into a function.\n",
    "\n",
    "A function can return data as a result\n",
    " syntax:\n",
    "  def function_name():\n",
    "      statement 1\n",
    "      statement 2\n",
    "      .. .\n",
    "      ...\n",
    "      block of code\n",
    "      return values\n",
    "  "
   ]
  },
  {
   "cell_type": "code",
   "execution_count": 1,
   "id": "14183333",
   "metadata": {},
   "outputs": [],
   "source": [
    "# create a sample function and without calling\n",
    "# there nothing will output\n",
    "def function():\n",
    "    print(\"hello\")"
   ]
  },
  {
   "cell_type": "code",
   "execution_count": 5,
   "id": "b11aaa11",
   "metadata": {},
   "outputs": [
    {
     "name": "stdout",
     "output_type": "stream",
     "text": [
      "hello\n",
      "hello\n"
     ]
    }
   ],
   "source": [
    "# create a function and varible and by using calling function\n",
    "def function():\n",
    "    print(\"hello\")\n",
    "a=function()\n",
    "function()"
   ]
  },
  {
   "cell_type": "markdown",
   "id": "91f7a353",
   "metadata": {},
   "source": [
    "# Arguments\n",
    "\n",
    "Information can be passed into functions as arguments.\n",
    "\n",
    "Arguments are specified after the function name, inside the parentheses. You can add as many arguments as you want, just separate them with a comma.\n",
    "\n",
    "The following example has a function with one argument (fname). When the function is called, we pass along a first name, which is used inside the function to print the full name:"
   ]
  },
  {
   "cell_type": "code",
   "execution_count": 7,
   "id": "0cc4c947",
   "metadata": {},
   "outputs": [
    {
     "name": "stdout",
     "output_type": "stream",
     "text": [
      "sankar\n",
      "chinna\n",
      "rasul\n"
     ]
    }
   ],
   "source": [
    "# no.of calling a function in single Arguments\n",
    "def siva(fname):\n",
    "    print(fname)\n",
    "siva('sankar')\n",
    "siva('chinna')\n",
    "siva('rasul')\n",
    "\n",
    "    "
   ]
  },
  {
   "cell_type": "code",
   "execution_count": 10,
   "id": "b6c99cbf",
   "metadata": {},
   "outputs": [
    {
     "name": "stdout",
     "output_type": "stream",
     "text": [
      "no agruments\n"
     ]
    }
   ],
   "source": [
    "#without any agruments\n",
    "def chinna():\n",
    "    print('no agruments')\n",
    "chinna()"
   ]
  },
  {
   "cell_type": "code",
   "execution_count": 13,
   "id": "040a07a8",
   "metadata": {},
   "outputs": [
    {
     "name": "stdout",
     "output_type": "stream",
     "text": [
      "siva is friend of chinna\n",
      "rasul is friend of chinna\n"
     ]
    }
   ],
   "source": [
    "# no.of calling a function in double Arguments\n",
    "def manoj(fname,lname):\n",
    "    print(fname+' is friend of '+lname)\n",
    "manoj('siva','chinna')\n",
    "manoj('rasul','chinna')\n"
   ]
  },
  {
   "cell_type": "code",
   "execution_count": 17,
   "id": "7619ce07",
   "metadata": {},
   "outputs": [
    {
     "name": "stdout",
     "output_type": "stream",
     "text": [
      "chinna is friend of siva\n"
     ]
    }
   ],
   "source": [
    "def manoj(fname,lname):\n",
    "    print(fname+' is friend of '+lname)\n",
    "manoj(lname='siva',fname='chinna')"
   ]
  },
  {
   "cell_type": "code",
   "execution_count": 31,
   "id": "cfd08d22",
   "metadata": {},
   "outputs": [
    {
     "name": "stdout",
     "output_type": "stream",
     "text": [
      "25\n"
     ]
    }
   ],
   "source": [
    "def mul(x):\n",
    "    print(x*5)\n",
    "#x=5\n",
    "mul(5)"
   ]
  },
  {
   "cell_type": "code",
   "execution_count": 28,
   "id": "016b41a7",
   "metadata": {},
   "outputs": [
    {
     "name": "stdout",
     "output_type": "stream",
     "text": [
      "siva both are friends chinna\n"
     ]
    }
   ],
   "source": [
    "## If the number of arguments is unknown, add a * before the parameter name\n",
    "def names(*friends):\n",
    "    print(friends[0]+\" both are friends \"+friends[1])\n",
    "names('siva','chinna','sudi','bhasa')"
   ]
  },
  {
   "cell_type": "code",
   "execution_count": 35,
   "id": "5bd94b79",
   "metadata": {},
   "outputs": [
    {
     "name": "stdout",
     "output_type": "stream",
     "text": [
      "{'a': 'siva', 'b': 'chinna', 'c': 'sudi', 'd': 'bhasa'}\n"
     ]
    }
   ],
   "source": [
    "def names(**friends):\n",
    "    print(friends)\n",
    "names(a='siva',b='chinna',c='sudi',d='bhasa')"
   ]
  },
  {
   "cell_type": "code",
   "execution_count": 37,
   "id": "a15ff5b0",
   "metadata": {},
   "outputs": [
    {
     "name": "stdout",
     "output_type": "stream",
     "text": [
      "I am from chinna\n",
      "I am from India\n",
      "I am from siva\n",
      "I am from rasul\n"
     ]
    }
   ],
   "source": [
    "# default parameter value\n",
    "def my_function(country = \"siva\"):\n",
    "  print(\"I am from \" + country)\n",
    "\n",
    "my_function(\"chinna\")\n",
    "my_function(\"India\")\n",
    "my_function()\n",
    "my_function(\"rasul\")"
   ]
  },
  {
   "cell_type": "code",
   "execution_count": null,
   "id": "a5d82563",
   "metadata": {},
   "outputs": [],
   "source": []
  }
 ],
 "metadata": {
  "kernelspec": {
   "display_name": "Python 3 (ipykernel)",
   "language": "python",
   "name": "python3"
  },
  "language_info": {
   "codemirror_mode": {
    "name": "ipython",
    "version": 3
   },
   "file_extension": ".py",
   "mimetype": "text/x-python",
   "name": "python",
   "nbconvert_exporter": "python",
   "pygments_lexer": "ipython3",
   "version": "3.10.9"
  }
 },
 "nbformat": 4,
 "nbformat_minor": 5
}
