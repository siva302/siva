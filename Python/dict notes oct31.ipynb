{
 "cells": [
  {
   "cell_type": "markdown",
   "id": "cec2abec",
   "metadata": {},
   "source": [
    "#  dictionary\n",
    "--> Dictionaries are used to store data values in key:value pairs.\n",
    "\n",
    "--> A dictionary is a collection which is ordered*, changeable and do not allow duplicates.\n",
    "-->Dictionary items are presented in key:value pairs, and can be referred to by using the key name."
   ]
  },
  {
   "cell_type": "code",
   "execution_count": 1,
   "id": "978dcee9",
   "metadata": {},
   "outputs": [
    {
     "name": "stdout",
     "output_type": "stream",
     "text": [
      "{} <class 'dict'>\n"
     ]
    }
   ],
   "source": [
    "# create a empty dic\n",
    "a={}\n",
    "print(a,type(a))\n"
   ]
  },
  {
   "cell_type": "code",
   "execution_count": 3,
   "id": "d6a89cc4",
   "metadata": {},
   "outputs": [
    {
     "name": "stdout",
     "output_type": "stream",
     "text": [
      "{1: 'apple', 2: 'mang0', 3: 'cherry'}\n"
     ]
    }
   ],
   "source": [
    "# create a dic\n",
    "dic={1:'apple',\n",
    "    2:'mang0',\n",
    "    3:\"cherry\"}\n",
    "print(dic)"
   ]
  },
  {
   "cell_type": "code",
   "execution_count": 4,
   "id": "512420bf",
   "metadata": {},
   "outputs": [
    {
     "name": "stdout",
     "output_type": "stream",
     "text": [
      "{'name': 'cinna', 'company': 'tcs', 'year': 2023}\n"
     ]
    }
   ],
   "source": [
    "# create a dic in same values in single key\n",
    "employ={\"name\":\"cinna\",\n",
    "       \"company\":'tcs',\n",
    "       \"year\":2017,\n",
    "       \"year\":2023}\n",
    "print(employ)"
   ]
  },
  {
   "cell_type": "code",
   "execution_count": 13,
   "id": "99defccd",
   "metadata": {},
   "outputs": [
    {
     "name": "stdout",
     "output_type": "stream",
     "text": [
      "{'names': ['siva', 'chinna', 'kavi'], 'company': ['tcs', 'hp', 'inofotech'], 'branch': ('mech', 'bsc', 'bcom'), 'check': True}\n"
     ]
    }
   ],
   "source": [
    "#The values in dictionary items can be of any data type:\n",
    "data={\n",
    "    'names': ['siva','chinna','kavi'],\n",
    "     'company':['tcs','hp','inofotech'],\n",
    "     'branch':('mech','bsc','bcom'),\n",
    "     'check':True\n",
    "}\n",
    "print(data)"
   ]
  },
  {
   "cell_type": "code",
   "execution_count": 16,
   "id": "db12250b",
   "metadata": {},
   "outputs": [
    {
     "name": "stdout",
     "output_type": "stream",
     "text": [
      "{'name': 'siva', 'palce': 'ktc'} <class 'dict'>\n"
     ]
    }
   ],
   "source": [
    "# constructor\n",
    "# in construction donot use quotes('') for key and also a (:)\n",
    "a=dict(name=\"siva\",palce='ktc')\n",
    "print(a,type(a))"
   ]
  },
  {
   "cell_type": "code",
   "execution_count": 17,
   "id": "73d8efbc",
   "metadata": {},
   "outputs": [
    {
     "name": "stdout",
     "output_type": "stream",
     "text": [
      "{1: 'apple', 2: 'mang0', 3: 'cherry', 4: 'orange', 5: 'banana'}\n"
     ]
    }
   ],
   "source": [
    "# update\n",
    "dic={1:'apple',\n",
    "    2:'mang0',\n",
    "    3:\"cherry\"}\n",
    "dic[4]='orange'\n",
    "dic[5]='banana'\n",
    "print(dic)\n"
   ]
  },
  {
   "cell_type": "code",
   "execution_count": 18,
   "id": "b37b77ec",
   "metadata": {},
   "outputs": [
    {
     "name": "stdout",
     "output_type": "stream",
     "text": [
      "{1: 'apple', 2: 'mang0', 3: 'cherry', 4: 'orange', 5: 'banana', 6: 'pine apple'}\n"
     ]
    }
   ],
   "source": [
    "dic[6]='pine apple'\n",
    "print(dic)"
   ]
  },
  {
   "cell_type": "code",
   "execution_count": 19,
   "id": "7cd267a2",
   "metadata": {},
   "outputs": [
    {
     "data": {
      "text/plain": [
       "dict_keys([1, 2, 3, 4, 5, 6])"
      ]
     },
     "execution_count": 19,
     "metadata": {},
     "output_type": "execute_result"
    }
   ],
   "source": [
    "# call for key \n",
    "dic.keys()"
   ]
  },
  {
   "cell_type": "code",
   "execution_count": 20,
   "id": "2f8d5930",
   "metadata": {},
   "outputs": [
    {
     "data": {
      "text/plain": [
       "dict_values(['apple', 'mang0', 'cherry', 'orange', 'banana', 'pine apple'])"
      ]
     },
     "execution_count": 20,
     "metadata": {},
     "output_type": "execute_result"
    }
   ],
   "source": [
    "# call for value\n",
    "dic.values()"
   ]
  },
  {
   "cell_type": "code",
   "execution_count": 32,
   "id": "b31ba3d9",
   "metadata": {},
   "outputs": [
    {
     "data": {
      "text/plain": [
       "'apple'"
      ]
     },
     "execution_count": 32,
     "metadata": {},
     "output_type": "execute_result"
    }
   ],
   "source": [
    "# # call for key to value\n",
    "dic[1]\n",
    "#k=dic.get(2)\n",
    "#print(k)"
   ]
  },
  {
   "cell_type": "code",
   "execution_count": 25,
   "id": "0a29dfe3",
   "metadata": {},
   "outputs": [
    {
     "ename": "KeyError",
     "evalue": "'apple'",
     "output_type": "error",
     "traceback": [
      "\u001b[1;31m---------------------------------------------------------------------------\u001b[0m",
      "\u001b[1;31mKeyError\u001b[0m                                  Traceback (most recent call last)",
      "Cell \u001b[1;32mIn[25], line 2\u001b[0m\n\u001b[0;32m      1\u001b[0m \u001b[38;5;66;03m# call for values to key\u001b[39;00m\n\u001b[1;32m----> 2\u001b[0m \u001b[43mdic\u001b[49m\u001b[43m[\u001b[49m\u001b[38;5;124;43m'\u001b[39;49m\u001b[38;5;124;43mapple\u001b[39;49m\u001b[38;5;124;43m'\u001b[39;49m\u001b[43m]\u001b[49m\n",
      "\u001b[1;31mKeyError\u001b[0m: 'apple'"
     ]
    }
   ],
   "source": [
    "# call for values to key [it donot possible]\n",
    "dic['apple']"
   ]
  },
  {
   "cell_type": "code",
   "execution_count": 33,
   "id": "ee49bfc5",
   "metadata": {},
   "outputs": [
    {
     "data": {
      "text/plain": [
       "dict_items([(1, 'apple'), (2, 'mang0'), (3, 'cherry'), (4, 'orange'), (5, 'banana'), (6, 'pine apple')])"
      ]
     },
     "execution_count": 33,
     "metadata": {},
     "output_type": "execute_result"
    }
   ],
   "source": [
    "# iteams\n",
    "dic.items()"
   ]
  },
  {
   "cell_type": "code",
   "execution_count": 34,
   "id": "2b0e4429",
   "metadata": {},
   "outputs": [
    {
     "name": "stdout",
     "output_type": "stream",
     "text": [
      "{1: 'apple', 2: 'mang0', 3: 'cherry', 4: 'orange', 5: 'pine apple'}\n"
     ]
    }
   ],
   "source": [
    "# change dict\n",
    "dic={1: 'apple', 2: 'mang0', 3: 'cherry', 4: 'orange', 5: 'banana'}\n",
    "dic[5]='pine apple'\n",
    "print(dic)"
   ]
  },
  {
   "cell_type": "code",
   "execution_count": 35,
   "id": "4c216276",
   "metadata": {},
   "outputs": [
    {
     "name": "stdout",
     "output_type": "stream",
     "text": [
      "{1: 'apple', 2: 'mang0', 3: 'cherry', 4: 'orange', 5: 'banana', 6: 'siva', 7: 'chinna'}\n"
     ]
    }
   ],
   "source": [
    "# update\n",
    "dic={1: 'apple', 2: 'mang0', 3: 'cherry', 4: 'orange', 5: 'banana'}\n",
    "dic.update({6:'siva',7:'chinna'})\n",
    "print(dic)"
   ]
  },
  {
   "cell_type": "code",
   "execution_count": 5,
   "id": "bd01f083",
   "metadata": {},
   "outputs": [
    {
     "data": {
      "text/plain": [
       "'banana'"
      ]
     },
     "execution_count": 5,
     "metadata": {},
     "output_type": "execute_result"
    }
   ],
   "source": [
    "dic={1: 'apple', 2: 'mang0', 3: 'cherry', 4: 'orange', 5: 'banana'}\n",
    "# pop\n",
    "dic.pop(5)\n"
   ]
  },
  {
   "cell_type": "code",
   "execution_count": 7,
   "id": "75d8f0a5",
   "metadata": {},
   "outputs": [
    {
     "name": "stdout",
     "output_type": "stream",
     "text": [
      "{1: 'apple', 2: 'mang0', 3: 'cherry', 5: 'banana'}\n"
     ]
    }
   ],
   "source": [
    "dic={1: 'apple', 2: 'mang0', 3: 'cherry', 4: 'orange', 5: 'banana'}\n",
    "# del\n",
    "del dic[4]\n",
    "print(dic)"
   ]
  },
  {
   "cell_type": "code",
   "execution_count": 8,
   "id": "f1b45455",
   "metadata": {},
   "outputs": [
    {
     "name": "stdout",
     "output_type": "stream",
     "text": [
      "{}\n"
     ]
    }
   ],
   "source": [
    "dic={1: 'apple', 2: 'mang0', 3: 'cherry', 4: 'orange', 5: 'banana'}\n",
    "# clear\n",
    "dic.clear()\n",
    "print(dic)"
   ]
  },
  {
   "cell_type": "code",
   "execution_count": 17,
   "id": "16accb00",
   "metadata": {},
   "outputs": [
    {
     "name": "stdout",
     "output_type": "stream",
     "text": [
      "1\n",
      "2\n",
      "3\n",
      "4\n",
      "5\n"
     ]
    },
    {
     "data": {
      "text/plain": [
       "'for i in dic.keys():\\n    print(i)'"
      ]
     },
     "execution_count": 17,
     "metadata": {},
     "output_type": "execute_result"
    }
   ],
   "source": [
    "# loop call for keys\n",
    "dic={1: 'apple', 2: 'mang0', 3: 'cherry', 4: 'orange', 5: 'banana'}\n",
    "for i in dic:\n",
    "    print(i)\n",
    "'''for i in dic.keys():\n",
    "    print(i)'''"
   ]
  },
  {
   "cell_type": "code",
   "execution_count": 19,
   "id": "e760b7ca",
   "metadata": {},
   "outputs": [
    {
     "name": "stdout",
     "output_type": "stream",
     "text": [
      "apple\n",
      "mang0\n",
      "cherry\n",
      "orange\n",
      "banana\n"
     ]
    },
    {
     "data": {
      "text/plain": [
       "'for i in dic.values():\\n    print(i)'"
      ]
     },
     "execution_count": 19,
     "metadata": {},
     "output_type": "execute_result"
    }
   ],
   "source": [
    "# loop call for values\n",
    "for i in dic:\n",
    "    print(dic[i])\n",
    "'''for i in dic.values():\n",
    "    print(i)'''"
   ]
  },
  {
   "cell_type": "code",
   "execution_count": 20,
   "id": "4c472288",
   "metadata": {},
   "outputs": [
    {
     "name": "stdout",
     "output_type": "stream",
     "text": [
      "{'siva': {1: 'mango', 2: 'jackfruit'}, 'chinna': {1: 'apple', 2: 'banana'}, 'rasul': {1: 'orange', 2: 'cherry'}}\n"
     ]
    }
   ],
   "source": [
    "# nested dic\n",
    "n_dic={'siva':{1:'mango',\n",
    "              2:'jackfruit'},\n",
    "      'chinna':{1:'apple',\n",
    "               2:'banana'},\n",
    "      'rasul':{1:'orange',\n",
    "              2:'cherry'}}\n",
    "print(n_dic)"
   ]
  },
  {
   "cell_type": "code",
   "execution_count": 25,
   "id": "fcf7047f",
   "metadata": {},
   "outputs": [
    {
     "data": {
      "text/plain": [
       "'banana'"
      ]
     },
     "execution_count": 25,
     "metadata": {},
     "output_type": "execute_result"
    }
   ],
   "source": [
    "n_dic['chinna'][2]"
   ]
  },
  {
   "cell_type": "code",
   "execution_count": 26,
   "id": "e366a31b",
   "metadata": {},
   "outputs": [],
   "source": [
    "ndict = {\n",
    "    \"quiz\": {\n",
    "        \"sport\": {\n",
    "            \"q1\": {\n",
    "                \"question\": \"Which one is correct team name in NBA?\",\n",
    "                \"options\": [\n",
    "                    \"New York Bulls\",\n",
    "                    \"Los Angeles Kings\",\n",
    "                    \"Golden State Warriros\",\n",
    "                    \"Huston Rocket\"\n",
    "                ],\n",
    "                \"answer\": \"Huston Rocket\"\n",
    "            }\n",
    "        },\n",
    "        \"maths\": {\n",
    "            \"q1\": {\n",
    "                \"question\": \"5 + 7 = ?\",\n",
    "                \"options\": [\n",
    "                    \"10\",\n",
    "                    \"11\",\n",
    "                    \"12\",\n",
    "                    \"13\"\n",
    "                ],\n",
    "                \"answer\": \"12\"\n",
    "            },\n",
    "            \"q2\": {\n",
    "                \"question\": \"12 - 8 = ?\",\n",
    "                \"options\": [\n",
    "                    \"1\",\n",
    "                    \"2\",\n",
    "                    \"3\",\n",
    "                    \"4\"\n",
    "                ],\n",
    "                \"answer\": \"4\"\n",
    "            }\n",
    "        }\n",
    "    }\n",
    "}"
   ]
  },
  {
   "cell_type": "code",
   "execution_count": null,
   "id": "fe42cd42",
   "metadata": {},
   "outputs": [],
   "source": []
  }
 ],
 "metadata": {
  "kernelspec": {
   "display_name": "Python 3 (ipykernel)",
   "language": "python",
   "name": "python3"
  },
  "language_info": {
   "codemirror_mode": {
    "name": "ipython",
    "version": 3
   },
   "file_extension": ".py",
   "mimetype": "text/x-python",
   "name": "python",
   "nbconvert_exporter": "python",
   "pygments_lexer": "ipython3",
   "version": "3.10.9"
  }
 },
 "nbformat": 4,
 "nbformat_minor": 5
}
