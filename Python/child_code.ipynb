{
 "cells": [
  {
   "cell_type": "code",
   "execution_count": null,
   "id": "0f9146aa",
   "metadata": {},
   "outputs": [],
   "source": []
  },
  {
   "cell_type": "code",
   "execution_count": 1,
   "id": "5aa33cde",
   "metadata": {},
   "outputs": [
    {
     "name": "stdout",
     "output_type": "stream",
     "text": [
      "ok\n"
     ]
    }
   ],
   "source": [
    "import mysql.connector\n",
    "connection=mysql.connector.connect(\n",
    "    host='localhost',\n",
    "    user='root',\n",
    "    password='root@123',\n",
    "    database='mitraz',\n",
    "    )\n",
    "cursor=connection.cursor()\n",
    "def ins():\n",
    "    print(\"enter\")\n",
    "    try:\n",
    "        ins='insert into custo values(%s,%s,%s,%s,%s,%s)'\n",
    "        ins_value=(int(input(\"enter a id: \")),input('enter a name: '),int(input('enter a age: ')),input(\"enter a address: \"),int(input(\"enter a salary: \")),input(\"enter a email: \"))\n",
    "        cursor.execute(ins,ins_value)\n",
    "        connection.commit()\n",
    "        print(\"Insertion successful!\")\n",
    "    except mysql.connector as error:\n",
    "        print(\"mysql error\")\n",
    "def up():\n",
    "    try:\n",
    "        ide= int(input(\"enter the id : \"))\n",
    "        sel= \"select * from custo where id = %s\"\n",
    "        cursor.execute(sel,(ide,))\n",
    "        existing_record=cursor.fetchone()\n",
    "        if existing_record:\n",
    "            up='update custo set name=%s where id=%s'\n",
    "            up_value=(input(\"enter a name: \"),int(input('enter a id: ')))\n",
    "            cursor.execute(up,up_value)\n",
    "            connection.commit()\n",
    "            print('updated')\n",
    "        else:\n",
    "            print('No such id exists')\n",
    "    except mysql.connector as error:\n",
    "        print(\"mysql error\")\n",
    "print('ok')\n",
    "        "
   ]
  },
  {
   "cell_type": "code",
   "execution_count": null,
   "id": "f2d45926",
   "metadata": {},
   "outputs": [],
   "source": []
  },
  {
   "cell_type": "code",
   "execution_count": null,
   "id": "784b548f",
   "metadata": {},
   "outputs": [],
   "source": []
  },
  {
   "cell_type": "code",
   "execution_count": null,
   "id": "dcde4763",
   "metadata": {},
   "outputs": [],
   "source": []
  }
 ],
 "metadata": {
  "kernelspec": {
   "display_name": "Python 3 (ipykernel)",
   "language": "python",
   "name": "python3"
  },
  "language_info": {
   "codemirror_mode": {
    "name": "ipython",
    "version": 3
   },
   "file_extension": ".py",
   "mimetype": "text/x-python",
   "name": "python",
   "nbconvert_exporter": "python",
   "pygments_lexer": "ipython3",
   "version": "3.10.9"
  }
 },
 "nbformat": 4,
 "nbformat_minor": 5
}
