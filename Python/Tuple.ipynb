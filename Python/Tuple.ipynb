{
 "cells": [
  {
   "cell_type": "code",
   "execution_count": 1,
   "id": "befe10dd",
   "metadata": {},
   "outputs": [
    {
     "name": "stdout",
     "output_type": "stream",
     "text": [
      "('siva', 'chinna', 'rasul')\n"
     ]
    }
   ],
   "source": [
    "a=('siva','chinna',\"rasul\")\n",
    "print(a)"
   ]
  },
  {
   "cell_type": "code",
   "execution_count": 2,
   "id": "2a15c30d",
   "metadata": {},
   "outputs": [
    {
     "name": "stdout",
     "output_type": "stream",
     "text": [
      "<class 'tuple'> 1509960995008\n"
     ]
    }
   ],
   "source": [
    "print(type(a),id(a))"
   ]
  },
  {
   "cell_type": "code",
   "execution_count": 8,
   "id": "3df45913",
   "metadata": {},
   "outputs": [
    {
     "name": "stdout",
     "output_type": "stream",
     "text": [
      "siva kaVI RAVI <class 'str'>\n",
      "('siva', 'kavi', 'ravi') <class 'tuple'>\n"
     ]
    }
   ],
   "source": [
    "#tuple constructor\n",
    "a=('siva ''kaVI ''RAVI')\n",
    "print(a,type(a))\n",
    "a=tuple(('siva','kavi','ravi'))\n",
    "print(a,type(a))\n"
   ]
  },
  {
   "cell_type": "code",
   "execution_count": 9,
   "id": "415f7d75",
   "metadata": {},
   "outputs": [
    {
     "name": "stdout",
     "output_type": "stream",
     "text": [
      "(2, 4, 5, 6, 7, 4, 5)\n"
     ]
    }
   ],
   "source": [
    "# allow the duplicates\n",
    "a=(2,4,5,6,7,4,5)\n",
    "print(a)"
   ]
  },
  {
   "cell_type": "code",
   "execution_count": 36,
   "id": "b4a8889e",
   "metadata": {},
   "outputs": [
    {
     "name": "stdout",
     "output_type": "stream",
     "text": [
      "7 2 5\n"
     ]
    }
   ],
   "source": [
    "# index\n",
    "a=(2,5,4,8,5,7,4,5,2)\n",
    "b=a[5]\n",
    "print(b,a[-1],a[7])"
   ]
  },
  {
   "cell_type": "code",
   "execution_count": 37,
   "id": "8aeb985e",
   "metadata": {},
   "outputs": [
    {
     "ename": "TypeError",
     "evalue": "'tuple' object does not support item assignment",
     "output_type": "error",
     "traceback": [
      "\u001b[1;31m---------------------------------------------------------------------------\u001b[0m",
      "\u001b[1;31mTypeError\u001b[0m                                 Traceback (most recent call last)",
      "Cell \u001b[1;32mIn[37], line 3\u001b[0m\n\u001b[0;32m      1\u001b[0m \u001b[38;5;66;03m# adding\u001b[39;00m\n\u001b[0;32m      2\u001b[0m a\u001b[38;5;241m=\u001b[39m(\u001b[38;5;241m2\u001b[39m,\u001b[38;5;241m5\u001b[39m,\u001b[38;5;241m4\u001b[39m,\u001b[38;5;241m8\u001b[39m,\u001b[38;5;241m5\u001b[39m,\u001b[38;5;241m7\u001b[39m,\u001b[38;5;241m4\u001b[39m,\u001b[38;5;241m5\u001b[39m,\u001b[38;5;241m2\u001b[39m)\n\u001b[1;32m----> 3\u001b[0m a[\u001b[38;5;241m1\u001b[39m]\u001b[38;5;241m=\u001b[39m\u001b[38;5;241m800\u001b[39m\n\u001b[0;32m      4\u001b[0m \u001b[38;5;28mprint\u001b[39m(a)\n",
      "\u001b[1;31mTypeError\u001b[0m: 'tuple' object does not support item assignment"
     ]
    }
   ],
   "source": [
    "# adding\n",
    "a=(2,5,4,8,5,7,4,5,2)\n",
    "a[1]=800\n",
    "print(a)"
   ]
  },
  {
   "cell_type": "code",
   "execution_count": 38,
   "id": "9b325a34",
   "metadata": {},
   "outputs": [
    {
     "name": "stdout",
     "output_type": "stream",
     "text": [
      "(2, 8, 7, 5, 4, 8, 5, 7, 4, 8, 2)\n"
     ]
    }
   ],
   "source": [
    "# concatenaing\n",
    "a=(2,8,7,5,4)\n",
    "b=(8,5,7,4,8,2)\n",
    "print(a+b)"
   ]
  },
  {
   "cell_type": "code",
   "execution_count": 39,
   "id": "8dde4074",
   "metadata": {},
   "outputs": [
    {
     "name": "stdout",
     "output_type": "stream",
     "text": [
      "('kiran', 'rakesh') (44, 99)\n"
     ]
    }
   ],
   "source": [
    "# nested tuple\n",
    "a=(\"kiran\",\"rakesh\")\n",
    "b=(44,99)\n",
    "print(a,b)"
   ]
  },
  {
   "cell_type": "code",
   "execution_count": 40,
   "id": "2a3bb775",
   "metadata": {},
   "outputs": [
    {
     "name": "stdout",
     "output_type": "stream",
     "text": [
      "('siva', 'siva', 'siva', 'siva', 'siva', 'siva', 'siva', 'siva', 'siva', 'siva', 'siva', 'siva', 'siva', 'siva', 'siva', 'siva', 'siva', 'siva', 'siva', 'siva', 'siva', 'siva', 'siva', 'siva', 'siva', 'siva', 'siva', 'siva', 'siva', 'siva', 'siva', 'siva', 'siva', 'siva', 'siva', 'siva', 'siva', 'siva', 'siva', 'siva', 'siva', 'siva', 'siva', 'siva', 'siva', 'siva', 'siva', 'siva', 'siva', 'siva', 'siva', 'siva', 'siva', 'siva', 'siva', 'siva', 'siva', 'siva', 'siva', 'siva', 'siva', 'siva', 'siva', 'siva', 'siva', 'siva', 'siva', 'siva', 'siva', 'siva', 'siva', 'siva', 'siva', 'siva', 'siva', 'siva', 'siva', 'siva', 'siva', 'siva', 'siva', 'siva', 'siva', 'siva', 'siva', 'siva', 'siva', 'siva', 'siva', 'siva', 'siva', 'siva', 'siva', 'siva', 'siva', 'siva', 'siva', 'siva', 'siva', 'siva')\n"
     ]
    }
   ],
   "source": [
    "# repetation\n",
    "a=('siva',)\n",
    "print(a*100)\n"
   ]
  },
  {
   "cell_type": "code",
   "execution_count": 45,
   "id": "97b48b7b",
   "metadata": {},
   "outputs": [
    {
     "name": "stdout",
     "output_type": "stream",
     "text": [
      "(99, 55, 77, 55, 99, 44, 88, 544, 11, 22, 4, 8, 7, 22, 6, 5, 44, 9, 8, 7, 5) (5, 5)\n",
      "(5, 9, 6)\n"
     ]
    }
   ],
   "source": [
    "# slicing\n",
    "a=(5,7,8,9,44,5,6,22,7,8,4,22,11,544,88,44,99,55,77,55,99)\n",
    "print(a[::-1],a[:8:5])\n",
    "print(a[:8:3])"
   ]
  },
  {
   "cell_type": "code",
   "execution_count": 46,
   "id": "dec7a55b",
   "metadata": {},
   "outputs": [
    {
     "name": "stdout",
     "output_type": "stream",
     "text": [
      "(7, 8, 5, 7, 9, 4, 2, 8, 6, 4, 2, 5, 8) before\n"
     ]
    },
    {
     "ename": "NameError",
     "evalue": "name 'a' is not defined",
     "output_type": "error",
     "traceback": [
      "\u001b[1;31m---------------------------------------------------------------------------\u001b[0m",
      "\u001b[1;31mNameError\u001b[0m                                 Traceback (most recent call last)",
      "Cell \u001b[1;32mIn[46], line 4\u001b[0m\n\u001b[0;32m      2\u001b[0m \u001b[38;5;28mprint\u001b[39m(a,\u001b[38;5;124m\"\u001b[39m\u001b[38;5;124mbefore\u001b[39m\u001b[38;5;124m\"\u001b[39m)\n\u001b[0;32m      3\u001b[0m \u001b[38;5;28;01mdel\u001b[39;00m a\n\u001b[1;32m----> 4\u001b[0m \u001b[38;5;28mprint\u001b[39m(\u001b[43ma\u001b[49m,\u001b[38;5;124m\"\u001b[39m\u001b[38;5;124mafter\u001b[39m\u001b[38;5;124m\"\u001b[39m)\n",
      "\u001b[1;31mNameError\u001b[0m: name 'a' is not defined"
     ]
    }
   ],
   "source": [
    "a=(7,8,5,7,9,4,2,8,6,4,2,5,8)\n",
    "print(a,\"before\")\n",
    "del a\n",
    "print(a,\"after\")"
   ]
  },
  {
   "cell_type": "code",
   "execution_count": 47,
   "id": "7b9b245c",
   "metadata": {},
   "outputs": [
    {
     "name": "stdout",
     "output_type": "stream",
     "text": [
      "[7, 8, 9, 4, 5, 6, 12, 3, 5, 7, 54, 89] <class 'list'>\n"
     ]
    }
   ],
   "source": [
    "a=list((7,8,9,4,5,6,12,3,5,7,54,89))\n",
    "print(a,type(a))"
   ]
  },
  {
   "cell_type": "code",
   "execution_count": 49,
   "id": "558d73b1",
   "metadata": {},
   "outputs": [
    {
     "name": "stdout",
     "output_type": "stream",
     "text": [
      "(7, 8, 9, 4, 5, 6, 12, 3, 5, 7, 54, 89) <class 'tuple'>\n"
     ]
    }
   ],
   "source": [
    "a=tuple((7,8,9,4,5,6,12,3,5,7,54,89))\n",
    "print((a),type(a))"
   ]
  },
  {
   "cell_type": "code",
   "execution_count": 50,
   "id": "1040309a",
   "metadata": {},
   "outputs": [
    {
     "name": "stdout",
     "output_type": "stream",
     "text": [
      "{3, 4, 5, 6, 7, 8, 9, 12, 54, 89} <class 'set'>\n"
     ]
    }
   ],
   "source": [
    "a=set((7,8,9,4,5,6,12,3,5,7,54,89))\n",
    "print((a),type(a))"
   ]
  },
  {
   "cell_type": "code",
   "execution_count": 57,
   "id": "ebc1881a",
   "metadata": {},
   "outputs": [
    {
     "name": "stdout",
     "output_type": "stream",
     "text": [
      "<class 'dict'> <class 'type'>\n"
     ]
    }
   ],
   "source": [
    "a=dict#((7,8,9,4,5,6,12,3,5,7,54,89))\n",
    "print((a),type(a))"
   ]
  },
  {
   "cell_type": "code",
   "execution_count": null,
   "id": "58c67c87",
   "metadata": {},
   "outputs": [],
   "source": []
  }
 ],
 "metadata": {
  "kernelspec": {
   "display_name": "Python 3 (ipykernel)",
   "language": "python",
   "name": "python3"
  },
  "language_info": {
   "codemirror_mode": {
    "name": "ipython",
    "version": 3
   },
   "file_extension": ".py",
   "mimetype": "text/x-python",
   "name": "python",
   "nbconvert_exporter": "python",
   "pygments_lexer": "ipython3",
   "version": "3.10.9"
  }
 },
 "nbformat": 4,
 "nbformat_minor": 5
}
