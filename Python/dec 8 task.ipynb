{
 "cells": [
  {
   "cell_type": "markdown",
   "id": "08a13f06",
   "metadata": {},
   "source": [
    "1. Write a program to create a function that takes two arguments, name and age, and\n",
    "print their value"
   ]
  },
  {
   "cell_type": "code",
   "execution_count": 7,
   "id": "f96388a9",
   "metadata": {},
   "outputs": [
    {
     "name": "stdout",
     "output_type": "stream",
     "text": [
      "enter a name is:- sankar\n",
      "enter your age:- 21\n"
     ]
    },
    {
     "data": {
      "text/plain": [
       "('sankar', 21)"
      ]
     },
     "execution_count": 7,
     "metadata": {},
     "output_type": "execute_result"
    }
   ],
   "source": [
    "name=input('enter a name is:- ')\n",
    "age=int(input('enter your age:- '))\n",
    "def siva(a,b):\n",
    "    return a,b  \n",
    "siva(name,age)"
   ]
  },
  {
   "cell_type": "markdown",
   "id": "d88f7018",
   "metadata": {},
   "source": [
    "2.Write a program to create a function show_employee() using the following conditions.\n",
    "a.It should accept the employee’s name and salary and display both.\n",
    "b.If the salary is missing in the function call then assign default value 9000 to\n",
    "salary"
   ]
  },
  {
   "cell_type": "code",
   "execution_count": 16,
   "id": "9b09b5a5",
   "metadata": {},
   "outputs": [
    {
     "name": "stdout",
     "output_type": "stream",
     "text": [
      "enter a name is:- kavi\n",
      "kavi emp-name\n",
      "9000 emp-salary\n"
     ]
    }
   ],
   "source": [
    "name=input('enter a name is:- ')\n",
    "#salary=int(input('enter your salary:- '))\n",
    "def siva(a,salary=9000):\n",
    "    print(a,'emp-name')\n",
    "    print(salary,'emp-salary')\n",
    "siva(name)"
   ]
  },
  {
   "cell_type": "markdown",
   "id": "072a1e94",
   "metadata": {},
   "source": [
    "3.Define a function that accepts lowercase words and returns uppercase words."
   ]
  },
  {
   "cell_type": "code",
   "execution_count": 19,
   "id": "4bf35c1d",
   "metadata": {},
   "outputs": [
    {
     "name": "stdout",
     "output_type": "stream",
     "text": [
      "['SIVA', 'KAVI', 'RAMU']\n"
     ]
    }
   ],
   "source": [
    "lowercase=['siva','kavi','ramu']\n",
    "def char(a):\n",
    "    print([i.upper()for i in a])\n",
    "    \n",
    "char(lowercase)"
   ]
  },
  {
   "cell_type": "markdown",
   "id": "2fb2f103",
   "metadata": {},
   "source": [
    "4.Define a function that accepts 2 values and return its sum, subtraction and\n",
    "multiplication."
   ]
  },
  {
   "cell_type": "code",
   "execution_count": 21,
   "id": "5692d944",
   "metadata": {},
   "outputs": [
    {
     "name": "stdout",
     "output_type": "stream",
     "text": [
      "enter a num1:- 5\n",
      "enter a num2:- 10\n",
      "sum is:- 15 sub is:-  -5 mul is:- 50\n"
     ]
    }
   ],
   "source": [
    "num1=int(input('enter a num1:- '))\n",
    "num2=int(input('enter a num2:- '))\n",
    "def num(a,b):\n",
    "    print('sum is:-',a+b,'sub is:- ',a-b,'mul is:-',a*b)\n",
    "num(num1,num2)"
   ]
  },
  {
   "cell_type": "code",
   "execution_count": null,
   "id": "415eb2a7",
   "metadata": {},
   "outputs": [],
   "source": []
  }
 ],
 "metadata": {
  "kernelspec": {
   "display_name": "Python 3 (ipykernel)",
   "language": "python",
   "name": "python3"
  },
  "language_info": {
   "codemirror_mode": {
    "name": "ipython",
    "version": 3
   },
   "file_extension": ".py",
   "mimetype": "text/x-python",
   "name": "python",
   "nbconvert_exporter": "python",
   "pygments_lexer": "ipython3",
   "version": "3.10.9"
  }
 },
 "nbformat": 4,
 "nbformat_minor": 5
}
