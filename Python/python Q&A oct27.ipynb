{
 "cells": [
  {
   "cell_type": "code",
   "execution_count": 3,
   "id": "f5e907ee",
   "metadata": {},
   "outputs": [
    {
     "name": "stdout",
     "output_type": "stream",
     "text": [
      "enter your age: 15\n",
      "15 your age is low ,your not eligible\n"
     ]
    }
   ],
   "source": [
    "# 1.Write a programme to check whether a person is eligible for voting or not?(Hint:accept age from user)\n",
    "age=int(input(\"enter your age: \"))\n",
    "if age>=18:\n",
    "    print(age,'your eligible for vote')\n",
    "else:\n",
    "    print(age,'your age is low ,your not eligible')"
   ]
  },
  {
   "cell_type": "code",
   "execution_count": 5,
   "id": "bfa53d01",
   "metadata": {},
   "outputs": [
    {
     "name": "stdout",
     "output_type": "stream",
     "text": [
      "enter a number : 2\n",
      "2 it is a even\n"
     ]
    }
   ],
   "source": [
    "# 2.Write a programme to check whether a number entered by user is even or odd.\n",
    "num=int(input('enter a number : '))\n",
    "if num%2==0:\n",
    "    print(num,'it is a even')\n",
    "else:\n",
    "    print(num,'it is odd')"
   ]
  },
  {
   "cell_type": "code",
   "execution_count": 8,
   "id": "643b3908",
   "metadata": {},
   "outputs": [
    {
     "name": "stdout",
     "output_type": "stream",
     "text": [
      "enter a number : 65\n",
      "65 it is  divisible by 5\n"
     ]
    }
   ],
   "source": [
    "# 3.Write a programme to check a number is divisible by 5 or not.\n",
    "num=int(input('enter a number : '))\n",
    "if num%5==0:\n",
    "    print(num,'it is  divisible by 5')\n",
    "else:\n",
    "    print(num,'it is not divisible by 5')"
   ]
  },
  {
   "cell_type": "code",
   "execution_count": 10,
   "id": "9b9c24ef",
   "metadata": {},
   "outputs": [
    {
     "name": "stdout",
     "output_type": "stream",
     "text": [
      "enter a number : 39\n",
      "39 hi\n"
     ]
    }
   ],
   "source": [
    "# 4.Write a programme to display \"Hi\" if a number entered by user is a multiple of 3, otherwise print \"Bye\".\n",
    "num=int(input('enter a number : '))\n",
    "if num%3==0:\n",
    "    print(num,'hi')\n",
    "else:\n",
    "    print(num,'bye')"
   ]
  },
  {
   "cell_type": "code",
   "execution_count": 14,
   "id": "d65399bb",
   "metadata": {},
   "outputs": [
    {
     "name": "stdout",
     "output_type": "stream",
     "text": [
      "enter your marks 40\n",
      "D grade\n"
     ]
    }
   ],
   "source": [
    " '''5.Write a programme to accept percentage from the user and display the grade according to the following criteria.\n",
    "        Marks          Grade\n",
    "         >90            A\n",
    "         >80 and <=90   B\n",
    "         >=60 and <=80  C\n",
    "         below 60       D '''\n",
    "marks=int(input('enter your marks '))\n",
    "if marks>90:\n",
    "    print(\"A grade\")\n",
    "elif marks>80 and marks<=90:\n",
    "    print('B grade')\n",
    "elif marks>=60 and marks<=80:\n",
    "    print('C grade')\n",
    "else:\n",
    "    print('D grade')\n"
   ]
  },
  {
   "cell_type": "code",
   "execution_count": 2,
   "id": "8cebcaf7",
   "metadata": {},
   "outputs": [
    {
     "name": "stdout",
     "output_type": "stream",
     "text": [
      "3\n"
     ]
    }
   ],
   "source": [
    "# 6.Write a python for loop to count the number of elements in a list.\n",
    "list=['siva','kavi','ravi']\n",
    "c=0\n",
    "for i in list:\n",
    "    c=c+1\n",
    "print(c)\n",
    "    "
   ]
  },
  {
   "cell_type": "code",
   "execution_count": 7,
   "id": "52232b79",
   "metadata": {},
   "outputs": [
    {
     "name": "stdout",
     "output_type": "stream",
     "text": [
      "\n",
      "* \n",
      "* * \n",
      "* * * \n"
     ]
    }
   ],
   "source": [
    "# 7 Write a python for loop to print a triangle of stars\n",
    "a=4\n",
    "for i in range(a):\n",
    "    for j in range(i):\n",
    "        print(\"*\",end=\" \")\n",
    "    print()"
   ]
  },
  {
   "cell_type": "code",
   "execution_count": 8,
   "id": "9bf8a946",
   "metadata": {},
   "outputs": [
    {
     "name": "stdout",
     "output_type": "stream",
     "text": [
      "\n",
      "* \n",
      "* * \n",
      "* * * \n",
      "* * * * \n",
      "* * * \n",
      "* * \n",
      "* \n"
     ]
    }
   ],
   "source": [
    "# 7 Write a python for loop to print a triangle of stars.\n",
    "a=4\n",
    "for i in range(a):\n",
    "    for j in range(i):\n",
    "        print(\"*\",end=\" \")\n",
    "    print()\n",
    "for i in range(a):\n",
    "    for j in range(a-i):\n",
    "        print(\"*\",end=\" \")\n",
    "    print()\n",
    "        "
   ]
  },
  {
   "cell_type": "code",
   "execution_count": 64,
   "id": "b2811ffa",
   "metadata": {},
   "outputs": [
    {
     "name": "stdout",
     "output_type": "stream",
     "text": [
      "    * \n",
      "   * * \n",
      "  * * * \n",
      " * * * * \n"
     ]
    }
   ],
   "source": [
    "# 7 Write a python for loop to print a triangle of stars\n",
    "a=4\n",
    "for i in range(0,a):\n",
    "    for j in range(a-i):\n",
    "        print(\" \",end='')\n",
    "    for j in range(i+1):\n",
    "        print(\"*\",end=\" \")\n",
    "    print()\n"
   ]
  },
  {
   "cell_type": "code",
   "execution_count": 80,
   "id": "ba49b35d",
   "metadata": {},
   "outputs": [
    {
     "name": "stdout",
     "output_type": "stream",
     "text": [
      "[1, 2, 3, 4, 5, 6]\n"
     ]
    }
   ],
   "source": [
    "# 8 .Write a python for loop to copy elements from one list to another.\n",
    "l=[1,2,3,4,5,6]\n",
    "el=[]\n",
    "for i in (l):\n",
    "    el.append(i)\n",
    "print(el)\n",
    "\n"
   ]
  },
  {
   "cell_type": "code",
   "execution_count": null,
   "id": "128492c3",
   "metadata": {},
   "outputs": [],
   "source": []
  },
  {
   "cell_type": "code",
   "execution_count": 72,
   "id": "efd8db9c",
   "metadata": {},
   "outputs": [
    {
     "name": "stdout",
     "output_type": "stream",
     "text": [
      "[1, 5, 6, 7, 9, 13]\n"
     ]
    }
   ],
   "source": [
    "# 9.Write a python for loop to sort the numbers in a list in ascending order\n",
    "num=[1,9,13,7,5,6]\n",
    "temp=0\n",
    "for i in range(len(num)):\n",
    "    for j in range(i+1,len(num)) :\n",
    "        if num[i]>num[j]:\n",
    "            temp=num[i]\n",
    "            num[i]=num[j]\n",
    "            num[j]=temp\n",
    "print(num)\n",
    "            \n",
    "    \n"
   ]
  },
  {
   "cell_type": "code",
   "execution_count": 19,
   "id": "5509e481",
   "metadata": {},
   "outputs": [
    {
     "name": "stdout",
     "output_type": "stream",
     "text": [
      "enter a number : 20\n",
      "0\n",
      "3\n",
      "6\n",
      "9\n",
      "12\n",
      "15\n",
      "18\n"
     ]
    }
   ],
   "source": [
    "# 10 Write a python for loop to print the multiples of 3 using range() function.\n",
    "num=int(input('enter a number : '))\n",
    "for i in range(num):\n",
    "    if i%3==0:\n",
    "        print(i)\n"
   ]
  },
  {
   "cell_type": "code",
   "execution_count": null,
   "id": "1fc7a234",
   "metadata": {},
   "outputs": [],
   "source": []
  },
  {
   "cell_type": "code",
   "execution_count": 16,
   "id": "0528ff47",
   "metadata": {},
   "outputs": [
    {
     "name": "stdout",
     "output_type": "stream",
     "text": [
      "10 9 8 7 6 5 4 3 2 1 "
     ]
    }
   ],
   "source": [
    "# 11.Write a python for loop to print the numbers in reverse order using range() function\n",
    "for i in range(10,0,-1):\n",
    "    print(i,end=\" \")"
   ]
  },
  {
   "cell_type": "code",
   "execution_count": 19,
   "id": "739f9e67",
   "metadata": {},
   "outputs": [
    {
     "name": "stdout",
     "output_type": "stream",
     "text": [
      "1\n",
      "2\n",
      "3\n",
      "4\n"
     ]
    }
   ],
   "source": [
    "# 12.Print the items in a tuple using while loop\n",
    "a=(1,2,3,4)\n",
    "i=0\n",
    "while i<len(a):\n",
    "    print(a[i])\n",
    "    i=i+1"
   ]
  },
  {
   "cell_type": "code",
   "execution_count": 27,
   "id": "04febf28",
   "metadata": {},
   "outputs": [
    {
     "name": "stdout",
     "output_type": "stream",
     "text": [
      "15\n"
     ]
    }
   ],
   "source": [
    "# 13.Find the sum of numbers in a list using while loop\n",
    "a=(1,2,3,4,5)\n",
    "i=0\n",
    "c=0\n",
    "while i<len(a):\n",
    "    i=i+1\n",
    "    c=c+i\n",
    "print(c)"
   ]
  },
  {
   "cell_type": "code",
   "execution_count": 1,
   "id": "3895f9dd",
   "metadata": {},
   "outputs": [
    {
     "name": "stdout",
     "output_type": "stream",
     "text": [
      "m\n",
      "t\n",
      "r\n",
      "z\n"
     ]
    }
   ],
   "source": [
    "# 14.Print all letters in \"Mytraz\" except \"y\" and \"a\" using Python while loop\n",
    "a=\"mytraz\"\n",
    "i=0\n",
    "while i<len(a):\n",
    "    if a[i]!=\"y\" and a[i]!=\"a\":  \n",
    "        print(a[i])\n",
    "    i=i+1"
   ]
  },
  {
   "cell_type": "code",
   "execution_count": 1,
   "id": "a8cdf442",
   "metadata": {},
   "outputs": [
    {
     "name": "stdout",
     "output_type": "stream",
     "text": [
      "entar a num 4\n",
      "Enter number: 2\n",
      "Enter number: 5\n",
      "Enter number: 7\n",
      "Enter number: 8\n",
      "Average of numbers = 5.5\n"
     ]
    }
   ],
   "source": [
    "# 16.Find the average of 5 numbers using while loop(accept numbers from user)\n",
    "a=int(input('entar a num '))\n",
    "c = 0\n",
    "i=0\n",
    "while i<a:\n",
    "    num = int(input('Enter number: '))\n",
    "    c += num\n",
    "    i=i+1\n",
    "avg = c/ a\n",
    "print('Average of numbers =', avg)  "
   ]
  },
  {
   "cell_type": "code",
   "execution_count": 3,
   "id": "0a146465",
   "metadata": {},
   "outputs": [
    {
     "name": "stdout",
     "output_type": "stream",
     "text": [
      "enter a num 5\n",
      "1\n",
      "4\n",
      "9\n",
      "16\n",
      "25\n"
     ]
    }
   ],
   "source": [
    "# 17.Print the square of numbers from 1 to 5 using while loop\n",
    "a=int(input(\"enter a num \"))\n",
    "i=1\n",
    "while i<=a:\n",
    "    print(i*i)\n",
    "    i=i+1\n"
   ]
  },
  {
   "cell_type": "code",
   "execution_count": 1,
   "id": "2bf24d8d",
   "metadata": {},
   "outputs": [
    {
     "name": "stdout",
     "output_type": "stream",
     "text": [
      "hello\n"
     ]
    }
   ],
   "source": [
    "print(\"hello\")\n",
    " "
   ]
  },
  {
   "cell_type": "code",
   "execution_count": null,
   "id": "8c199cb3",
   "metadata": {},
   "outputs": [],
   "source": []
  },
  {
   "cell_type": "code",
   "execution_count": 3,
   "id": "b80e517f",
   "metadata": {},
   "outputs": [
    {
     "name": "stdout",
     "output_type": "stream",
     "text": [
      "Enter a decimal number: 25\n",
      "Binary representation: 11001\n"
     ]
    }
   ],
   "source": [
    "\n",
    "# 15 daci to bina\n",
    "decimal_num = int(input(\"Enter a decimal number: \"))\n",
    "binary_num = ''\n",
    "\n",
    "if decimal_num == 0:\n",
    "    binary_num = '0'\n",
    "else:\n",
    "    while decimal_num > 0:\n",
    "        remainder = decimal_num % 2\n",
    "        binary_num = str(remainder) + binary_num\n",
    "        decimal_num = decimal_num // 2\n",
    "\n",
    "print(\"Binary representation:\", binary_num)"
   ]
  },
  {
   "cell_type": "code",
   "execution_count": null,
   "id": "8577bc5f",
   "metadata": {},
   "outputs": [],
   "source": []
  },
  {
   "cell_type": "code",
   "execution_count": null,
   "id": "16ec1948",
   "metadata": {},
   "outputs": [],
   "source": []
  }
 ],
 "metadata": {
  "kernelspec": {
   "display_name": "Python 3 (ipykernel)",
   "language": "python",
   "name": "python3"
  },
  "language_info": {
   "codemirror_mode": {
    "name": "ipython",
    "version": 3
   },
   "file_extension": ".py",
   "mimetype": "text/x-python",
   "name": "python",
   "nbconvert_exporter": "python",
   "pygments_lexer": "ipython3",
   "version": "3.10.9"
  }
 },
 "nbformat": 4,
 "nbformat_minor": 5
}
