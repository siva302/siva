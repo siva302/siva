{
 "cells": [
  {
   "cell_type": "markdown",
   "id": "f99d218e",
   "metadata": {},
   "source": [
    "1. Write a Python function to find the maximum of three numbers"
   ]
  },
  {
   "cell_type": "code",
   "execution_count": 26,
   "id": "b53b93f1",
   "metadata": {},
   "outputs": [
    {
     "name": "stdout",
     "output_type": "stream",
     "text": [
      "enter a 1 num: 80\n",
      "enter a 2 num: 100\n",
      "enter a 3 num: 999\n",
      "999 c is max of a,c\n",
      "None\n"
     ]
    }
   ],
   "source": [
    "def max(a,b,c):\n",
    "    if a>b and a>c:\n",
    "        print(a,'a is max of b,c')\n",
    "    elif b>a and b>c:\n",
    "        print(b,'b is max of a,c')\n",
    "    elif c>b and c>a:\n",
    "        print(c,'c is max of a,c')\n",
    "    else:\n",
    "        print(\"a,b,c are same\")\n",
    "a=int(input(\"enter a 1 num: \"))\n",
    "b=int(input(\"enter a 2 num: \"))\n",
    "c=int(input(\"enter a 3 num: \"))\n",
    "print(max(a,b,c))\n"
   ]
  },
  {
   "cell_type": "markdown",
   "id": "281ce969",
   "metadata": {},
   "source": [
    "2. Write a Python function to sum all the numbers in a list.\n",
    "Sample List : (8, 2, 3, 0, 7)\n",
    "Expected Output : 20"
   ]
  },
  {
   "cell_type": "code",
   "execution_count": 33,
   "id": "f056124e",
   "metadata": {},
   "outputs": [
    {
     "name": "stdout",
     "output_type": "stream",
     "text": [
      "20\n"
     ]
    }
   ],
   "source": [
    "def sum(l,c=0):\n",
    "    for i in l:\n",
    "        c=c+i\n",
    "    print(c)\n",
    "l=(8,2,3,0,7)\n",
    "sum(l)"
   ]
  },
  {
   "cell_type": "markdown",
   "id": "8154a2d8",
   "metadata": {},
   "source": [
    "3. Write a Python function to multiply all the numbers in a list.\n",
    "Sample List : (8, 2, 3, -1, 7)\n",
    "Expected Output : -336"
   ]
  },
  {
   "cell_type": "code",
   "execution_count": 42,
   "id": "419dab34",
   "metadata": {},
   "outputs": [
    {
     "name": "stdout",
     "output_type": "stream",
     "text": [
      "-336\n"
     ]
    }
   ],
   "source": [
    "def sum(l,c=1):\n",
    "    for i in l:\n",
    "        c=c*i\n",
    "    print(c)\n",
    "l=(8,2,3,-1,7)\n",
    "sum(l)"
   ]
  },
  {
   "cell_type": "markdown",
   "id": "5c812ae5",
   "metadata": {},
   "source": [
    "4. Write a Python program to reverse a string.\n",
    "Sample String : \"1234abcd\"\n",
    "Expected Output : \"dcba4321\""
   ]
  },
  {
   "cell_type": "code",
   "execution_count": 47,
   "id": "8f8330f6",
   "metadata": {},
   "outputs": [
    {
     "name": "stdout",
     "output_type": "stream",
     "text": [
      "dcba4321\n"
     ]
    }
   ],
   "source": [
    "a=\"1234abcd\"\n",
    "print(a[::-1])\n"
   ]
  },
  {
   "cell_type": "markdown",
   "id": "902432b2",
   "metadata": {},
   "source": [
    "5. Write a Python function to calculate the factorial of a number (a non-negative integer). The function accepts the number as an argument."
   ]
  },
  {
   "cell_type": "code",
   "execution_count": 5,
   "id": "732b03df",
   "metadata": {},
   "outputs": [
    {
     "name": "stdout",
     "output_type": "stream",
     "text": [
      "120\n"
     ]
    }
   ],
   "source": [
    "def fact(a,c=1):\n",
    "    for i in range(1,a+1):\n",
    "        c=c*i\n",
    "    print(c)\n",
    "a=5\n",
    "fact(a)\n"
   ]
  },
  {
   "cell_type": "markdown",
   "id": "ca62f4fd",
   "metadata": {},
   "source": [
    "6. Write a Python function to check whether a number falls within a given range"
   ]
  },
  {
   "cell_type": "code",
   "execution_count": 11,
   "id": "b0c3170f",
   "metadata": {},
   "outputs": [
    {
     "name": "stdout",
     "output_type": "stream",
     "text": [
      "enter a range: 500\n",
      "enter a num: 1000\n"
     ]
    },
    {
     "data": {
      "text/plain": [
       "'not ok'"
      ]
     },
     "execution_count": 11,
     "metadata": {},
     "output_type": "execute_result"
    }
   ],
   "source": [
    "def falls(b,c):\n",
    "    if c in b :\n",
    "        return \"ok\"\n",
    "    else:\n",
    "        return \"not ok\"   \n",
    "a=int(input('enter a range: '))\n",
    "b=range(a)\n",
    "c=int(input(\"enter a num: \"))    \n",
    "falls(b,c)\n",
    "    "
   ]
  },
  {
   "cell_type": "markdown",
   "id": "31ba68fe",
   "metadata": {},
   "source": [
    "7. Write a Python function that accepts a string and counts the number of upper and lower case letters.\n",
    "Sample String : 'The quick Brow Fox'\n",
    "Expected Output :\n",
    "No. of Upper case characters : 3\n",
    "No. of Lower case Characters : 12"
   ]
  },
  {
   "cell_type": "code",
   "execution_count": 37,
   "id": "d2d144ad",
   "metadata": {},
   "outputs": [
    {
     "name": "stdout",
     "output_type": "stream",
     "text": [
      "3\n",
      "12\n"
     ]
    }
   ],
   "source": [
    "def char(a):\n",
    "    u=0\n",
    "    l=0\n",
    "    for i in a:\n",
    "        if i.isupper():\n",
    "            u=u+1\n",
    "        if i.islower():\n",
    "            l=l+1\n",
    "    print(u)\n",
    "    print(l)\n",
    "a='The quick Brow Fox'\n",
    "char(a)\n"
   ]
  },
  {
   "cell_type": "markdown",
   "id": "26fe5333",
   "metadata": {},
   "source": [
    "8. Write a Python function that takes a list and returns a new list with distinct elements from the first list.\n",
    "Sample List : [1,2,3,3,3,3,4,5]\n",
    "Unique List : [1, 2, 3, 4, 5]"
   ]
  },
  {
   "cell_type": "code",
   "execution_count": 48,
   "id": "964a24ff",
   "metadata": {},
   "outputs": [
    {
     "data": {
      "text/plain": [
       "[1, 2, 3, 4, 5]"
      ]
     },
     "execution_count": 48,
     "metadata": {},
     "output_type": "execute_result"
    }
   ],
   "source": [
    "def num(a):\n",
    "    return list(set(a))\n",
    "a=[1,2,3,3,3,3,4,5]\n",
    "num(a)"
   ]
  },
  {
   "cell_type": "markdown",
   "id": "e07665b8",
   "metadata": {},
   "source": [
    "9. Write a Python function that takes a number as a parameter and checks whether the number is prime or not.\n",
    "Note : A prime number (or a prime) is a natural number greater than 1 and that has no positive divisors other than 1 and itself.\n"
   ]
  },
  {
   "cell_type": "code",
   "execution_count": 92,
   "id": "0b48aaa9",
   "metadata": {},
   "outputs": [
    {
     "name": "stdout",
     "output_type": "stream",
     "text": [
      "True\n"
     ]
    }
   ],
   "source": [
    "def test_prime(n):\n",
    "    if (n==1):\n",
    "        return \"not prime\"\n",
    "    elif (n==2):\n",
    "        return 'prime';\n",
    "    else:\n",
    "        for x in range(2,n):\n",
    "            if(n % x==0):\n",
    "                return 'not prime'\n",
    "        return True             \n",
    "print(test_prime(7))"
   ]
  },
  {
   "cell_type": "markdown",
   "id": "8339ba75",
   "metadata": {},
   "source": [
    "10. Write a Python program to print the even numbers from a given list.\n",
    "Sample List : [1, 2, 3, 4, 5, 6, 7, 8, 9]\n",
    "Expected Result : [2, 4, 6, 8]"
   ]
  },
  {
   "cell_type": "code",
   "execution_count": 95,
   "id": "775641cf",
   "metadata": {},
   "outputs": [
    {
     "name": "stdout",
     "output_type": "stream",
     "text": [
      "[2, 4, 6, 8]\n"
     ]
    }
   ],
   "source": [
    "def even(l):\n",
    "    for n in l:\n",
    "        if n % 2 == 0:\n",
    "            enum.append(n)\n",
    "    return enum\n",
    "enum = []\n",
    "print(even([1, 2, 3, 4, 5, 6, 7, 8, 9]))"
   ]
  },
  {
   "cell_type": "code",
   "execution_count": null,
   "id": "105a2acc",
   "metadata": {},
   "outputs": [],
   "source": []
  }
 ],
 "metadata": {
  "kernelspec": {
   "display_name": "Python 3 (ipykernel)",
   "language": "python",
   "name": "python3"
  },
  "language_info": {
   "codemirror_mode": {
    "name": "ipython",
    "version": 3
   },
   "file_extension": ".py",
   "mimetype": "text/x-python",
   "name": "python",
   "nbconvert_exporter": "python",
   "pygments_lexer": "ipython3",
   "version": "3.10.9"
  }
 },
 "nbformat": 4,
 "nbformat_minor": 5
}
