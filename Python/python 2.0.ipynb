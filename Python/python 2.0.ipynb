{
 "cells": [
  {
   "cell_type": "code",
   "execution_count": 1,
   "id": "9c947337",
   "metadata": {},
   "outputs": [
    {
     "name": "stdout",
     "output_type": "stream",
     "text": [
      "hello\n"
     ]
    }
   ],
   "source": [
    "print('hello')"
   ]
  },
  {
   "cell_type": "code",
   "execution_count": 2,
   "id": "c932422f",
   "metadata": {},
   "outputs": [
    {
     "name": "stdout",
     "output_type": "stream",
     "text": [
      "<class 'int'>\n",
      "1594488848912\n"
     ]
    }
   ],
   "source": [
    "# int types,id\n",
    "\n",
    "a=10\n",
    "print(type(a))\n",
    "print(id(a))"
   ]
  },
  {
   "cell_type": "code",
   "execution_count": 4,
   "id": "8666b3cb",
   "metadata": {},
   "outputs": [
    {
     "name": "stdout",
     "output_type": "stream",
     "text": [
      "<class 'float'> 1594601208240\n"
     ]
    }
   ],
   "source": [
    "a=2.0\n",
    "print(type(a),id(a))"
   ]
  },
  {
   "cell_type": "code",
   "execution_count": 5,
   "id": "8dd87b09",
   "metadata": {},
   "outputs": [
    {
     "name": "stdout",
     "output_type": "stream",
     "text": [
      "<class 'complex'> 1594601209456\n"
     ]
    }
   ],
   "source": [
    "a=1+2j\n",
    "print(type(a),id(a))"
   ]
  },
  {
   "cell_type": "code",
   "execution_count": 6,
   "id": "e2045eb9",
   "metadata": {},
   "outputs": [
    {
     "name": "stdout",
     "output_type": "stream",
     "text": [
      "<class 'bool'> 140734936467664\n"
     ]
    }
   ],
   "source": [
    "a=True\n",
    "print(type(a),id(a))"
   ]
  },
  {
   "cell_type": "code",
   "execution_count": null,
   "id": "5fd0ebd2",
   "metadata": {},
   "outputs": [],
   "source": [
    "# case senctitive\n",
    "12hi=5\n",
    "print(12hi)"
   ]
  },
  {
   "cell_type": "code",
   "execution_count": 8,
   "id": "0c94db59",
   "metadata": {},
   "outputs": [
    {
     "name": "stdout",
     "output_type": "stream",
     "text": [
      "5\n"
     ]
    }
   ],
   "source": [
    "hi12=5\n",
    "print(hi12)"
   ]
  },
  {
   "cell_type": "code",
   "execution_count": 9,
   "id": "dd8603b0",
   "metadata": {},
   "outputs": [
    {
     "ename": "SyntaxError",
     "evalue": "invalid syntax. Maybe you meant '==' or ':=' instead of '='? (3958355746.py, line 1)",
     "output_type": "error",
     "traceback": [
      "\u001b[1;36m  Cell \u001b[1;32mIn[9], line 1\u001b[1;36m\u001b[0m\n\u001b[1;33m    @hi12=5\u001b[0m\n\u001b[1;37m     ^\u001b[0m\n\u001b[1;31mSyntaxError\u001b[0m\u001b[1;31m:\u001b[0m invalid syntax. Maybe you meant '==' or ':=' instead of '='?\n"
     ]
    }
   ],
   "source": [
    "@hi12=5\n",
    "print(@hi12)"
   ]
  },
  {
   "cell_type": "code",
   "execution_count": 10,
   "id": "1a6784f5",
   "metadata": {},
   "outputs": [
    {
     "name": "stdout",
     "output_type": "stream",
     "text": [
      "5\n"
     ]
    }
   ],
   "source": [
    "_hi12=5\n",
    "print(_hi12)"
   ]
  },
  {
   "cell_type": "code",
   "execution_count": 11,
   "id": "775de0b1",
   "metadata": {},
   "outputs": [
    {
     "name": "stdout",
     "output_type": "stream",
     "text": [
      "enter a num1 5\n",
      "enter a num2 10\n",
      "15 <class 'int'>\n"
     ]
    }
   ],
   "source": [
    "#Arithmetic operator\n",
    "# Add\n",
    "a=int(input(\"enter a num1 \"))\n",
    "b=int(input('enter a num2 '))\n",
    "c=a+b\n",
    "print(c,type(c))"
   ]
  },
  {
   "cell_type": "code",
   "execution_count": 12,
   "id": "3846c9f7",
   "metadata": {},
   "outputs": [
    {
     "name": "stdout",
     "output_type": "stream",
     "text": [
      "enter a num1 5\n",
      "enter a num2 5\n",
      "0 <class 'int'>\n"
     ]
    }
   ],
   "source": [
    "#sub\n",
    "a=int(input(\"enter a num1 \"))\n",
    "b=int(input('enter a num2 '))\n",
    "c=a-b\n",
    "print(c,type(c))"
   ]
  },
  {
   "cell_type": "code",
   "execution_count": 13,
   "id": "b359854d",
   "metadata": {},
   "outputs": [
    {
     "name": "stdout",
     "output_type": "stream",
     "text": [
      "enter a num1 5\n",
      "enter a num2 5\n",
      "25 <class 'int'>\n"
     ]
    }
   ],
   "source": [
    "#mul\n",
    "a=int(input(\"enter a num1 \"))\n",
    "b=int(input('enter a num2 '))\n",
    "c=a*b\n",
    "print(c,type(c))"
   ]
  },
  {
   "cell_type": "code",
   "execution_count": 14,
   "id": "6b79182f",
   "metadata": {},
   "outputs": [
    {
     "name": "stdout",
     "output_type": "stream",
     "text": [
      "enter a num1 5\n",
      "enter a num2 5\n",
      "1.0 <class 'float'>\n"
     ]
    }
   ],
   "source": [
    "# Div\n",
    "a=int(input(\"enter a num1 \"))\n",
    "b=int(input('enter a num2 '))\n",
    "c=a/b\n",
    "print(c,type(c))"
   ]
  },
  {
   "cell_type": "code",
   "execution_count": 15,
   "id": "bce9e733",
   "metadata": {},
   "outputs": [
    {
     "name": "stdout",
     "output_type": "stream",
     "text": [
      "enter a num1 5\n",
      "enter a num2 5\n",
      "1 <class 'int'>\n"
     ]
    }
   ],
   "source": [
    "# Flo Div\n",
    "a=int(input(\"enter a num1 \"))\n",
    "b=int(input('enter a num2 '))\n",
    "c=a//b\n",
    "print(c,type(c))"
   ]
  },
  {
   "cell_type": "code",
   "execution_count": 16,
   "id": "79d3d618",
   "metadata": {},
   "outputs": [
    {
     "name": "stdout",
     "output_type": "stream",
     "text": [
      "enter a num1 5\n",
      "enter a num2 5\n",
      "0 <class 'int'>\n"
     ]
    }
   ],
   "source": [
    "# Mod\n",
    "a=int(input(\"enter a num1 \"))\n",
    "b=int(input('enter a num2 '))\n",
    "c=a%b\n",
    "print(c,type(c))"
   ]
  },
  {
   "cell_type": "code",
   "execution_count": 17,
   "id": "c1e58b4e",
   "metadata": {},
   "outputs": [
    {
     "name": "stdout",
     "output_type": "stream",
     "text": [
      "enter a num1 5\n",
      "enter a num2 5\n",
      "3125 <class 'int'>\n"
     ]
    }
   ],
   "source": [
    "# Seq\n",
    "a=int(input(\"enter a num1 \"))\n",
    "b=int(input('enter a num2 '))\n",
    "c=a+b\n",
    "print(c,type(c))"
   ]
  },
  {
   "cell_type": "code",
   "execution_count": 18,
   "id": "41e23c59",
   "metadata": {},
   "outputs": [
    {
     "name": "stdout",
     "output_type": "stream",
     "text": [
      "enter a num1 10\n",
      "15\n"
     ]
    }
   ],
   "source": [
    "#Assignment\n",
    "a=int(input(\"enter a num1 \"))\n",
    "a+=5\n",
    "print(a)\n"
   ]
  },
  {
   "cell_type": "code",
   "execution_count": 19,
   "id": "0ed570f7",
   "metadata": {},
   "outputs": [
    {
     "name": "stdout",
     "output_type": "stream",
     "text": [
      "enter a num1 10\n",
      "15\n"
     ]
    }
   ],
   "source": [
    "a=int(input(\"enter a num1 \"))\n",
    "a=a+5\n",
    "print(a)"
   ]
  },
  {
   "cell_type": "code",
   "execution_count": 20,
   "id": "75047e46",
   "metadata": {},
   "outputs": [
    {
     "name": "stdout",
     "output_type": "stream",
     "text": [
      "enter a num1 10\n",
      "5\n"
     ]
    }
   ],
   "source": [
    "a=int(input(\"enter a num1 \"))\n",
    "a-=5\n",
    "print(a)"
   ]
  },
  {
   "cell_type": "code",
   "execution_count": 23,
   "id": "cc03d59b",
   "metadata": {},
   "outputs": [
    {
     "name": "stdout",
     "output_type": "stream",
     "text": [
      "enter a num1 10\n",
      "50\n"
     ]
    }
   ],
   "source": [
    "a=int(input(\"enter a num1 \"))\n",
    "a*=5\n",
    "print(a)\n"
   ]
  },
  {
   "cell_type": "code",
   "execution_count": 24,
   "id": "11b5452d",
   "metadata": {},
   "outputs": [
    {
     "name": "stdout",
     "output_type": "stream",
     "text": [
      "enter a num1 10\n",
      "2.0\n"
     ]
    }
   ],
   "source": [
    "a=int(input(\"enter a num1 \"))\n",
    "a/=5\n",
    "print(a)"
   ]
  },
  {
   "cell_type": "code",
   "execution_count": 26,
   "id": "efee3700",
   "metadata": {},
   "outputs": [
    {
     "name": "stdout",
     "output_type": "stream",
     "text": [
      "enter a num1 10\n",
      "2\n"
     ]
    }
   ],
   "source": [
    "a=int(input(\"enter a num1 \"))\n",
    "a//=5\n",
    "print(a)"
   ]
  },
  {
   "cell_type": "code",
   "execution_count": 27,
   "id": "9de5b50f",
   "metadata": {},
   "outputs": [
    {
     "name": "stdout",
     "output_type": "stream",
     "text": [
      "enter a num1 10\n",
      "0\n"
     ]
    }
   ],
   "source": [
    "a=int(input(\"enter a num1 \"))\n",
    "a%=5\n",
    "print(a)"
   ]
  },
  {
   "cell_type": "code",
   "execution_count": 28,
   "id": "06c1a409",
   "metadata": {},
   "outputs": [
    {
     "name": "stdout",
     "output_type": "stream",
     "text": [
      "enter a num1 10\n",
      "100000\n"
     ]
    }
   ],
   "source": [
    "a=int(input(\"enter a num1 \"))\n",
    "a**=5\n",
    "print(a)"
   ]
  },
  {
   "cell_type": "code",
   "execution_count": 31,
   "id": "3f5bb679",
   "metadata": {},
   "outputs": [
    {
     "name": "stdout",
     "output_type": "stream",
     "text": [
      "enter a num1 10\n",
      "enter a num2 10\n"
     ]
    },
    {
     "data": {
      "text/plain": [
       "True"
      ]
     },
     "execution_count": 31,
     "metadata": {},
     "output_type": "execute_result"
    }
   ],
   "source": [
    "# Relational\n",
    "a=int(input(\"enter a num1 \"))\n",
    "b=int(input('enter a num2 '))\n",
    "a==b\n",
    "\n"
   ]
  },
  {
   "cell_type": "code",
   "execution_count": 32,
   "id": "2e965083",
   "metadata": {},
   "outputs": [
    {
     "name": "stdout",
     "output_type": "stream",
     "text": [
      "enter a num1 10\n",
      "enter a num2 10\n"
     ]
    },
    {
     "data": {
      "text/plain": [
       "False"
      ]
     },
     "execution_count": 32,
     "metadata": {},
     "output_type": "execute_result"
    }
   ],
   "source": [
    "a=int(input(\"enter a num1 \"))\n",
    "b=int(input('enter a num2 '))\n",
    "a!=b"
   ]
  },
  {
   "cell_type": "code",
   "execution_count": 33,
   "id": "de974733",
   "metadata": {},
   "outputs": [
    {
     "name": "stdout",
     "output_type": "stream",
     "text": [
      "enter a num1 5\n",
      "enter a num2 2\n"
     ]
    },
    {
     "data": {
      "text/plain": [
       "False"
      ]
     },
     "execution_count": 33,
     "metadata": {},
     "output_type": "execute_result"
    }
   ],
   "source": [
    "a=int(input(\"enter a num1 \"))\n",
    "b=int(input('enter a num2 '))\n",
    "a<=b"
   ]
  },
  {
   "cell_type": "code",
   "execution_count": 34,
   "id": "d043a641",
   "metadata": {},
   "outputs": [
    {
     "name": "stdout",
     "output_type": "stream",
     "text": [
      "enter a num1 10\n",
      "enter a num2 2\n"
     ]
    },
    {
     "data": {
      "text/plain": [
       "True"
      ]
     },
     "execution_count": 34,
     "metadata": {},
     "output_type": "execute_result"
    }
   ],
   "source": [
    "a=int(input(\"enter a num1 \"))\n",
    "b=int(input('enter a num2 '))\n",
    "a>=b"
   ]
  },
  {
   "cell_type": "code",
   "execution_count": 24,
   "id": "9e5363b7",
   "metadata": {},
   "outputs": [
    {
     "name": "stdout",
     "output_type": "stream",
     "text": [
      "ok\n"
     ]
    }
   ],
   "source": [
    "# logical\n",
    "# or=^\n",
    "a=10\n",
    "b=20\n",
    "if a<=b ^ a>=b:\n",
    "    print('ok')"
   ]
  },
  {
   "cell_type": "code",
   "execution_count": 25,
   "id": "791f5004",
   "metadata": {},
   "outputs": [
    {
     "name": "stdout",
     "output_type": "stream",
     "text": [
      "not ok\n"
     ]
    }
   ],
   "source": [
    "# and =&\n",
    "a=10\n",
    "b=20\n",
    "if a<=b & a>=b:\n",
    "    print('ok')\n",
    "else:\n",
    "    print('not ok')"
   ]
  },
  {
   "cell_type": "code",
   "execution_count": 34,
   "id": "c12ff1a3",
   "metadata": {},
   "outputs": [
    {
     "data": {
      "text/plain": [
       "False"
      ]
     },
     "execution_count": 34,
     "metadata": {},
     "output_type": "execute_result"
    }
   ],
   "source": [
    "# NOT=!\n",
    "a=10\n",
    "b=20\n",
    "not a!=20"
   ]
  },
  {
   "cell_type": "code",
   "execution_count": 9,
   "id": "e1684a0b",
   "metadata": {},
   "outputs": [
    {
     "data": {
      "text/plain": [
       "False"
      ]
     },
     "execution_count": 9,
     "metadata": {},
     "output_type": "execute_result"
    }
   ],
   "source": [
    "a=10\n",
    "b=20\n",
    "not a==10"
   ]
  },
  {
   "cell_type": "code",
   "execution_count": 18,
   "id": "5569d823",
   "metadata": {},
   "outputs": [
    {
     "data": {
      "text/plain": [
       "True"
      ]
     },
     "execution_count": 18,
     "metadata": {},
     "output_type": "execute_result"
    }
   ],
   "source": [
    "# membership \n",
    "l=[True,'siva',2,False]\n",
    "0 in l"
   ]
  },
  {
   "cell_type": "code",
   "execution_count": 20,
   "id": "2702358d",
   "metadata": {},
   "outputs": [
    {
     "data": {
      "text/plain": [
       "False"
      ]
     },
     "execution_count": 20,
     "metadata": {},
     "output_type": "execute_result"
    }
   ],
   "source": [
    "l=[True,'siva',2,False]\n",
    "1 not in l"
   ]
  },
  {
   "cell_type": "code",
   "execution_count": 21,
   "id": "3400d805",
   "metadata": {},
   "outputs": [
    {
     "data": {
      "text/plain": [
       "True"
      ]
     },
     "execution_count": 21,
     "metadata": {},
     "output_type": "execute_result"
    }
   ],
   "source": [
    "# Identity\n",
    "a=10\n",
    "type (a) is int"
   ]
  },
  {
   "cell_type": "code",
   "execution_count": 27,
   "id": "2e25ab18",
   "metadata": {},
   "outputs": [
    {
     "data": {
      "text/plain": [
       "False"
      ]
     },
     "execution_count": 27,
     "metadata": {},
     "output_type": "execute_result"
    }
   ],
   "source": [
    "a=10\n",
    "type (a) is not int"
   ]
  },
  {
   "cell_type": "code",
   "execution_count": 29,
   "id": "b4c2ce3e",
   "metadata": {},
   "outputs": [
    {
     "data": {
      "text/plain": [
       "60"
      ]
     },
     "execution_count": 29,
     "metadata": {},
     "output_type": "execute_result"
    }
   ],
   "source": [
    "# bITWISE\n",
    "# OR\n",
    "20|40"
   ]
  },
  {
   "cell_type": "code",
   "execution_count": 30,
   "id": "93d3ae21",
   "metadata": {},
   "outputs": [
    {
     "data": {
      "text/plain": [
       "0"
      ]
     },
     "execution_count": 30,
     "metadata": {},
     "output_type": "execute_result"
    }
   ],
   "source": [
    "# AND\n",
    "120&135"
   ]
  },
  {
   "cell_type": "code",
   "execution_count": 31,
   "id": "3b3ff089",
   "metadata": {},
   "outputs": [
    {
     "data": {
      "text/plain": [
       "460"
      ]
     },
     "execution_count": 31,
     "metadata": {},
     "output_type": "execute_result"
    }
   ],
   "source": [
    "# XOR\n",
    "129^333"
   ]
  },
  {
   "cell_type": "code",
   "execution_count": 32,
   "id": "470b233a",
   "metadata": {},
   "outputs": [
    {
     "data": {
      "text/plain": [
       "140"
      ]
     },
     "execution_count": 32,
     "metadata": {},
     "output_type": "execute_result"
    }
   ],
   "source": [
    "35<<2"
   ]
  },
  {
   "cell_type": "code",
   "execution_count": 33,
   "id": "d6a2bb6f",
   "metadata": {},
   "outputs": [
    {
     "data": {
      "text/plain": [
       "25"
      ]
     },
     "execution_count": 33,
     "metadata": {},
     "output_type": "execute_result"
    }
   ],
   "source": [
    "100>>2"
   ]
  },
  {
   "cell_type": "code",
   "execution_count": 1,
   "id": "7f0bef05",
   "metadata": {},
   "outputs": [
    {
     "data": {
      "text/plain": [
       "4"
      ]
     },
     "execution_count": 1,
     "metadata": {},
     "output_type": "execute_result"
    }
   ],
   "source": [
    "20&4"
   ]
  },
  {
   "cell_type": "code",
   "execution_count": 2,
   "id": "6c9dbaa1",
   "metadata": {},
   "outputs": [
    {
     "data": {
      "text/plain": [
       "20"
      ]
     },
     "execution_count": 2,
     "metadata": {},
     "output_type": "execute_result"
    }
   ],
   "source": [
    "20|4"
   ]
  },
  {
   "cell_type": "code",
   "execution_count": 3,
   "id": "bc23e5b0",
   "metadata": {},
   "outputs": [
    {
     "data": {
      "text/plain": [
       "16"
      ]
     },
     "execution_count": 3,
     "metadata": {},
     "output_type": "execute_result"
    }
   ],
   "source": [
    "20^4"
   ]
  },
  {
   "cell_type": "code",
   "execution_count": 4,
   "id": "29cc2f2e",
   "metadata": {},
   "outputs": [
    {
     "name": "stdout",
     "output_type": "stream",
     "text": [
      "aam an studyang an ktc\n"
     ]
    }
   ],
   "source": [
    "# string\n",
    "# operator\n",
    "# string is collection of data type and by using \"\",''(single or double ),it is immutable\n",
    "a=\"iam in studying in ktc\"\n",
    "b=a.replace('i','a')\n",
    "print(b)"
   ]
  },
  {
   "cell_type": "code",
   "execution_count": 5,
   "id": "ce573d13",
   "metadata": {},
   "outputs": [
    {
     "name": "stdout",
     "output_type": "stream",
     "text": [
      "i\n"
     ]
    }
   ],
   "source": [
    "a=\"iam in studying in ktc\"\n",
    "b=a[0]\n",
    "print(b)"
   ]
  },
  {
   "cell_type": "code",
   "execution_count": 7,
   "id": "5652a73d",
   "metadata": {},
   "outputs": [
    {
     "ename": "IndexError",
     "evalue": "string index out of range",
     "output_type": "error",
     "traceback": [
      "\u001b[1;31m---------------------------------------------------------------------------\u001b[0m",
      "\u001b[1;31mIndexError\u001b[0m                                Traceback (most recent call last)",
      "Cell \u001b[1;32mIn[7], line 2\u001b[0m\n\u001b[0;32m      1\u001b[0m s\u001b[38;5;241m=\u001b[39m\u001b[38;5;124m\"\u001b[39m\u001b[38;5;124mhello world\u001b[39m\u001b[38;5;124m\"\u001b[39m\n\u001b[1;32m----> 2\u001b[0m \u001b[38;5;28mprint\u001b[39m(\u001b[43ms\u001b[49m\u001b[43m[\u001b[49m\u001b[38;5;241;43m11\u001b[39;49m\u001b[43m]\u001b[49m)\n\u001b[0;32m      3\u001b[0m \u001b[38;5;28mprint\u001b[39m(s[\u001b[38;5;241m-\u001b[39m\u001b[38;5;241m12\u001b[39m])\n",
      "\u001b[1;31mIndexError\u001b[0m: string index out of range"
     ]
    }
   ],
   "source": [
    "s=\"hello world\"\n",
    "print(s[11])\n",
    "print(s[-12])\n"
   ]
  },
  {
   "cell_type": "code",
   "execution_count": 8,
   "id": "f6fdd2dd",
   "metadata": {},
   "outputs": [
    {
     "name": "stdout",
     "output_type": "stream",
     "text": [
      "iam in studying in ktc\n"
     ]
    }
   ],
   "source": [
    "print(a)"
   ]
  },
  {
   "cell_type": "code",
   "execution_count": 14,
   "id": "0694fffc",
   "metadata": {},
   "outputs": [
    {
     "name": "stdout",
     "output_type": "stream",
     "text": [
      "ll\n"
     ]
    }
   ],
   "source": [
    "a='hello world'\n",
    "print(a[2:4])"
   ]
  },
  {
   "cell_type": "code",
   "execution_count": 20,
   "id": "6fdfb303",
   "metadata": {},
   "outputs": [
    {
     "ename": "TypeError",
     "evalue": "'str' object cannot be interpreted as an integer",
     "output_type": "error",
     "traceback": [
      "\u001b[1;31m---------------------------------------------------------------------------\u001b[0m",
      "\u001b[1;31mTypeError\u001b[0m                                 Traceback (most recent call last)",
      "Cell \u001b[1;32mIn[20], line 2\u001b[0m\n\u001b[0;32m      1\u001b[0m a\u001b[38;5;241m=\u001b[39m\u001b[38;5;124m\"\u001b[39m\u001b[38;5;124mhello world\u001b[39m\u001b[38;5;124m\"\u001b[39m\n\u001b[1;32m----> 2\u001b[0m b\u001b[38;5;241m=\u001b[39m\u001b[43ma\u001b[49m\u001b[38;5;241;43m.\u001b[39;49m\u001b[43msplit\u001b[49m\u001b[43m(\u001b[49m\u001b[38;5;124;43m'\u001b[39;49m\u001b[38;5;124;43me\u001b[39;49m\u001b[38;5;124;43m'\u001b[39;49m\u001b[43m,\u001b[49m\u001b[38;5;124;43m'\u001b[39;49m\u001b[38;5;124;43mj\u001b[39;49m\u001b[38;5;124;43m'\u001b[39;49m\u001b[43m)\u001b[49m\n\u001b[0;32m      3\u001b[0m \u001b[38;5;28mprint\u001b[39m(b)\n\u001b[0;32m      4\u001b[0m \u001b[38;5;28mprint\u001b[39m(a[\u001b[38;5;241m2\u001b[39m:\u001b[38;5;241m4\u001b[39m])\n",
      "\u001b[1;31mTypeError\u001b[0m: 'str' object cannot be interpreted as an integer"
     ]
    }
   ],
   "source": [
    "a=\"hello world\"\n",
    "b=a.split('e''j')\n",
    "print(b)\n",
    "print(a[2:4])\n",
    "print(a[:8])\n",
    "print(a[::-1])\n"
   ]
  },
  {
   "cell_type": "code",
   "execution_count": 15,
   "id": "4a586ed5",
   "metadata": {},
   "outputs": [
    {
     "name": "stdout",
     "output_type": "stream",
     "text": [
      "['h', 'e', 'l', 'l', 'o', ' ', 'w', 'o', 'r', 'l', 'd']\n"
     ]
    }
   ],
   "source": [
    "# string is immutable ,but can convert the string into list . by using joint repalce the string\n",
    "l1=list(a)\n",
    "print(l1)"
   ]
  },
  {
   "cell_type": "code",
   "execution_count": null,
   "id": "dbd28a14",
   "metadata": {},
   "outputs": [],
   "source": [
    "l2=''.joint\n",
    "pri"
   ]
  }
 ],
 "metadata": {
  "kernelspec": {
   "display_name": "Python 3 (ipykernel)",
   "language": "python",
   "name": "python3"
  },
  "language_info": {
   "codemirror_mode": {
    "name": "ipython",
    "version": 3
   },
   "file_extension": ".py",
   "mimetype": "text/x-python",
   "name": "python",
   "nbconvert_exporter": "python",
   "pygments_lexer": "ipython3",
   "version": "3.10.9"
  }
 },
 "nbformat": 4,
 "nbformat_minor": 5
}
