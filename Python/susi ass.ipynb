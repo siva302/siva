{
 "cells": [
  {
   "cell_type": "code",
   "execution_count": 1,
   "id": "7426f7ea",
   "metadata": {},
   "outputs": [],
   "source": [
    "import pandas as pd"
   ]
  },
  {
   "cell_type": "code",
   "execution_count": 2,
   "id": "3f3b79c9",
   "metadata": {},
   "outputs": [],
   "source": [
    "d=pd.read_json(r'C:\\Users\\asiva\\OneDrive\\Desktop\\winemag-data-130k-v2.json')"
   ]
  },
  {
   "cell_type": "code",
   "execution_count": 3,
   "id": "0906d04f",
   "metadata": {},
   "outputs": [
    {
     "data": {
      "text/plain": [
       "(129971, 13)"
      ]
     },
     "execution_count": 3,
     "metadata": {},
     "output_type": "execute_result"
    }
   ],
   "source": [
    "d.shape"
   ]
  },
  {
   "cell_type": "code",
   "execution_count": 4,
   "id": "4c415e0a",
   "metadata": {},
   "outputs": [
    {
     "data": {
      "text/plain": [
       "Index(['points', 'title', 'description', 'taster_name',\n",
       "       'taster_twitter_handle', 'price', 'designation', 'variety', 'region_1',\n",
       "       'region_2', 'province', 'country', 'winery'],\n",
       "      dtype='object')"
      ]
     },
     "execution_count": 4,
     "metadata": {},
     "output_type": "execute_result"
    }
   ],
   "source": [
    "d.columns"
   ]
  },
  {
   "cell_type": "code",
   "execution_count": 5,
   "id": "8b9e14ff",
   "metadata": {},
   "outputs": [
    {
     "data": {
      "text/plain": [
       "points                       0\n",
       "title                        0\n",
       "description                  0\n",
       "taster_name              26244\n",
       "taster_twitter_handle    31213\n",
       "price                     8996\n",
       "designation              37465\n",
       "variety                      1\n",
       "region_1                 21247\n",
       "region_2                 79460\n",
       "province                    63\n",
       "country                     63\n",
       "winery                       0\n",
       "dtype: int64"
      ]
     },
     "execution_count": 5,
     "metadata": {},
     "output_type": "execute_result"
    }
   ],
   "source": [
    "d.isnull().sum()"
   ]
  },
  {
   "cell_type": "code",
   "execution_count": 6,
   "id": "6668e61e",
   "metadata": {},
   "outputs": [],
   "source": [
    "d['taster_name']=d['taster_name'].fillna(d['taster_name'].mode()[0])"
   ]
  },
  {
   "cell_type": "code",
   "execution_count": 7,
   "id": "a38f2a40",
   "metadata": {},
   "outputs": [
    {
     "data": {
      "text/plain": [
       "points                       0\n",
       "title                        0\n",
       "description                  0\n",
       "taster_name                  0\n",
       "taster_twitter_handle    31213\n",
       "price                     8996\n",
       "designation              37465\n",
       "variety                      1\n",
       "region_1                 21247\n",
       "region_2                 79460\n",
       "province                    63\n",
       "country                     63\n",
       "winery                       0\n",
       "dtype: int64"
      ]
     },
     "execution_count": 7,
     "metadata": {},
     "output_type": "execute_result"
    }
   ],
   "source": [
    "d.isnull().sum()"
   ]
  },
  {
   "cell_type": "code",
   "execution_count": 8,
   "id": "7eccb36b",
   "metadata": {},
   "outputs": [],
   "source": [
    "d['taster_twitter_handle']=d['taster_twitter_handle'].fillna(d['taster_twitter_handle'].mode()[0])"
   ]
  },
  {
   "cell_type": "code",
   "execution_count": 9,
   "id": "6a417f45",
   "metadata": {},
   "outputs": [],
   "source": [
    "d['price']=d['price'].fillna(d['price'].mode()[0])"
   ]
  },
  {
   "cell_type": "code",
   "execution_count": 10,
   "id": "d77a7abb",
   "metadata": {},
   "outputs": [],
   "source": [
    "d['designation']=d['designation'].fillna(d['designation'].mode()[0])"
   ]
  },
  {
   "cell_type": "code",
   "execution_count": 11,
   "id": "995870c2",
   "metadata": {},
   "outputs": [],
   "source": [
    "d['variety']=d['variety'].fillna(d['variety'].mode()[0])"
   ]
  },
  {
   "cell_type": "code",
   "execution_count": 12,
   "id": "605781cc",
   "metadata": {},
   "outputs": [],
   "source": [
    "d['region_1']=d['region_1'].fillna(d['region_1'].mode()[0])"
   ]
  },
  {
   "cell_type": "code",
   "execution_count": 13,
   "id": "db58326d",
   "metadata": {},
   "outputs": [],
   "source": [
    "d['region_2']=d['region_2'].fillna(d['region_2'].mode()[0])"
   ]
  },
  {
   "cell_type": "code",
   "execution_count": 14,
   "id": "0b39034c",
   "metadata": {},
   "outputs": [],
   "source": [
    "d['province']=d['province'].fillna(d['province'].mode()[0])"
   ]
  },
  {
   "cell_type": "code",
   "execution_count": 15,
   "id": "06d11404",
   "metadata": {},
   "outputs": [],
   "source": [
    "d['country']=d['country'].fillna(d['country'].mode()[0])"
   ]
  },
  {
   "cell_type": "code",
   "execution_count": 16,
   "id": "0e9c1cde",
   "metadata": {},
   "outputs": [
    {
     "data": {
      "text/plain": [
       "points                   0\n",
       "title                    0\n",
       "description              0\n",
       "taster_name              0\n",
       "taster_twitter_handle    0\n",
       "price                    0\n",
       "designation              0\n",
       "variety                  0\n",
       "region_1                 0\n",
       "region_2                 0\n",
       "province                 0\n",
       "country                  0\n",
       "winery                   0\n",
       "dtype: int64"
      ]
     },
     "execution_count": 16,
     "metadata": {},
     "output_type": "execute_result"
    }
   ],
   "source": [
    "d.isnull().sum()"
   ]
  },
  {
   "cell_type": "code",
   "execution_count": 17,
   "id": "1987d2b0",
   "metadata": {},
   "outputs": [
    {
     "data": {
      "text/html": [
       "<div>\n",
       "<style scoped>\n",
       "    .dataframe tbody tr th:only-of-type {\n",
       "        vertical-align: middle;\n",
       "    }\n",
       "\n",
       "    .dataframe tbody tr th {\n",
       "        vertical-align: top;\n",
       "    }\n",
       "\n",
       "    .dataframe thead th {\n",
       "        text-align: right;\n",
       "    }\n",
       "</style>\n",
       "<table border=\"1\" class=\"dataframe\">\n",
       "  <thead>\n",
       "    <tr style=\"text-align: right;\">\n",
       "      <th></th>\n",
       "      <th>points</th>\n",
       "      <th>title</th>\n",
       "      <th>description</th>\n",
       "      <th>taster_name</th>\n",
       "      <th>taster_twitter_handle</th>\n",
       "      <th>price</th>\n",
       "      <th>designation</th>\n",
       "      <th>variety</th>\n",
       "      <th>region_1</th>\n",
       "      <th>region_2</th>\n",
       "      <th>province</th>\n",
       "      <th>country</th>\n",
       "      <th>winery</th>\n",
       "    </tr>\n",
       "  </thead>\n",
       "  <tbody>\n",
       "    <tr>\n",
       "      <th>0</th>\n",
       "      <td>87</td>\n",
       "      <td>Nicosia 2013 Vulkà Bianco  (Etna)</td>\n",
       "      <td>Aromas include tropical fruit, broom, brimston...</td>\n",
       "      <td>Kerin O’Keefe</td>\n",
       "      <td>@kerinokeefe</td>\n",
       "      <td>20.0</td>\n",
       "      <td>Vulkà Bianco</td>\n",
       "      <td>White Blend</td>\n",
       "      <td>Etna</td>\n",
       "      <td>Central Coast</td>\n",
       "      <td>Sicily &amp; Sardinia</td>\n",
       "      <td>Italy</td>\n",
       "      <td>Nicosia</td>\n",
       "    </tr>\n",
       "    <tr>\n",
       "      <th>1</th>\n",
       "      <td>87</td>\n",
       "      <td>Quinta dos Avidagos 2011 Avidagos Red (Douro)</td>\n",
       "      <td>This is ripe and fruity, a wine that is smooth...</td>\n",
       "      <td>Roger Voss</td>\n",
       "      <td>@vossroger</td>\n",
       "      <td>15.0</td>\n",
       "      <td>Avidagos</td>\n",
       "      <td>Portuguese Red</td>\n",
       "      <td>Napa Valley</td>\n",
       "      <td>Central Coast</td>\n",
       "      <td>Douro</td>\n",
       "      <td>Portugal</td>\n",
       "      <td>Quinta dos Avidagos</td>\n",
       "    </tr>\n",
       "    <tr>\n",
       "      <th>2</th>\n",
       "      <td>87</td>\n",
       "      <td>Rainstorm 2013 Pinot Gris (Willamette Valley)</td>\n",
       "      <td>Tart and snappy, the flavors of lime flesh and...</td>\n",
       "      <td>Paul Gregutt</td>\n",
       "      <td>@paulgwine</td>\n",
       "      <td>14.0</td>\n",
       "      <td>Reserve</td>\n",
       "      <td>Pinot Gris</td>\n",
       "      <td>Willamette Valley</td>\n",
       "      <td>Willamette Valley</td>\n",
       "      <td>Oregon</td>\n",
       "      <td>US</td>\n",
       "      <td>Rainstorm</td>\n",
       "    </tr>\n",
       "    <tr>\n",
       "      <th>3</th>\n",
       "      <td>87</td>\n",
       "      <td>St. Julian 2013 Reserve Late Harvest Riesling ...</td>\n",
       "      <td>Pineapple rind, lemon pith and orange blossom ...</td>\n",
       "      <td>Alexander Peartree</td>\n",
       "      <td>@vossroger</td>\n",
       "      <td>13.0</td>\n",
       "      <td>Reserve Late Harvest</td>\n",
       "      <td>Riesling</td>\n",
       "      <td>Lake Michigan Shore</td>\n",
       "      <td>Central Coast</td>\n",
       "      <td>Michigan</td>\n",
       "      <td>US</td>\n",
       "      <td>St. Julian</td>\n",
       "    </tr>\n",
       "    <tr>\n",
       "      <th>4</th>\n",
       "      <td>87</td>\n",
       "      <td>Sweet Cheeks 2012 Vintner's Reserve Wild Child...</td>\n",
       "      <td>Much like the regular bottling from 2012, this...</td>\n",
       "      <td>Paul Gregutt</td>\n",
       "      <td>@paulgwine</td>\n",
       "      <td>65.0</td>\n",
       "      <td>Vintner's Reserve Wild Child Block</td>\n",
       "      <td>Pinot Noir</td>\n",
       "      <td>Willamette Valley</td>\n",
       "      <td>Willamette Valley</td>\n",
       "      <td>Oregon</td>\n",
       "      <td>US</td>\n",
       "      <td>Sweet Cheeks</td>\n",
       "    </tr>\n",
       "    <tr>\n",
       "      <th>5</th>\n",
       "      <td>87</td>\n",
       "      <td>Tandem 2011 Ars In Vitro Tempranillo-Merlot (N...</td>\n",
       "      <td>Blackberry and raspberry aromas show a typical...</td>\n",
       "      <td>Michael Schachner</td>\n",
       "      <td>@wineschach</td>\n",
       "      <td>15.0</td>\n",
       "      <td>Ars In Vitro</td>\n",
       "      <td>Tempranillo-Merlot</td>\n",
       "      <td>Navarra</td>\n",
       "      <td>Central Coast</td>\n",
       "      <td>Northern Spain</td>\n",
       "      <td>Spain</td>\n",
       "      <td>Tandem</td>\n",
       "    </tr>\n",
       "    <tr>\n",
       "      <th>6</th>\n",
       "      <td>87</td>\n",
       "      <td>Terre di Giurfo 2013 Belsito Frappato (Vittoria)</td>\n",
       "      <td>Here's a bright, informal red that opens with ...</td>\n",
       "      <td>Kerin O’Keefe</td>\n",
       "      <td>@kerinokeefe</td>\n",
       "      <td>16.0</td>\n",
       "      <td>Belsito</td>\n",
       "      <td>Frappato</td>\n",
       "      <td>Vittoria</td>\n",
       "      <td>Central Coast</td>\n",
       "      <td>Sicily &amp; Sardinia</td>\n",
       "      <td>Italy</td>\n",
       "      <td>Terre di Giurfo</td>\n",
       "    </tr>\n",
       "    <tr>\n",
       "      <th>7</th>\n",
       "      <td>87</td>\n",
       "      <td>Trimbach 2012 Gewurztraminer (Alsace)</td>\n",
       "      <td>This dry and restrained wine offers spice in p...</td>\n",
       "      <td>Roger Voss</td>\n",
       "      <td>@vossroger</td>\n",
       "      <td>24.0</td>\n",
       "      <td>Reserve</td>\n",
       "      <td>Gewürztraminer</td>\n",
       "      <td>Alsace</td>\n",
       "      <td>Central Coast</td>\n",
       "      <td>Alsace</td>\n",
       "      <td>France</td>\n",
       "      <td>Trimbach</td>\n",
       "    </tr>\n",
       "    <tr>\n",
       "      <th>8</th>\n",
       "      <td>87</td>\n",
       "      <td>Heinz Eifel 2013 Shine Gewürztraminer (Rheinhe...</td>\n",
       "      <td>Savory dried thyme notes accent sunnier flavor...</td>\n",
       "      <td>Anna Lee C. Iijima</td>\n",
       "      <td>@vossroger</td>\n",
       "      <td>12.0</td>\n",
       "      <td>Shine</td>\n",
       "      <td>Gewürztraminer</td>\n",
       "      <td>Napa Valley</td>\n",
       "      <td>Central Coast</td>\n",
       "      <td>Rheinhessen</td>\n",
       "      <td>Germany</td>\n",
       "      <td>Heinz Eifel</td>\n",
       "    </tr>\n",
       "    <tr>\n",
       "      <th>9</th>\n",
       "      <td>87</td>\n",
       "      <td>Jean-Baptiste Adam 2012 Les Natures Pinot Gris...</td>\n",
       "      <td>This has great depth of flavor with its fresh ...</td>\n",
       "      <td>Roger Voss</td>\n",
       "      <td>@vossroger</td>\n",
       "      <td>27.0</td>\n",
       "      <td>Les Natures</td>\n",
       "      <td>Pinot Gris</td>\n",
       "      <td>Alsace</td>\n",
       "      <td>Central Coast</td>\n",
       "      <td>Alsace</td>\n",
       "      <td>France</td>\n",
       "      <td>Jean-Baptiste Adam</td>\n",
       "    </tr>\n",
       "  </tbody>\n",
       "</table>\n",
       "</div>"
      ],
      "text/plain": [
       "   points                                              title  \\\n",
       "0      87                  Nicosia 2013 Vulkà Bianco  (Etna)   \n",
       "1      87      Quinta dos Avidagos 2011 Avidagos Red (Douro)   \n",
       "2      87      Rainstorm 2013 Pinot Gris (Willamette Valley)   \n",
       "3      87  St. Julian 2013 Reserve Late Harvest Riesling ...   \n",
       "4      87  Sweet Cheeks 2012 Vintner's Reserve Wild Child...   \n",
       "5      87  Tandem 2011 Ars In Vitro Tempranillo-Merlot (N...   \n",
       "6      87   Terre di Giurfo 2013 Belsito Frappato (Vittoria)   \n",
       "7      87              Trimbach 2012 Gewurztraminer (Alsace)   \n",
       "8      87  Heinz Eifel 2013 Shine Gewürztraminer (Rheinhe...   \n",
       "9      87  Jean-Baptiste Adam 2012 Les Natures Pinot Gris...   \n",
       "\n",
       "                                         description         taster_name  \\\n",
       "0  Aromas include tropical fruit, broom, brimston...       Kerin O’Keefe   \n",
       "1  This is ripe and fruity, a wine that is smooth...          Roger Voss   \n",
       "2  Tart and snappy, the flavors of lime flesh and...        Paul Gregutt   \n",
       "3  Pineapple rind, lemon pith and orange blossom ...  Alexander Peartree   \n",
       "4  Much like the regular bottling from 2012, this...        Paul Gregutt   \n",
       "5  Blackberry and raspberry aromas show a typical...   Michael Schachner   \n",
       "6  Here's a bright, informal red that opens with ...       Kerin O’Keefe   \n",
       "7  This dry and restrained wine offers spice in p...          Roger Voss   \n",
       "8  Savory dried thyme notes accent sunnier flavor...  Anna Lee C. Iijima   \n",
       "9  This has great depth of flavor with its fresh ...          Roger Voss   \n",
       "\n",
       "  taster_twitter_handle  price                         designation  \\\n",
       "0          @kerinokeefe   20.0                        Vulkà Bianco   \n",
       "1            @vossroger   15.0                            Avidagos   \n",
       "2           @paulgwine    14.0                             Reserve   \n",
       "3            @vossroger   13.0                Reserve Late Harvest   \n",
       "4           @paulgwine    65.0  Vintner's Reserve Wild Child Block   \n",
       "5           @wineschach   15.0                        Ars In Vitro   \n",
       "6          @kerinokeefe   16.0                             Belsito   \n",
       "7            @vossroger   24.0                             Reserve   \n",
       "8            @vossroger   12.0                               Shine   \n",
       "9            @vossroger   27.0                         Les Natures   \n",
       "\n",
       "              variety             region_1           region_2  \\\n",
       "0         White Blend                 Etna      Central Coast   \n",
       "1      Portuguese Red          Napa Valley      Central Coast   \n",
       "2          Pinot Gris    Willamette Valley  Willamette Valley   \n",
       "3            Riesling  Lake Michigan Shore      Central Coast   \n",
       "4          Pinot Noir    Willamette Valley  Willamette Valley   \n",
       "5  Tempranillo-Merlot              Navarra      Central Coast   \n",
       "6            Frappato             Vittoria      Central Coast   \n",
       "7      Gewürztraminer               Alsace      Central Coast   \n",
       "8      Gewürztraminer          Napa Valley      Central Coast   \n",
       "9          Pinot Gris               Alsace      Central Coast   \n",
       "\n",
       "            province   country               winery  \n",
       "0  Sicily & Sardinia     Italy              Nicosia  \n",
       "1              Douro  Portugal  Quinta dos Avidagos  \n",
       "2             Oregon        US            Rainstorm  \n",
       "3           Michigan        US           St. Julian  \n",
       "4             Oregon        US         Sweet Cheeks  \n",
       "5     Northern Spain     Spain               Tandem  \n",
       "6  Sicily & Sardinia     Italy      Terre di Giurfo  \n",
       "7             Alsace    France             Trimbach  \n",
       "8        Rheinhessen   Germany          Heinz Eifel  \n",
       "9             Alsace    France   Jean-Baptiste Adam  "
      ]
     },
     "execution_count": 17,
     "metadata": {},
     "output_type": "execute_result"
    }
   ],
   "source": [
    "d.head(10)"
   ]
  },
  {
   "cell_type": "code",
   "execution_count": 18,
   "id": "b3cf1a76",
   "metadata": {},
   "outputs": [
    {
     "data": {
      "text/plain": [
       "(125142, 13)"
      ]
     },
     "execution_count": 18,
     "metadata": {},
     "output_type": "execute_result"
    }
   ],
   "source": [
    "d[(d.points > d.price)].shape"
   ]
  },
  {
   "cell_type": "code",
   "execution_count": 19,
   "id": "70e3d6ea",
   "metadata": {},
   "outputs": [
    {
     "data": {
      "text/html": [
       "<div>\n",
       "<style scoped>\n",
       "    .dataframe tbody tr th:only-of-type {\n",
       "        vertical-align: middle;\n",
       "    }\n",
       "\n",
       "    .dataframe tbody tr th {\n",
       "        vertical-align: top;\n",
       "    }\n",
       "\n",
       "    .dataframe thead th {\n",
       "        text-align: right;\n",
       "    }\n",
       "</style>\n",
       "<table border=\"1\" class=\"dataframe\">\n",
       "  <thead>\n",
       "    <tr style=\"text-align: right;\">\n",
       "      <th></th>\n",
       "      <th>points</th>\n",
       "      <th>title</th>\n",
       "      <th>description</th>\n",
       "      <th>taster_name</th>\n",
       "      <th>taster_twitter_handle</th>\n",
       "      <th>price</th>\n",
       "      <th>designation</th>\n",
       "      <th>variety</th>\n",
       "      <th>region_1</th>\n",
       "      <th>region_2</th>\n",
       "      <th>province</th>\n",
       "      <th>country</th>\n",
       "      <th>winery</th>\n",
       "    </tr>\n",
       "  </thead>\n",
       "  <tbody>\n",
       "    <tr>\n",
       "      <th>0</th>\n",
       "      <td>87</td>\n",
       "      <td>Nicosia 2013 Vulkà Bianco  (Etna)</td>\n",
       "      <td>Aromas include tropical fruit, broom, brimston...</td>\n",
       "      <td>Kerin O’Keefe</td>\n",
       "      <td>@kerinokeefe</td>\n",
       "      <td>20.0</td>\n",
       "      <td>Vulkà Bianco</td>\n",
       "      <td>White Blend</td>\n",
       "      <td>Etna</td>\n",
       "      <td>Central Coast</td>\n",
       "      <td>Sicily &amp; Sardinia</td>\n",
       "      <td>Italy</td>\n",
       "      <td>Nicosia</td>\n",
       "    </tr>\n",
       "    <tr>\n",
       "      <th>1</th>\n",
       "      <td>87</td>\n",
       "      <td>Quinta dos Avidagos 2011 Avidagos Red (Douro)</td>\n",
       "      <td>This is ripe and fruity, a wine that is smooth...</td>\n",
       "      <td>Roger Voss</td>\n",
       "      <td>@vossroger</td>\n",
       "      <td>15.0</td>\n",
       "      <td>Avidagos</td>\n",
       "      <td>Portuguese Red</td>\n",
       "      <td>Napa Valley</td>\n",
       "      <td>Central Coast</td>\n",
       "      <td>Douro</td>\n",
       "      <td>Portugal</td>\n",
       "      <td>Quinta dos Avidagos</td>\n",
       "    </tr>\n",
       "    <tr>\n",
       "      <th>2</th>\n",
       "      <td>87</td>\n",
       "      <td>Rainstorm 2013 Pinot Gris (Willamette Valley)</td>\n",
       "      <td>Tart and snappy, the flavors of lime flesh and...</td>\n",
       "      <td>Paul Gregutt</td>\n",
       "      <td>@paulgwine</td>\n",
       "      <td>14.0</td>\n",
       "      <td>Reserve</td>\n",
       "      <td>Pinot Gris</td>\n",
       "      <td>Willamette Valley</td>\n",
       "      <td>Willamette Valley</td>\n",
       "      <td>Oregon</td>\n",
       "      <td>US</td>\n",
       "      <td>Rainstorm</td>\n",
       "    </tr>\n",
       "    <tr>\n",
       "      <th>3</th>\n",
       "      <td>87</td>\n",
       "      <td>St. Julian 2013 Reserve Late Harvest Riesling ...</td>\n",
       "      <td>Pineapple rind, lemon pith and orange blossom ...</td>\n",
       "      <td>Alexander Peartree</td>\n",
       "      <td>@vossroger</td>\n",
       "      <td>13.0</td>\n",
       "      <td>Reserve Late Harvest</td>\n",
       "      <td>Riesling</td>\n",
       "      <td>Lake Michigan Shore</td>\n",
       "      <td>Central Coast</td>\n",
       "      <td>Michigan</td>\n",
       "      <td>US</td>\n",
       "      <td>St. Julian</td>\n",
       "    </tr>\n",
       "    <tr>\n",
       "      <th>4</th>\n",
       "      <td>87</td>\n",
       "      <td>Sweet Cheeks 2012 Vintner's Reserve Wild Child...</td>\n",
       "      <td>Much like the regular bottling from 2012, this...</td>\n",
       "      <td>Paul Gregutt</td>\n",
       "      <td>@paulgwine</td>\n",
       "      <td>65.0</td>\n",
       "      <td>Vintner's Reserve Wild Child Block</td>\n",
       "      <td>Pinot Noir</td>\n",
       "      <td>Willamette Valley</td>\n",
       "      <td>Willamette Valley</td>\n",
       "      <td>Oregon</td>\n",
       "      <td>US</td>\n",
       "      <td>Sweet Cheeks</td>\n",
       "    </tr>\n",
       "    <tr>\n",
       "      <th>...</th>\n",
       "      <td>...</td>\n",
       "      <td>...</td>\n",
       "      <td>...</td>\n",
       "      <td>...</td>\n",
       "      <td>...</td>\n",
       "      <td>...</td>\n",
       "      <td>...</td>\n",
       "      <td>...</td>\n",
       "      <td>...</td>\n",
       "      <td>...</td>\n",
       "      <td>...</td>\n",
       "      <td>...</td>\n",
       "      <td>...</td>\n",
       "    </tr>\n",
       "    <tr>\n",
       "      <th>129966</th>\n",
       "      <td>90</td>\n",
       "      <td>Dr. H. Thanisch (Erben Müller-Burggraef) 2013 ...</td>\n",
       "      <td>Notes of honeysuckle and cantaloupe sweeten th...</td>\n",
       "      <td>Anna Lee C. Iijima</td>\n",
       "      <td>@vossroger</td>\n",
       "      <td>28.0</td>\n",
       "      <td>Brauneberger Juffer-Sonnenuhr Spätlese</td>\n",
       "      <td>Riesling</td>\n",
       "      <td>Napa Valley</td>\n",
       "      <td>Central Coast</td>\n",
       "      <td>Mosel</td>\n",
       "      <td>Germany</td>\n",
       "      <td>Dr. H. Thanisch (Erben Müller-Burggraef)</td>\n",
       "    </tr>\n",
       "    <tr>\n",
       "      <th>129967</th>\n",
       "      <td>90</td>\n",
       "      <td>Citation 2004 Pinot Noir (Oregon)</td>\n",
       "      <td>Citation is given as much as a decade of bottl...</td>\n",
       "      <td>Paul Gregutt</td>\n",
       "      <td>@paulgwine</td>\n",
       "      <td>75.0</td>\n",
       "      <td>Reserve</td>\n",
       "      <td>Pinot Noir</td>\n",
       "      <td>Oregon</td>\n",
       "      <td>Oregon Other</td>\n",
       "      <td>Oregon</td>\n",
       "      <td>US</td>\n",
       "      <td>Citation</td>\n",
       "    </tr>\n",
       "    <tr>\n",
       "      <th>129968</th>\n",
       "      <td>90</td>\n",
       "      <td>Domaine Gresser 2013 Kritt Gewurztraminer (Als...</td>\n",
       "      <td>Well-drained gravel soil gives this wine its c...</td>\n",
       "      <td>Roger Voss</td>\n",
       "      <td>@vossroger</td>\n",
       "      <td>30.0</td>\n",
       "      <td>Kritt</td>\n",
       "      <td>Gewürztraminer</td>\n",
       "      <td>Alsace</td>\n",
       "      <td>Central Coast</td>\n",
       "      <td>Alsace</td>\n",
       "      <td>France</td>\n",
       "      <td>Domaine Gresser</td>\n",
       "    </tr>\n",
       "    <tr>\n",
       "      <th>129969</th>\n",
       "      <td>90</td>\n",
       "      <td>Domaine Marcel Deiss 2012 Pinot Gris (Alsace)</td>\n",
       "      <td>A dry style of Pinot Gris, this is crisp with ...</td>\n",
       "      <td>Roger Voss</td>\n",
       "      <td>@vossroger</td>\n",
       "      <td>32.0</td>\n",
       "      <td>Reserve</td>\n",
       "      <td>Pinot Gris</td>\n",
       "      <td>Alsace</td>\n",
       "      <td>Central Coast</td>\n",
       "      <td>Alsace</td>\n",
       "      <td>France</td>\n",
       "      <td>Domaine Marcel Deiss</td>\n",
       "    </tr>\n",
       "    <tr>\n",
       "      <th>129970</th>\n",
       "      <td>90</td>\n",
       "      <td>Domaine Schoffit 2012 Lieu-dit Harth Cuvée Car...</td>\n",
       "      <td>Big, rich and off-dry, this is powered by inte...</td>\n",
       "      <td>Roger Voss</td>\n",
       "      <td>@vossroger</td>\n",
       "      <td>21.0</td>\n",
       "      <td>Lieu-dit Harth Cuvée Caroline</td>\n",
       "      <td>Gewürztraminer</td>\n",
       "      <td>Alsace</td>\n",
       "      <td>Central Coast</td>\n",
       "      <td>Alsace</td>\n",
       "      <td>France</td>\n",
       "      <td>Domaine Schoffit</td>\n",
       "    </tr>\n",
       "  </tbody>\n",
       "</table>\n",
       "<p>125142 rows × 13 columns</p>\n",
       "</div>"
      ],
      "text/plain": [
       "        points                                              title  \\\n",
       "0           87                  Nicosia 2013 Vulkà Bianco  (Etna)   \n",
       "1           87      Quinta dos Avidagos 2011 Avidagos Red (Douro)   \n",
       "2           87      Rainstorm 2013 Pinot Gris (Willamette Valley)   \n",
       "3           87  St. Julian 2013 Reserve Late Harvest Riesling ...   \n",
       "4           87  Sweet Cheeks 2012 Vintner's Reserve Wild Child...   \n",
       "...        ...                                                ...   \n",
       "129966      90  Dr. H. Thanisch (Erben Müller-Burggraef) 2013 ...   \n",
       "129967      90                  Citation 2004 Pinot Noir (Oregon)   \n",
       "129968      90  Domaine Gresser 2013 Kritt Gewurztraminer (Als...   \n",
       "129969      90      Domaine Marcel Deiss 2012 Pinot Gris (Alsace)   \n",
       "129970      90  Domaine Schoffit 2012 Lieu-dit Harth Cuvée Car...   \n",
       "\n",
       "                                              description         taster_name  \\\n",
       "0       Aromas include tropical fruit, broom, brimston...       Kerin O’Keefe   \n",
       "1       This is ripe and fruity, a wine that is smooth...          Roger Voss   \n",
       "2       Tart and snappy, the flavors of lime flesh and...        Paul Gregutt   \n",
       "3       Pineapple rind, lemon pith and orange blossom ...  Alexander Peartree   \n",
       "4       Much like the regular bottling from 2012, this...        Paul Gregutt   \n",
       "...                                                   ...                 ...   \n",
       "129966  Notes of honeysuckle and cantaloupe sweeten th...  Anna Lee C. Iijima   \n",
       "129967  Citation is given as much as a decade of bottl...        Paul Gregutt   \n",
       "129968  Well-drained gravel soil gives this wine its c...          Roger Voss   \n",
       "129969  A dry style of Pinot Gris, this is crisp with ...          Roger Voss   \n",
       "129970  Big, rich and off-dry, this is powered by inte...          Roger Voss   \n",
       "\n",
       "       taster_twitter_handle  price                             designation  \\\n",
       "0               @kerinokeefe   20.0                            Vulkà Bianco   \n",
       "1                 @vossroger   15.0                                Avidagos   \n",
       "2                @paulgwine    14.0                                 Reserve   \n",
       "3                 @vossroger   13.0                    Reserve Late Harvest   \n",
       "4                @paulgwine    65.0      Vintner's Reserve Wild Child Block   \n",
       "...                      ...    ...                                     ...   \n",
       "129966            @vossroger   28.0  Brauneberger Juffer-Sonnenuhr Spätlese   \n",
       "129967           @paulgwine    75.0                                 Reserve   \n",
       "129968            @vossroger   30.0                                   Kritt   \n",
       "129969            @vossroger   32.0                                 Reserve   \n",
       "129970            @vossroger   21.0           Lieu-dit Harth Cuvée Caroline   \n",
       "\n",
       "               variety             region_1           region_2  \\\n",
       "0          White Blend                 Etna      Central Coast   \n",
       "1       Portuguese Red          Napa Valley      Central Coast   \n",
       "2           Pinot Gris    Willamette Valley  Willamette Valley   \n",
       "3             Riesling  Lake Michigan Shore      Central Coast   \n",
       "4           Pinot Noir    Willamette Valley  Willamette Valley   \n",
       "...                ...                  ...                ...   \n",
       "129966        Riesling          Napa Valley      Central Coast   \n",
       "129967      Pinot Noir               Oregon       Oregon Other   \n",
       "129968  Gewürztraminer               Alsace      Central Coast   \n",
       "129969      Pinot Gris               Alsace      Central Coast   \n",
       "129970  Gewürztraminer               Alsace      Central Coast   \n",
       "\n",
       "                 province   country                                    winery  \n",
       "0       Sicily & Sardinia     Italy                                   Nicosia  \n",
       "1                   Douro  Portugal                       Quinta dos Avidagos  \n",
       "2                  Oregon        US                                 Rainstorm  \n",
       "3                Michigan        US                                St. Julian  \n",
       "4                  Oregon        US                              Sweet Cheeks  \n",
       "...                   ...       ...                                       ...  \n",
       "129966              Mosel   Germany  Dr. H. Thanisch (Erben Müller-Burggraef)  \n",
       "129967             Oregon        US                                  Citation  \n",
       "129968             Alsace    France                           Domaine Gresser  \n",
       "129969             Alsace    France                      Domaine Marcel Deiss  \n",
       "129970             Alsace    France                          Domaine Schoffit  \n",
       "\n",
       "[125142 rows x 13 columns]"
      ]
     },
     "execution_count": 19,
     "metadata": {},
     "output_type": "execute_result"
    }
   ],
   "source": [
    "d3=d[(d.points > d.price)]"
   ]
  },
  {
   "cell_type": "code",
   "execution_count": 20,
   "id": "fd2055b9",
   "metadata": {},
   "outputs": [
    {
     "data": {
      "text/plain": [
       "Index(['points', 'title', 'description', 'taster_name',\n",
       "       'taster_twitter_handle', 'price', 'designation', 'variety', 'region_1',\n",
       "       'region_2', 'province', 'country', 'winery'],\n",
       "      dtype='object')"
      ]
     },
     "execution_count": 20,
     "metadata": {},
     "output_type": "execute_result"
    }
   ],
   "source": [
    "d.columns"
   ]
  },
  {
   "cell_type": "code",
   "execution_count": 21,
   "id": "4a840dad",
   "metadata": {},
   "outputs": [],
   "source": [
    "import matplotlib.pyplot as plt"
   ]
  },
  {
   "cell_type": "code",
   "execution_count": null,
   "id": "c85139fb",
   "metadata": {},
   "outputs": [],
   "source": [
    "p=d['points'].tolist()\n",
    "x=d['price'].tolist()\n",
    "#l=[x.index(i) for i in x]\n",
    "plt.scatter(p,x)\n",
    "plt.xlabel('price')\n",
    "plt.ylabel('points')\n",
    "plt.title('price of country')\n",
    "plt.show()"
   ]
  },
  {
   "cell_type": "code",
   "execution_count": 23,
   "id": "4648fc5b",
   "metadata": {},
   "outputs": [],
   "source": [
    "x=d['points'].tolist()\n"
   ]
  },
  {
   "cell_type": "code",
   "execution_count": null,
   "id": "8f61101e",
   "metadata": {},
   "outputs": [],
   "source": [
    "l=[x.index(i) for i in x]\n"
   ]
  },
  {
   "cell_type": "code",
   "execution_count": null,
   "id": "96129442",
   "metadata": {},
   "outputs": [],
   "source": [
    "x=d['country'].tolist()\n",
    "x"
   ]
  },
  {
   "cell_type": "code",
   "execution_count": 1,
   "id": "80148b5b",
   "metadata": {},
   "outputs": [
    {
     "ename": "NameError",
     "evalue": "name 'd' is not defined",
     "output_type": "error",
     "traceback": [
      "\u001b[1;31m---------------------------------------------------------------------------\u001b[0m",
      "\u001b[1;31mNameError\u001b[0m                                 Traceback (most recent call last)",
      "Cell \u001b[1;32mIn[1], line 1\u001b[0m\n\u001b[1;32m----> 1\u001b[0m p\u001b[38;5;241m=\u001b[39m\u001b[43md\u001b[49m[\u001b[38;5;124m'\u001b[39m\u001b[38;5;124mprice\u001b[39m\u001b[38;5;124m'\u001b[39m]\u001b[38;5;241m.\u001b[39mtolist()\n",
      "\u001b[1;31mNameError\u001b[0m: name 'd' is not defined"
     ]
    }
   ],
   "source": [
    "p=d['price'].tolist()"
   ]
  },
  {
   "cell_type": "code",
   "execution_count": null,
   "id": "eb3abece",
   "metadata": {},
   "outputs": [],
   "source": []
  }
 ],
 "metadata": {
  "kernelspec": {
   "display_name": "Python 3 (ipykernel)",
   "language": "python",
   "name": "python3"
  },
  "language_info": {
   "codemirror_mode": {
    "name": "ipython",
    "version": 3
   },
   "file_extension": ".py",
   "mimetype": "text/x-python",
   "name": "python",
   "nbconvert_exporter": "python",
   "pygments_lexer": "ipython3",
   "version": "3.10.9"
  }
 },
 "nbformat": 4,
 "nbformat_minor": 5
}
