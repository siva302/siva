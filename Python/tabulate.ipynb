{
 "cells": [
  {
   "cell_type": "code",
   "execution_count": 1,
   "id": "2d933561",
   "metadata": {},
   "outputs": [
    {
     "name": "stdout",
     "output_type": "stream",
     "text": [
      "Requirement already satisfied: tabulate in c:\\users\\asiva\\anaconda3\\lib\\site-packages (0.8.10)\n",
      "Note: you may need to restart the kernel to use updated packages.\n"
     ]
    }
   ],
   "source": [
    "pip install tabulate"
   ]
  },
  {
   "cell_type": "code",
   "execution_count": 2,
   "id": "acee2866",
   "metadata": {},
   "outputs": [],
   "source": [
    "from tabulate import tabulate\n",
    "import pandas as pd\n",
    "import matplotlib.pyplot as plt"
   ]
  },
  {
   "cell_type": "code",
   "execution_count": 2,
   "id": "3a6e802a",
   "metadata": {},
   "outputs": [
    {
     "name": "stdout",
     "output_type": "stream",
     "text": [
      "ok\n"
     ]
    }
   ],
   "source": [
    "import mysql.connector\n",
    "connection=mysql.connector.connect(\n",
    "    host='localhost',\n",
    "    user='root',\n",
    "    password='root@123',\n",
    "    database='mitraz',\n",
    "    )\n",
    "cursor=connection.cursor()\n",
    "def ins():\n",
    "    print(\"enter\")\n",
    "    try:\n",
    "        ins='insert into custo values(%s,%s,%s,%s,%s,%s)'\n",
    "        ins_value=(int(input(\"enter a id: \")),input('enter a name: '),int(input('enter a age: ')),input(\"enter a address: \"),int(input(\"enter a salary: \")),input(\"enter a email: \"))\n",
    "        cursor.execute(ins,ins_value)\n",
    "        connection.commit()\n",
    "        print(\"Insertion successful!\")\n",
    "    except mysql.connector as error:\n",
    "        print(\"mysql error\")\n",
    "def up():\n",
    "    try:\n",
    "        ide= int(input(\"enter the id : \"))\n",
    "        sel= \"select * from custo where id = %s\"\n",
    "        cursor.execute(sel,(ide,))\n",
    "        existing_record=cursor.fetchone()\n",
    "        if existing_record:\n",
    "            up='update custo set name=%s where id=%s'\n",
    "            up_value=(input(\"enter a name: \"),int(input('enter a id: ')))\n",
    "            cursor.execute(up,up_value)\n",
    "            connection.commit()\n",
    "            print('updated')\n",
    "        else:\n",
    "            print('No such id exists')\n",
    "    except mysql.connector as error:\n",
    "        print(\"mysql error\")\n",
    "def fetch_all():\n",
    "    try:\n",
    "        cursor.execute(\"SELECT * FROM custo\")\n",
    "        records = cursor.fetchall()\n",
    "\n",
    "        if records:\n",
    "            headers = [i[0] for i in cursor.description]\n",
    "            print(tabulate(records, headers=headers, tablefmt=\"pretty\"))\n",
    "            name = [record[1] for record in records]  \n",
    "            salary = [record[4] for record in records]  \n",
    "\n",
    "            # Creating a bar graph\n",
    "            plt.figure(figsize=(8, 6))\n",
    "            plt.bar(name, salary, color='salmon')\n",
    "            plt.xlabel('name')\n",
    "            plt.ylabel('Salary')\n",
    "            plt.title('Salary Distribution')\n",
    "\n",
    "            plt.tight_layout()\n",
    "            plt.show()\n",
    "        else:\n",
    "            print(\"No records found.\")\n",
    "    except mysql.connector.Error as error:\n",
    "        print(\"Error fetching data:\", error)\n",
    "print('ok')\n",
    "        "
   ]
  },
  {
   "cell_type": "code",
   "execution_count": null,
   "id": "7e1b4376",
   "metadata": {},
   "outputs": [],
   "source": []
  },
  {
   "cell_type": "code",
   "execution_count": null,
   "id": "842b9972",
   "metadata": {},
   "outputs": [],
   "source": []
  }
 ],
 "metadata": {
  "kernelspec": {
   "display_name": "Python 3 (ipykernel)",
   "language": "python",
   "name": "python3"
  },
  "language_info": {
   "codemirror_mode": {
    "name": "ipython",
    "version": 3
   },
   "file_extension": ".py",
   "mimetype": "text/x-python",
   "name": "python",
   "nbconvert_exporter": "python",
   "pygments_lexer": "ipython3",
   "version": "3.10.9"
  }
 },
 "nbformat": 4,
 "nbformat_minor": 5
}
