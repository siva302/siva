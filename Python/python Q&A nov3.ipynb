{
 "cells": [
  {
   "cell_type": "markdown",
   "id": "bd03ae1e",
   "metadata": {},
   "source": [
    "1.Write a Python program that iterates the integers from 1 to 50.\n",
    " For multiples of three print \"Three\" instead of the number and for multiples of five print \"Five\". For numbers that are multiples of three and five, print \"ThreeFive\"."
   ]
  },
  {
   "cell_type": "code",
   "execution_count": 4,
   "id": "3322357f",
   "metadata": {},
   "outputs": [
    {
     "name": "stdout",
     "output_type": "stream",
     "text": [
      "enter a range: 50\n",
      "0 three\n",
      "1 not multiples by 3&5\n",
      "2 not multiples by 3&5\n",
      "3 three\n",
      "4 not multiples by 3&5\n",
      "5 five\n",
      "6 three\n",
      "7 not multiples by 3&5\n",
      "8 not multiples by 3&5\n",
      "9 three\n",
      "10 five\n",
      "11 not multiples by 3&5\n",
      "12 three\n",
      "13 not multiples by 3&5\n",
      "14 not multiples by 3&5\n",
      "15 three\n",
      "16 not multiples by 3&5\n",
      "17 not multiples by 3&5\n",
      "18 three\n",
      "19 not multiples by 3&5\n",
      "20 five\n",
      "21 three\n",
      "22 not multiples by 3&5\n",
      "23 not multiples by 3&5\n",
      "24 three\n",
      "25 five\n",
      "26 not multiples by 3&5\n",
      "27 three\n",
      "28 not multiples by 3&5\n",
      "29 not multiples by 3&5\n",
      "30 three\n",
      "31 not multiples by 3&5\n",
      "32 not multiples by 3&5\n",
      "33 three\n",
      "34 not multiples by 3&5\n",
      "35 five\n",
      "36 three\n",
      "37 not multiples by 3&5\n",
      "38 not multiples by 3&5\n",
      "39 three\n",
      "40 five\n",
      "41 not multiples by 3&5\n",
      "42 three\n",
      "43 not multiples by 3&5\n",
      "44 not multiples by 3&5\n",
      "45 three\n",
      "46 not multiples by 3&5\n",
      "47 not multiples by 3&5\n",
      "48 three\n",
      "49 not multiples by 3&5\n",
      "50 five\n"
     ]
    }
   ],
   "source": [
    "num=(int(input(\"enter a range: \")))\n",
    "for i in range(num+1):\n",
    "    if i%3==0:\n",
    "        print(i,\"three\")\n",
    "    elif i%5==0:\n",
    "        print(i,\"five\")\n",
    "    elif i%3==0 and i%5==0:\n",
    "        print(i,'three and five')\n",
    "    else:\n",
    "        print(i,'not multiples by 3&5')"
   ]
  },
  {
   "cell_type": "markdown",
   "id": "99d532c9",
   "metadata": {},
   "source": [
    "2.Write a Python program that accepts a string and calculates the number of digits and letters."
   ]
  },
  {
   "cell_type": "code",
   "execution_count": 11,
   "id": "a83e4293",
   "metadata": {},
   "outputs": [
    {
     "name": "stdout",
     "output_type": "stream",
     "text": [
      "letter 4\n",
      "digit 3\n"
     ]
    }
   ],
   "source": [
    "a='si1v2a3'\n",
    "l=0\n",
    "d=0\n",
    "for i in a:\n",
    "    if i.isalpha():\n",
    "        l=l+1\n",
    "    if i.isdigit():\n",
    "        d=d+1\n",
    "print('letter',l)\n",
    "print('digit',d)\n"
   ]
  },
  {
   "cell_type": "markdown",
   "id": "3c9b3e48",
   "metadata": {},
   "source": [
    "3.Write a python for loop to sort the numbers in a list in descending order\n"
   ]
  },
  {
   "cell_type": "code",
   "execution_count": 17,
   "id": "97be034a",
   "metadata": {},
   "outputs": [
    {
     "name": "stdout",
     "output_type": "stream",
     "text": [
      "[13, 9, 7, 6, 5, 1]\n"
     ]
    }
   ],
   "source": [
    "num=[1,9,13,7,5,6]\n",
    "temp=0\n",
    "for i in range(len(num)):\n",
    "    for j in range(i+1,len(num)) :\n",
    "        if num[i]<num[j]:\n",
    "            temp=num[i]\n",
    "            num[i]=num[j]\n",
    "            num[j]=temp\n",
    "print(num)\n",
    "            "
   ]
  },
  {
   "cell_type": "markdown",
   "id": "2820f87d",
   "metadata": {},
   "source": [
    "4.Write a program to find a factorial of a number accepted from the user.\n",
    "note:-factorial, in mathematics, the product of all positive integers less than or equal to a given positive integer and denoted by that integer and an exclamation point.\n",
    "Thus, factorial seven is written 7!, meaning 1 × 2 × 3 × 4 × 5 × 6 × 7."
   ]
  },
  {
   "cell_type": "code",
   "execution_count": 1,
   "id": "e6c8bd09",
   "metadata": {},
   "outputs": [
    {
     "name": "stdout",
     "output_type": "stream",
     "text": [
      "enter a number 7\n",
      "5040\n"
     ]
    }
   ],
   "source": [
    "num=int(input('enter a number '))\n",
    "fact=1\n",
    "for i in range(1,num+1):\n",
    "    fact=fact*i\n",
    "print(fact)\n",
    "\n",
    "    "
   ]
  },
  {
   "cell_type": "markdown",
   "id": "953f5190",
   "metadata": {},
   "source": [
    "5.Write a program to display the product of the digits of a number accepted from the user.\n"
   ]
  },
  {
   "cell_type": "code",
   "execution_count": 6,
   "id": "a90bf0c5",
   "metadata": {},
   "outputs": [
    {
     "name": "stdout",
     "output_type": "stream",
     "text": [
      "enter a number 123456\n",
      "720\n"
     ]
    }
   ],
   "source": [
    "num = int(input(\"enter a number \"))\n",
    "\n",
    "n = num\n",
    "\n",
    "product = 1\n",
    "\n",
    "while n != 0:\n",
    "\n",
    "    rem = n % 10\n",
    "\n",
    "    product = product * rem\n",
    "\n",
    "    n = n // 10\n",
    "\n",
    "print(product)"
   ]
  },
  {
   "cell_type": "markdown",
   "id": "42dc0da4",
   "metadata": {},
   "source": [
    "6.Write a program to display all the numbers which are divisible by 11 but not by 2 between 100 to 500"
   ]
  },
  {
   "cell_type": "code",
   "execution_count": 3,
   "id": "5ae85e88",
   "metadata": {},
   "outputs": [
    {
     "name": "stdout",
     "output_type": "stream",
     "text": [
      "121 143 165 187 209 231 253 275 297 319 341 363 385 407 429 451 473 495 "
     ]
    }
   ],
   "source": [
    "for num in range(100, 500+1):\n",
    "    if num % 11 == 0 and num % 2 != 0 :\n",
    "        print(num, end = \" \")"
   ]
  },
  {
   "cell_type": "markdown",
   "id": "76cdda73",
   "metadata": {},
   "source": [
    "List Comprehension"
   ]
  },
  {
   "cell_type": "markdown",
   "id": "cb976e71",
   "metadata": {},
   "source": [
    "1.Given a list of numbers, remove all odd numbers from the list numbers = [3,5,45,97,32,22,10,19,39,43]"
   ]
  },
  {
   "cell_type": "code",
   "execution_count": 36,
   "id": "f7ec7051",
   "metadata": {},
   "outputs": [
    {
     "name": "stdout",
     "output_type": "stream",
     "text": [
      "[32, 22, 10]\n"
     ]
    }
   ],
   "source": [
    "l=[3,5,45,97,32,22,10,19,39,43]\n",
    "nl=[i for i in l if i%2==0]\n",
    "print(nl)"
   ]
  },
  {
   "cell_type": "markdown",
   "id": "db56ddbb",
   "metadata": {},
   "source": [
    "2.Find all of the numbers from 1-1000 that are divisible by 7"
   ]
  },
  {
   "cell_type": "code",
   "execution_count": 37,
   "id": "4d811e2c",
   "metadata": {},
   "outputs": [
    {
     "name": "stdout",
     "output_type": "stream",
     "text": [
      "enter a numbewr 1000\n",
      "[0, 7, 14, 21, 28, 35, 42, 49, 56, 63, 70, 77, 84, 91, 98, 105, 112, 119, 126, 133, 140, 147, 154, 161, 168, 175, 182, 189, 196, 203, 210, 217, 224, 231, 238, 245, 252, 259, 266, 273, 280, 287, 294, 301, 308, 315, 322, 329, 336, 343, 350, 357, 364, 371, 378, 385, 392, 399, 406, 413, 420, 427, 434, 441, 448, 455, 462, 469, 476, 483, 490, 497, 504, 511, 518, 525, 532, 539, 546, 553, 560, 567, 574, 581, 588, 595, 602, 609, 616, 623, 630, 637, 644, 651, 658, 665, 672, 679, 686, 693, 700, 707, 714, 721, 728, 735, 742, 749, 756, 763, 770, 777, 784, 791, 798, 805, 812, 819, 826, 833, 840, 847, 854, 861, 868, 875, 882, 889, 896, 903, 910, 917, 924, 931, 938, 945, 952, 959, 966, 973, 980, 987, 994]\n"
     ]
    }
   ],
   "source": [
    "a=int(input(\"enter a numbewr \"))\n",
    "n=[i for i in range(a) if i%7==0]\n",
    "print(n)"
   ]
  },
  {
   "cell_type": "markdown",
   "id": "0774ef7e",
   "metadata": {},
   "source": [
    "3.Count the number of spaces in a string"
   ]
  },
  {
   "cell_type": "code",
   "execution_count": 4,
   "id": "19a7d2c5",
   "metadata": {},
   "outputs": [
    {
     "name": "stdout",
     "output_type": "stream",
     "text": [
      "4\n"
     ]
    },
    {
     "data": {
      "text/plain": [
       "\"for i in a:\\n    if i==' ':\\n        c=c+1\\nprint(c)\""
      ]
     },
     "execution_count": 4,
     "metadata": {},
     "output_type": "execute_result"
    }
   ],
   "source": [
    "a=\"s i v a \"\n",
    "c=0\n",
    "n=[c for i in a if i==' ']\n",
    "print(len(n))\n",
    "'''for i in a:\n",
    "    if i==' ':\n",
    "        c=c+1\n",
    "print(c)'''   "
   ]
  },
  {
   "cell_type": "markdown",
   "id": "cc5b45ae",
   "metadata": {},
   "source": [
    "4.Get the index and the value as a tuple for items in the list “hi”, 4, 8.99, ‘apple’, (‘t,b’,’n’). Result would look like (index, value), (index, value)\n"
   ]
  },
  {
   "cell_type": "code",
   "execution_count": 32,
   "id": "b9b26fd1",
   "metadata": {},
   "outputs": [
    {
     "name": "stdout",
     "output_type": "stream",
     "text": [
      "[(0, 'hi'), (1, 4), (2, 8.99), (3, 'apple'), (4, ('t,b', 'n'))]\n"
     ]
    }
   ],
   "source": [
    "my_list = [\"hi\", 4, 8.99, 'apple', ('t,b', 'n')]\n",
    "\n",
    "result = [ i for i in enumerate(my_list)]\n",
    "\n",
    "print(result)\n"
   ]
  },
  {
   "cell_type": "markdown",
   "id": "f3e0e721",
   "metadata": {},
   "source": [
    "5.Find all of the words in a string that are less than 4 letters [Hint: Use split() to get the words from string]"
   ]
  },
  {
   "cell_type": "code",
   "execution_count": 35,
   "id": "c9b54277",
   "metadata": {},
   "outputs": [
    {
     "name": "stdout",
     "output_type": "stream",
     "text": [
      "['all', 'of', 'the', 'in', 'a', 'are']\n"
     ]
    }
   ],
   "source": [
    "l=\"Find all of the words in a string that are less\"\n",
    "v=l.split()\n",
    "n=[i for i in v if len(i)<4]\n",
    "print(n)"
   ]
  },
  {
   "cell_type": "code",
   "execution_count": null,
   "id": "83542195",
   "metadata": {},
   "outputs": [],
   "source": []
  },
  {
   "cell_type": "code",
   "execution_count": 1,
   "id": "03a85dc1",
   "metadata": {},
   "outputs": [],
   "source": []
  },
  {
   "cell_type": "code",
   "execution_count": null,
   "id": "499b257d",
   "metadata": {},
   "outputs": [],
   "source": []
  },
  {
   "cell_type": "code",
   "execution_count": null,
   "id": "297c9a9a",
   "metadata": {},
   "outputs": [],
   "source": []
  }
 ],
 "metadata": {
  "kernelspec": {
   "display_name": "Python 3 (ipykernel)",
   "language": "python",
   "name": "python3"
  },
  "language_info": {
   "codemirror_mode": {
    "name": "ipython",
    "version": 3
   },
   "file_extension": ".py",
   "mimetype": "text/x-python",
   "name": "python",
   "nbconvert_exporter": "python",
   "pygments_lexer": "ipython3",
   "version": "3.10.9"
  }
 },
 "nbformat": 4,
 "nbformat_minor": 5
}
