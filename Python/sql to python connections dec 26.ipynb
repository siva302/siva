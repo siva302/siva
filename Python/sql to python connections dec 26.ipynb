{
 "cells": [
  {
   "cell_type": "code",
   "execution_count": 1,
   "id": "ddf9fe00",
   "metadata": {},
   "outputs": [
    {
     "name": "stdout",
     "output_type": "stream",
     "text": [
      "Collecting mysql-connector-python\n",
      "  Downloading mysql_connector_python-8.2.0-cp310-cp310-win_amd64.whl (14.2 MB)\n",
      "     ---------------------------------------- 14.2/14.2 MB 3.9 MB/s eta 0:00:00\n",
      "Collecting protobuf<=4.21.12,>=4.21.1\n",
      "  Downloading protobuf-4.21.12-cp310-abi3-win_amd64.whl (527 kB)\n",
      "     -------------------------------------- 527.0/527.0 kB 3.0 MB/s eta 0:00:00\n",
      "Installing collected packages: protobuf, mysql-connector-python\n",
      "Successfully installed mysql-connector-python-8.2.0 protobuf-4.21.12\n",
      "Note: you may need to restart the kernel to use updated packages.\n"
     ]
    }
   ],
   "source": [
    "pip install mysql-connector-python"
   ]
  },
  {
   "cell_type": "code",
   "execution_count": 2,
   "id": "168ae451",
   "metadata": {},
   "outputs": [
    {
     "name": "stdout",
     "output_type": "stream",
     "text": [
      "(1, 'siva', 22, 'ktc', Decimal('26000.00'), 'siva@123')\n",
      "(2, 'kavi', 19, 'atp', Decimal('36000.00'), 'kavi@123')\n",
      "(3, 'chinna', 23, 'ptp', Decimal('3600.00'), 'chinna@123')\n",
      "(4, 'ravi', 15, 'ktm', Decimal('31000.00'), 'ravi@123')\n",
      "(5, 'vishnu', 20, 'dmm', Decimal('3500.00'), 'vishnu@123')\n"
     ]
    }
   ],
   "source": [
    "import mysql.connector\n",
    "connection=mysql.connector.connect(\n",
    "host='localhost',\n",
    "user='root',\n",
    "password='root@123',\n",
    "database='mitraz',\n",
    ")\n",
    "cursor=connection.cursor()\n",
    "query=\"select * from custo\"\n",
    "cursor.execute(query)\n",
    "results=cursor.fetchall()\n",
    "for row in results:\n",
    "    print(row)\n",
    "cursor.close()\n",
    "connection.close()\n",
    "\n",
    "\n"
   ]
  },
  {
   "cell_type": "code",
   "execution_count": 11,
   "id": "8aed186d",
   "metadata": {},
   "outputs": [
    {
     "name": "stdout",
     "output_type": "stream",
     "text": [
      "Collecting pymysql\n",
      "  Downloading PyMySQL-1.1.0-py3-none-any.whl (44 kB)\n",
      "     -------------------------------------- 44.8/44.8 kB 316.8 kB/s eta 0:00:00\n",
      "Installing collected packages: pymysql\n",
      "Successfully installed pymysql-1.1.0\n",
      "Note: you may need to restart the kernel to use updated packages.\n"
     ]
    }
   ],
   "source": [
    "pip install pymysql"
   ]
  },
  {
   "cell_type": "code",
   "execution_count": 12,
   "id": "2cffc868",
   "metadata": {},
   "outputs": [],
   "source": [
    "import warnings\n",
    "warnings.filterwarnings(\"ignore\")\n",
    "\n"
   ]
  },
  {
   "cell_type": "code",
   "execution_count": 15,
   "id": "af476b61",
   "metadata": {},
   "outputs": [],
   "source": [
    "import pymysql\n",
    "import pandas as pd"
   ]
  },
  {
   "cell_type": "code",
   "execution_count": 17,
   "id": "4fef9ea6",
   "metadata": {},
   "outputs": [
    {
     "data": {
      "text/html": [
       "<div>\n",
       "<style scoped>\n",
       "    .dataframe tbody tr th:only-of-type {\n",
       "        vertical-align: middle;\n",
       "    }\n",
       "\n",
       "    .dataframe tbody tr th {\n",
       "        vertical-align: top;\n",
       "    }\n",
       "\n",
       "    .dataframe thead th {\n",
       "        text-align: right;\n",
       "    }\n",
       "</style>\n",
       "<table border=\"1\" class=\"dataframe\">\n",
       "  <thead>\n",
       "    <tr style=\"text-align: right;\">\n",
       "      <th></th>\n",
       "      <th>id</th>\n",
       "      <th>name</th>\n",
       "      <th>p_age</th>\n",
       "      <th>address</th>\n",
       "      <th>salary</th>\n",
       "      <th>email</th>\n",
       "    </tr>\n",
       "  </thead>\n",
       "  <tbody>\n",
       "    <tr>\n",
       "      <th>0</th>\n",
       "      <td>1</td>\n",
       "      <td>siva</td>\n",
       "      <td>22</td>\n",
       "      <td>ktc</td>\n",
       "      <td>26000.0</td>\n",
       "      <td>siva@123</td>\n",
       "    </tr>\n",
       "    <tr>\n",
       "      <th>1</th>\n",
       "      <td>2</td>\n",
       "      <td>kavi</td>\n",
       "      <td>19</td>\n",
       "      <td>atp</td>\n",
       "      <td>36000.0</td>\n",
       "      <td>kavi@123</td>\n",
       "    </tr>\n",
       "    <tr>\n",
       "      <th>2</th>\n",
       "      <td>3</td>\n",
       "      <td>chinna</td>\n",
       "      <td>23</td>\n",
       "      <td>ptp</td>\n",
       "      <td>3600.0</td>\n",
       "      <td>chinna@123</td>\n",
       "    </tr>\n",
       "    <tr>\n",
       "      <th>3</th>\n",
       "      <td>4</td>\n",
       "      <td>ravi</td>\n",
       "      <td>15</td>\n",
       "      <td>ktm</td>\n",
       "      <td>31000.0</td>\n",
       "      <td>ravi@123</td>\n",
       "    </tr>\n",
       "    <tr>\n",
       "      <th>4</th>\n",
       "      <td>5</td>\n",
       "      <td>vishnu</td>\n",
       "      <td>20</td>\n",
       "      <td>dmm</td>\n",
       "      <td>3500.0</td>\n",
       "      <td>vishnu@123</td>\n",
       "    </tr>\n",
       "  </tbody>\n",
       "</table>\n",
       "</div>"
      ],
      "text/plain": [
       "   id    name  p_age address   salary       email\n",
       "0   1    siva     22     ktc  26000.0    siva@123\n",
       "1   2    kavi     19     atp  36000.0    kavi@123\n",
       "2   3  chinna     23     ptp   3600.0  chinna@123\n",
       "3   4    ravi     15     ktm  31000.0    ravi@123\n",
       "4   5  vishnu     20     dmm   3500.0  vishnu@123"
      ]
     },
     "execution_count": 17,
     "metadata": {},
     "output_type": "execute_result"
    }
   ],
   "source": [
    "conn=pymysql.connect(\n",
    "host='localhost',\n",
    "user='root',\n",
    "password='root@123',\n",
    "database='mitraz',\n",
    "port=int(3306)\n",
    ")\n",
    "query=\"select*from custo\"\n",
    "df=pd.read_sql_query(query,conn)\n",
    "df.head()"
   ]
  },
  {
   "cell_type": "code",
   "execution_count": 13,
   "id": "a2a4fcea",
   "metadata": {},
   "outputs": [
    {
     "name": "stdout",
     "output_type": "stream",
     "text": [
      "ok\n"
     ]
    }
   ],
   "source": [
    "try:\n",
    "    a=int('hello')\n",
    "    print(type(a))\n",
    "except ValueError:\n",
    "    print('ok')"
   ]
  },
  {
   "cell_type": "code",
   "execution_count": null,
   "id": "e13b9ed7",
   "metadata": {},
   "outputs": [],
   "source": [
    "try:\n",
    "    # Code where you expect an exception might occur\n",
    "    result = int(\"hello\")  # This will raise a ValueError\n",
    "    print(result)   # This line won't execute if an exception occurs\n",
    "except ValueError as e:\n",
    "    # Handle the specific exception that occurred\n",
    "    print(\"Error:\", e)\n",
    "except Exception as e:\n",
    "    # Handle other unexpected exceptions\n",
    "    print(\"Unexpected error:\", e)\n",
    "finally:\n",
    "    # This block always executes regardless of an exception\n",
    "    print(\"Execution completed\")\n"
   ]
  },
  {
   "cell_type": "code",
   "execution_count": 8,
   "id": "3986da2b",
   "metadata": {},
   "outputs": [
    {
     "name": "stdout",
     "output_type": "stream",
     "text": [
      " value error: invalid literal for int() with base 10: 'hi'\n",
      "ok\n"
     ]
    }
   ],
   "source": [
    "try:\n",
    "    a=int('hi')\n",
    "    print(a)\n",
    "except Exception as e:\n",
    "    print(\" value error:\",e)\n",
    "except Exception as e:    \n",
    "   print(\"Unexpected error:\", e) \n",
    "finally:\n",
    "    print('ok')"
   ]
  },
  {
   "cell_type": "code",
   "execution_count": 18,
   "id": "214e5825",
   "metadata": {},
   "outputs": [
    {
     "name": "stdout",
     "output_type": "stream",
     "text": [
      "'int' object is not iterable\n",
      "ok\n"
     ]
    }
   ],
   "source": [
    "try:\n",
    "    n=10\n",
    "    for i in n:\n",
    "        print(i)\n",
    "except Exception as e:\n",
    "    print(e)\n",
    "except Exception as e:    \n",
    "   print(\"Unexpected error:\", e) \n",
    "finally:\n",
    "    print('ok')"
   ]
  },
  {
   "cell_type": "code",
   "execution_count": null,
   "id": "f5dadad3",
   "metadata": {},
   "outputs": [],
   "source": []
  }
 ],
 "metadata": {
  "kernelspec": {
   "display_name": "Python 3 (ipykernel)",
   "language": "python",
   "name": "python3"
  },
  "language_info": {
   "codemirror_mode": {
    "name": "ipython",
    "version": 3
   },
   "file_extension": ".py",
   "mimetype": "text/x-python",
   "name": "python",
   "nbconvert_exporter": "python",
   "pygments_lexer": "ipython3",
   "version": "3.10.9"
  }
 },
 "nbformat": 4,
 "nbformat_minor": 5
}
