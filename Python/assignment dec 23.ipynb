{
 "cells": [
  {
   "cell_type": "markdown",
   "id": "2cd717f0",
   "metadata": {},
   "source": [
    "1.Get only the numbers in a sentence like ‘In 2021 there were 56 instances of a protest with over 3500 people attending’"
   ]
  },
  {
   "cell_type": "code",
   "execution_count": 5,
   "id": "93a5439d",
   "metadata": {},
   "outputs": [
    {
     "name": "stdout",
     "output_type": "stream",
     "text": [
      "2 0 2 1 5 6 3 5 0 0 "
     ]
    }
   ],
   "source": [
    "n='In 2021 there were 56 instances of a protest with over 3500 people attending'\n",
    "for i in n:\n",
    "    if i.isdigit():\n",
    "        print(i,end=' ')\n"
   ]
  },
  {
   "cell_type": "markdown",
   "id": "06506d7e",
   "metadata": {},
   "source": [
    "2.Use a nested list comprehension to find all of the numbers from 1-1000 that are divisible by any single digit besides 1 (2-9)"
   ]
  },
  {
   "cell_type": "code",
   "execution_count": 83,
   "id": "715ec16e",
   "metadata": {},
   "outputs": [
    {
     "name": "stdout",
     "output_type": "stream",
     "text": [
      "[2, 3, 4, 4, 5, 6, 6, 6, 7, 8, 8, 8, 9, 9, 10, 10, 12, 12, 12, 12, 14, 14, 15, 15, 16, 16, 16, 18, 18, 18, 18, 20, 20, 20, 21, 21, 22, 24, 24, 24, 24, 24, 25, 26, 27, 27, 28, 28, 28, 30, 30, 30, 30, 32, 32, 32, 33, 34, 35, 35, 36, 36, 36, 36, 36, 38, 39, 40, 40, 40, 40, 42, 42, 42, 42, 44, 44, 45, 45, 45, 46, 48, 48, 48, 48, 48, 49, 50, 50, 51, 52, 52, 54, 54, 54, 54, 55, 56, 56, 56, 56, 57, 58, 60, 60, 60, 60, 60, 62, 63, 63, 63, 64, 64, 64, 65, 66, 66, 66, 68, 68, 69, 70, 70, 70, 72, 72, 72, 72, 72, 72, 74, 75, 75, 76, 76, 77, 78, 78, 78, 80, 80, 80, 80, 81, 81, 82, 84, 84, 84, 84, 84, 85, 86, 87, 88, 88, 88, 90, 90, 90, 90, 90, 91, 92, 92, 93, 94, 95, 96, 96, 96, 96, 96, 98, 98, 99, 99, 100, 100, 100, 102, 102, 102, 104, 104, 104, 105, 105, 105, 106, 108, 108, 108, 108, 108, 110, 110, 111, 112, 112, 112, 112, 114, 114, 114, 115, 116, 116, 117, 117, 118, 119, 120, 120, 120, 120, 120, 120, 122, 123, 124, 124, 125, 126, 126, 126, 126, 126, 128, 128, 128, 129, 130, 130, 132, 132, 132, 132, 133, 134, 135, 135, 135, 136, 136, 136, 138, 138, 138, 140, 140, 140, 140, 141, 142, 144, 144, 144, 144, 144, 144, 145, 146, 147, 147, 148, 148, 150, 150, 150, 150, 152, 152, 152, 153, 153, 154, 154, 155, 156, 156, 156, 156, 158, 159, 160, 160, 160, 160, 161, 162, 162, 162, 162, 164, 164, 165, 165, 166, 168, 168, 168, 168, 168, 168, 170, 170, 171, 171, 172, 172, 174, 174, 174, 175, 175, 176, 176, 176, 177, 178, 180, 180, 180, 180, 180, 180, 182, 182, 183, 184, 184, 184, 185, 186, 186, 186, 188, 188, 189, 189, 189, 190, 190, 192, 192, 192, 192, 192, 194, 195, 195, 196, 196, 196, 198, 198, 198, 198, 200, 200, 200, 200, 201, 202, 203, 204, 204, 204, 204, 205, 206, 207, 207, 208, 208, 208, 210, 210, 210, 210, 210, 212, 212, 213, 214, 215, 216, 216, 216, 216, 216, 216, 217, 218, 219, 220, 220, 220, 222, 222, 222, 224, 224, 224, 224, 225, 225, 225, 226, 228, 228, 228, 228, 230, 230, 231, 231, 232, 232, 232, 234, 234, 234, 234, 235, 236, 236, 237, 238, 238, 240, 240, 240, 240, 240, 240, 242, 243, 243, 244, 244, 245, 245, 246, 246, 246, 248, 248, 248, 249, 250, 250, 252, 252, 252, 252, 252, 252, 254, 255, 255, 256, 256, 256, 258, 258, 258, 259, 260, 260, 260, 261, 261, 262, 264, 264, 264, 264, 264, 265, 266, 266, 267, 268, 268, 270, 270, 270, 270, 270, 272, 272, 272, 273, 273, 274, 275, 276, 276, 276, 276, 278, 279, 279, 280, 280, 280, 280, 280, 282, 282, 282, 284, 284, 285, 285, 286, 287, 288, 288, 288, 288, 288, 288, 290, 290, 291, 292, 292, 294, 294, 294, 294, 295, 296, 296, 296, 297, 297, 298, 300, 300, 300, 300, 300, 301, 302, 303, 304, 304, 304, 305, 306, 306, 306, 306, 308, 308, 308, 309, 310, 310, 312, 312, 312, 312, 312, 314, 315, 315, 315, 315, 316, 316, 318, 318, 318, 320, 320, 320, 320, 321, 322, 322, 324, 324, 324, 324, 324, 325, 326, 327, 328, 328, 328, 329, 330, 330, 330, 330, 332, 332, 333, 333, 334, 335, 336, 336, 336, 336, 336, 336, 338, 339, 340, 340, 340, 342, 342, 342, 342, 343, 344, 344, 344, 345, 345, 346, 348, 348, 348, 348, 350, 350, 350, 351, 351, 352, 352, 352, 354, 354, 354, 355, 356, 356, 357, 357, 358, 360, 360, 360, 360, 360, 360, 360, 362, 363, 364, 364, 364, 365, 366, 366, 366, 368, 368, 368, 369, 369, 370, 370, 371, 372, 372, 372, 372, 374, 375, 375, 376, 376, 376, 378, 378, 378, 378, 378, 380, 380, 380, 381, 382, 384, 384, 384, 384, 384, 385, 385, 386, 387, 387, 388, 388, 390, 390, 390, 390, 392, 392, 392, 392, 393, 394, 395, 396, 396, 396, 396, 396, 398, 399, 399, 400, 400, 400, 400, 402, 402, 402, 404, 404, 405, 405, 405, 406, 406, 408, 408, 408, 408, 408, 410, 410, 411, 412, 412, 413, 414, 414, 414, 414, 415, 416, 416, 416, 417, 418, 420, 420, 420, 420, 420, 420, 422, 423, 423, 424, 424, 424, 425, 426, 426, 426, 427, 428, 428, 429, 430, 430, 432, 432, 432, 432, 432, 432, 434, 434, 435, 435, 436, 436, 438, 438, 438, 440, 440, 440, 440, 441, 441, 441, 442, 444, 444, 444, 444, 445, 446, 447, 448, 448, 448, 448, 450, 450, 450, 450, 450, 452, 452, 453, 454, 455, 455, 456, 456, 456, 456, 456, 458, 459, 459, 460, 460, 460, 462, 462, 462, 462, 464, 464, 464, 465, 465, 466, 468, 468, 468, 468, 468, 469, 470, 470, 471, 472, 472, 472, 474, 474, 474, 475, 476, 476, 476, 477, 477, 478, 480, 480, 480, 480, 480, 480, 482, 483, 483, 484, 484, 485, 486, 486, 486, 486, 488, 488, 488, 489, 490, 490, 490, 492, 492, 492, 492, 494, 495, 495, 495, 496, 496, 496, 497, 498, 498, 498, 500, 500, 500, 501, 502, 504, 504, 504, 504, 504, 504, 504, 505, 506, 507, 508, 508, 510, 510, 510, 510, 511, 512, 512, 512, 513, 513, 514, 515, 516, 516, 516, 516, 518, 518, 519, 520, 520, 520, 520, 522, 522, 522, 522, 524, 524, 525, 525, 525, 526, 528, 528, 528, 528, 528, 530, 530, 531, 531, 532, 532, 532, 534, 534, 534, 535, 536, 536, 536, 537, 538, 539, 540, 540, 540, 540, 540, 540, 542, 543, 544, 544, 544, 545, 546, 546, 546, 546, 548, 548, 549, 549, 550, 550, 552, 552, 552, 552, 552, 553, 554, 555, 555, 556, 556, 558, 558, 558, 558, 560, 560, 560, 560, 560, 561, 562, 564, 564, 564, 564, 565, 566, 567, 567, 567, 568, 568, 568, 570, 570, 570, 570, 572, 572, 573, 574, 574, 575, 576, 576, 576, 576, 576, 576, 578, 579, 580, 580, 580, 581, 582, 582, 582, 584, 584, 584, 585, 585, 585, 586, 588, 588, 588, 588, 588, 590, 590, 591, 592, 592, 592, 594, 594, 594, 594, 595, 595, 596, 596, 597, 598, 600, 600, 600, 600, 600, 600, 602, 602, 603, 603, 604, 604, 605, 606, 606, 606, 608, 608, 608, 609, 609, 610, 610, 612, 612, 612, 612, 612, 614, 615, 615, 616, 616, 616, 616, 618, 618, 618, 620, 620, 620, 621, 621, 622, 623, 624, 624, 624, 624, 624, 625, 626, 627, 628, 628, 630, 630, 630, 630, 630, 630, 632, 632, 632, 633, 634, 635, 636, 636, 636, 636, 637, 638, 639, 639, 640, 640, 640, 640, 642, 642, 642, 644, 644, 644, 645, 645, 646, 648, 648, 648, 648, 648, 648, 650, 650, 651, 651, 652, 652, 654, 654, 654, 655, 656, 656, 656, 657, 657, 658, 658, 660, 660, 660, 660, 660, 662, 663, 664, 664, 664, 665, 665, 666, 666, 666, 666, 668, 668, 669, 670, 670, 672, 672, 672, 672, 672, 672, 674, 675, 675, 675, 676, 676, 678, 678, 678, 679, 680, 680, 680, 680, 681, 682, 684, 684, 684, 684, 684, 685, 686, 686, 687, 688, 688, 688, 690, 690, 690, 690, 692, 692, 693, 693, 693, 694, 695, 696, 696, 696, 696, 696, 698, 699, 700, 700, 700, 700, 702, 702, 702, 702, 704, 704, 704, 705, 705, 706, 707, 708, 708, 708, 708, 710, 710, 711, 711, 712, 712, 712, 714, 714, 714, 714, 715, 716, 716, 717, 718, 720, 720, 720, 720, 720, 720, 720, 721, 722, 723, 724, 724, 725, 726, 726, 726, 728, 728, 728, 728, 729, 729, 730, 730, 732, 732, 732, 732, 734, 735, 735, 735, 736, 736, 736, 738, 738, 738, 738, 740, 740, 740, 741, 742, 742, 744, 744, 744, 744, 744, 745, 746, 747, 747, 748, 748, 749, 750, 750, 750, 750, 752, 752, 752, 753, 754, 755, 756, 756, 756, 756, 756, 756, 758, 759, 760, 760, 760, 760, 762, 762, 762, 763, 764, 764, 765, 765, 765, 766, 768, 768, 768, 768, 768, 770, 770, 770, 771, 772, 772, 774, 774, 774, 774, 775, 776, 776, 776, 777, 777, 778, 780, 780, 780, 780, 780, 782, 783, 783, 784, 784, 784, 784, 785, 786, 786, 786, 788, 788, 789, 790, 790, 791, 792, 792, 792, 792, 792, 792, 794, 795, 795, 796, 796, 798, 798, 798, 798, 800, 800, 800, 800, 801, 801, 802, 804, 804, 804, 804, 805, 805, 806, 807, 808, 808, 808, 810, 810, 810, 810, 810, 812, 812, 812, 813, 814, 815, 816, 816, 816, 816, 816, 818, 819, 819, 819, 820, 820, 820, 822, 822, 822, 824, 824, 824, 825, 825, 826, 826, 828, 828, 828, 828, 828, 830, 830, 831, 832, 832, 832, 833, 834, 834, 834, 835, 836, 836, 837, 837, 838, 840, 840, 840, 840, 840, 840, 840, 842, 843, 844, 844, 845, 846, 846, 846, 846, 847, 848, 848, 848, 849, 850, 850, 852, 852, 852, 852, 854, 854, 855, 855, 855, 856, 856, 856, 858, 858, 858, 860, 860, 860, 861, 861, 862, 864, 864, 864, 864, 864, 864, 865, 866, 867, 868, 868, 868, 870, 870, 870, 870, 872, 872, 872, 873, 873, 874, 875, 875, 876, 876, 876, 876, 878, 879, 880, 880, 880, 880, 882, 882, 882, 882, 882, 884, 884, 885, 885, 886, 888, 888, 888, 888, 888, 889, 890, 890, 891, 891, 892, 892, 894, 894, 894, 895, 896, 896, 896, 896, 897, 898, 900, 900, 900, 900, 900, 900, 902, 903, 903, 904, 904, 904, 905, 906, 906, 906, 908, 908, 909, 909, 910, 910, 910, 912, 912, 912, 912, 912, 914, 915, 915, 916, 916, 917, 918, 918, 918, 918, 920, 920, 920, 920, 921, 922, 924, 924, 924, 924, 924, 925, 926, 927, 927, 928, 928, 928, 930, 930, 930, 930, 931, 932, 932, 933, 934, 935, 936, 936, 936, 936, 936, 936, 938, 938, 939, 940, 940, 940, 942, 942, 942, 944, 944, 944, 945, 945, 945, 945, 946, 948, 948, 948, 948, 950, 950, 951, 952, 952, 952, 952, 954, 954, 954, 954, 955, 956, 956, 957, 958, 959, 960, 960, 960, 960, 960, 960, 962, 963, 963, 964, 964, 965, 966, 966, 966, 966, 968, 968, 968, 969, 970, 970, 972, 972, 972, 972, 972, 973, 974, 975, 975, 976, 976, 976, 978, 978, 978, 980, 980, 980, 980, 981, 981, 982, 984, 984, 984, 984, 984, 985, 986, 987, 987, 988, 988, 990, 990, 990, 990, 990, 992, 992, 992, 993, 994, 994, 995, 996, 996, 996, 996, 998, 999, 999, 1000, 1000, 1000, 1000] "
     ]
    }
   ],
   "source": [
    "n=1000\n",
    "k=[i for i in range(1,n+1) for j in range(2,10) if i%j==0 ]\n",
    "print(k,end=' ')\n",
    "#print(k,'divisible by',j,end=' ')\n"
   ]
  },
  {
   "cell_type": "code",
   "execution_count": 50,
   "id": "7df2d7ed",
   "metadata": {},
   "outputs": [
    {
     "name": "stdout",
     "output_type": "stream",
     "text": [
      "2 divisible by 2 3 divisible by 3 4 divisible by 2 4 divisible by 4 5 divisible by 5 6 divisible by 2 6 divisible by 3 6 divisible by 6 7 divisible by 7 8 divisible by 2 8 divisible by 4 8 divisible by 8 9 divisible by 3 9 divisible by 9 10 divisible by 2 10 divisible by 5 12 divisible by 2 12 divisible by 3 12 divisible by 4 12 divisible by 6 14 divisible by 2 14 divisible by 7 15 divisible by 3 15 divisible by 5 16 divisible by 2 16 divisible by 4 16 divisible by 8 18 divisible by 2 18 divisible by 3 18 divisible by 6 18 divisible by 9 20 divisible by 2 20 divisible by 4 20 divisible by 5 21 divisible by 3 21 divisible by 7 22 divisible by 2 24 divisible by 2 24 divisible by 3 24 divisible by 4 24 divisible by 6 24 divisible by 8 25 divisible by 5 26 divisible by 2 27 divisible by 3 27 divisible by 9 28 divisible by 2 28 divisible by 4 28 divisible by 7 30 divisible by 2 30 divisible by 3 30 divisible by 5 30 divisible by 6 32 divisible by 2 32 divisible by 4 32 divisible by 8 33 divisible by 3 34 divisible by 2 35 divisible by 5 35 divisible by 7 36 divisible by 2 36 divisible by 3 36 divisible by 4 36 divisible by 6 36 divisible by 9 38 divisible by 2 39 divisible by 3 40 divisible by 2 40 divisible by 4 40 divisible by 5 40 divisible by 8 42 divisible by 2 42 divisible by 3 42 divisible by 6 42 divisible by 7 44 divisible by 2 44 divisible by 4 45 divisible by 3 45 divisible by 5 45 divisible by 9 46 divisible by 2 48 divisible by 2 48 divisible by 3 48 divisible by 4 48 divisible by 6 48 divisible by 8 49 divisible by 7 50 divisible by 2 50 divisible by 5 51 divisible by 3 52 divisible by 2 52 divisible by 4 54 divisible by 2 54 divisible by 3 54 divisible by 6 54 divisible by 9 55 divisible by 5 56 divisible by 2 56 divisible by 4 56 divisible by 7 56 divisible by 8 57 divisible by 3 58 divisible by 2 60 divisible by 2 60 divisible by 3 60 divisible by 4 60 divisible by 5 60 divisible by 6 62 divisible by 2 63 divisible by 3 63 divisible by 7 63 divisible by 9 64 divisible by 2 64 divisible by 4 64 divisible by 8 65 divisible by 5 66 divisible by 2 66 divisible by 3 66 divisible by 6 68 divisible by 2 68 divisible by 4 69 divisible by 3 70 divisible by 2 70 divisible by 5 70 divisible by 7 72 divisible by 2 72 divisible by 3 72 divisible by 4 72 divisible by 6 72 divisible by 8 72 divisible by 9 74 divisible by 2 75 divisible by 3 75 divisible by 5 76 divisible by 2 76 divisible by 4 77 divisible by 7 78 divisible by 2 78 divisible by 3 78 divisible by 6 80 divisible by 2 80 divisible by 4 80 divisible by 5 80 divisible by 8 81 divisible by 3 81 divisible by 9 82 divisible by 2 84 divisible by 2 84 divisible by 3 84 divisible by 4 84 divisible by 6 84 divisible by 7 85 divisible by 5 86 divisible by 2 87 divisible by 3 88 divisible by 2 88 divisible by 4 88 divisible by 8 90 divisible by 2 90 divisible by 3 90 divisible by 5 90 divisible by 6 90 divisible by 9 91 divisible by 7 92 divisible by 2 92 divisible by 4 93 divisible by 3 94 divisible by 2 95 divisible by 5 96 divisible by 2 96 divisible by 3 96 divisible by 4 96 divisible by 6 96 divisible by 8 98 divisible by 2 98 divisible by 7 99 divisible by 3 99 divisible by 9 100 divisible by 2 100 divisible by 4 100 divisible by 5 102 divisible by 2 102 divisible by 3 102 divisible by 6 104 divisible by 2 104 divisible by 4 104 divisible by 8 105 divisible by 3 105 divisible by 5 105 divisible by 7 106 divisible by 2 108 divisible by 2 108 divisible by 3 108 divisible by 4 108 divisible by 6 108 divisible by 9 110 divisible by 2 110 divisible by 5 111 divisible by 3 112 divisible by 2 112 divisible by 4 112 divisible by 7 112 divisible by 8 114 divisible by 2 114 divisible by 3 114 divisible by 6 115 divisible by 5 116 divisible by 2 116 divisible by 4 117 divisible by 3 117 divisible by 9 118 divisible by 2 119 divisible by 7 120 divisible by 2 120 divisible by 3 120 divisible by 4 120 divisible by 5 120 divisible by 6 120 divisible by 8 122 divisible by 2 123 divisible by 3 124 divisible by 2 124 divisible by 4 125 divisible by 5 126 divisible by 2 126 divisible by 3 126 divisible by 6 126 divisible by 7 126 divisible by 9 128 divisible by 2 128 divisible by 4 128 divisible by 8 129 divisible by 3 130 divisible by 2 130 divisible by 5 132 divisible by 2 132 divisible by 3 132 divisible by 4 132 divisible by 6 133 divisible by 7 134 divisible by 2 135 divisible by 3 135 divisible by 5 135 divisible by 9 136 divisible by 2 136 divisible by 4 136 divisible by 8 138 divisible by 2 138 divisible by 3 138 divisible by 6 140 divisible by 2 140 divisible by 4 140 divisible by 5 140 divisible by 7 141 divisible by 3 142 divisible by 2 144 divisible by 2 144 divisible by 3 144 divisible by 4 144 divisible by 6 144 divisible by 8 144 divisible by 9 145 divisible by 5 146 divisible by 2 147 divisible by 3 147 divisible by 7 148 divisible by 2 148 divisible by 4 150 divisible by 2 150 divisible by 3 150 divisible by 5 150 divisible by 6 152 divisible by 2 152 divisible by 4 152 divisible by 8 153 divisible by 3 153 divisible by 9 154 divisible by 2 154 divisible by 7 155 divisible by 5 156 divisible by 2 156 divisible by 3 156 divisible by 4 156 divisible by 6 158 divisible by 2 159 divisible by 3 160 divisible by 2 160 divisible by 4 160 divisible by 5 160 divisible by 8 161 divisible by 7 162 divisible by 2 162 divisible by 3 162 divisible by 6 162 divisible by 9 164 divisible by 2 164 divisible by 4 165 divisible by 3 165 divisible by 5 166 divisible by 2 168 divisible by 2 168 divisible by 3 168 divisible by 4 168 divisible by 6 168 divisible by 7 168 divisible by 8 170 divisible by 2 170 divisible by 5 171 divisible by 3 171 divisible by 9 172 divisible by 2 172 divisible by 4 174 divisible by 2 174 divisible by 3 174 divisible by 6 175 divisible by 5 175 divisible by 7 176 divisible by 2 176 divisible by 4 176 divisible by 8 177 divisible by 3 178 divisible by 2 180 divisible by 2 180 divisible by 3 180 divisible by 4 180 divisible by 5 180 divisible by 6 180 divisible by 9 182 divisible by 2 182 divisible by 7 183 divisible by 3 184 divisible by 2 184 divisible by 4 184 divisible by 8 185 divisible by 5 186 divisible by 2 186 divisible by 3 186 divisible by 6 188 divisible by 2 188 divisible by 4 189 divisible by 3 189 divisible by 7 189 divisible by 9 190 divisible by 2 190 divisible by 5 192 divisible by 2 192 divisible by 3 192 divisible by 4 192 divisible by 6 192 divisible by 8 194 divisible by 2 195 divisible by 3 195 divisible by 5 196 divisible by 2 196 divisible by 4 196 divisible by 7 198 divisible by 2 198 divisible by 3 198 divisible by 6 198 divisible by 9 200 divisible by 2 200 divisible by 4 200 divisible by 5 200 divisible by 8 201 divisible by 3 202 divisible by 2 203 divisible by 7 204 divisible by 2 204 divisible by 3 204 divisible by 4 204 divisible by 6 205 divisible by 5 206 divisible by 2 207 divisible by 3 207 divisible by 9 208 divisible by 2 208 divisible by 4 208 divisible by 8 210 divisible by 2 210 divisible by 3 210 divisible by 5 210 divisible by 6 210 divisible by 7 212 divisible by 2 212 divisible by 4 213 divisible by 3 214 divisible by 2 215 divisible by 5 216 divisible by 2 216 divisible by 3 216 divisible by 4 216 divisible by 6 216 divisible by 8 216 divisible by 9 217 divisible by 7 218 divisible by 2 219 divisible by 3 220 divisible by 2 220 divisible by 4 220 divisible by 5 222 divisible by 2 222 divisible by 3 222 divisible by 6 224 divisible by 2 224 divisible by 4 224 divisible by 7 224 divisible by 8 225 divisible by 3 225 divisible by 5 225 divisible by 9 226 divisible by 2 228 divisible by 2 228 divisible by 3 228 divisible by 4 228 divisible by 6 230 divisible by 2 230 divisible by 5 231 divisible by 3 231 divisible by 7 232 divisible by 2 232 divisible by 4 232 divisible by 8 234 divisible by 2 234 divisible by 3 234 divisible by 6 234 divisible by 9 235 divisible by 5 236 divisible by 2 236 divisible by 4 237 divisible by 3 238 divisible by 2 238 divisible by 7 240 divisible by 2 240 divisible by 3 240 divisible by 4 240 divisible by 5 240 divisible by 6 240 divisible by 8 242 divisible by 2 243 divisible by 3 243 divisible by 9 244 divisible by 2 244 divisible by 4 245 divisible by 5 245 divisible by 7 246 divisible by 2 246 divisible by 3 246 divisible by 6 248 divisible by 2 248 divisible by 4 248 divisible by 8 249 divisible by 3 250 divisible by 2 250 divisible by 5 252 divisible by 2 252 divisible by 3 252 divisible by 4 252 divisible by 6 252 divisible by 7 252 divisible by 9 254 divisible by 2 255 divisible by 3 255 divisible by 5 256 divisible by 2 256 divisible by 4 256 divisible by 8 258 divisible by 2 258 divisible by 3 258 divisible by 6 259 divisible by 7 260 divisible by 2 260 divisible by 4 260 divisible by 5 261 divisible by 3 261 divisible by 9 262 divisible by 2 264 divisible by 2 264 divisible by 3 264 divisible by 4 264 divisible by 6 264 divisible by 8 265 divisible by 5 266 divisible by 2 266 divisible by 7 267 divisible by 3 268 divisible by 2 268 divisible by 4 270 divisible by 2 270 divisible by 3 270 divisible by 5 270 divisible by 6 270 divisible by 9 272 divisible by 2 272 divisible by 4 272 divisible by 8 273 divisible by 3 273 divisible by 7 274 divisible by 2 275 divisible by 5 276 divisible by 2 276 divisible by 3 276 divisible by 4 276 divisible by 6 278 divisible by 2 279 divisible by 3 279 divisible by 9 280 divisible by 2 280 divisible by 4 280 divisible by 5 280 divisible by 7 280 divisible by 8 282 divisible by 2 282 divisible by 3 282 divisible by 6 284 divisible by 2 284 divisible by 4 285 divisible by 3 285 divisible by 5 286 divisible by 2 287 divisible by 7 288 divisible by 2 288 divisible by 3 288 divisible by 4 288 divisible by 6 288 divisible by 8 288 divisible by 9 290 divisible by 2 290 divisible by 5 291 divisible by 3 292 divisible by 2 292 divisible by 4 294 divisible by 2 294 divisible by 3 294 divisible by 6 294 divisible by 7 295 divisible by 5 296 divisible by 2 296 divisible by 4 296 divisible by 8 297 divisible by 3 297 divisible by 9 298 divisible by 2 300 divisible by 2 300 divisible by 3 300 divisible by 4 300 divisible by 5 300 divisible by 6 301 divisible by 7 302 divisible by 2 303 divisible by 3 304 divisible by 2 304 divisible by 4 304 divisible by 8 305 divisible by 5 306 divisible by 2 306 divisible by 3 306 divisible by 6 306 divisible by 9 308 divisible by 2 308 divisible by 4 308 divisible by 7 309 divisible by 3 310 divisible by 2 310 divisible by 5 312 divisible by 2 312 divisible by 3 312 divisible by 4 312 divisible by 6 312 divisible by 8 314 divisible by 2 315 divisible by 3 315 divisible by 5 315 divisible by 7 315 divisible by 9 316 divisible by 2 316 divisible by 4 318 divisible by 2 318 divisible by 3 318 divisible by 6 320 divisible by 2 320 divisible by 4 320 divisible by 5 320 divisible by 8 321 divisible by 3 322 divisible by 2 322 divisible by 7 324 divisible by 2 324 divisible by 3 324 divisible by 4 324 divisible by 6 324 divisible by 9 325 divisible by 5 326 divisible by 2 327 divisible by 3 328 divisible by 2 328 divisible by 4 328 divisible by 8 329 divisible by 7 330 divisible by 2 330 divisible by 3 330 divisible by 5 330 divisible by 6 332 divisible by 2 332 divisible by 4 333 divisible by 3 333 divisible by 9 334 divisible by 2 335 divisible by 5 336 divisible by 2 336 divisible by 3 336 divisible by 4 336 divisible by 6 336 divisible by 7 336 divisible by 8 338 divisible by 2 339 divisible by 3 340 divisible by 2 340 divisible by 4 340 divisible by 5 342 divisible by 2 342 divisible by 3 342 divisible by 6 342 divisible by 9 343 divisible by 7 344 divisible by 2 344 divisible by 4 344 divisible by 8 345 divisible by 3 345 divisible by 5 346 divisible by 2 348 divisible by 2 348 divisible by 3 348 divisible by 4 348 divisible by 6 350 divisible by 2 350 divisible by 5 350 divisible by 7 351 divisible by 3 351 divisible by 9 352 divisible by 2 352 divisible by 4 352 divisible by 8 354 divisible by 2 354 divisible by 3 354 divisible by 6 355 divisible by 5 356 divisible by 2 356 divisible by 4 357 divisible by 3 357 divisible by 7 358 divisible by 2 360 divisible by 2 360 divisible by 3 360 divisible by 4 360 divisible by 5 360 divisible by 6 360 divisible by 8 360 divisible by 9 362 divisible by 2 363 divisible by 3 364 divisible by 2 364 divisible by 4 364 divisible by 7 365 divisible by 5 366 divisible by 2 366 divisible by 3 366 divisible by 6 368 divisible by 2 368 divisible by 4 368 divisible by 8 369 divisible by 3 369 divisible by 9 370 divisible by 2 370 divisible by 5 371 divisible by 7 372 divisible by 2 372 divisible by 3 372 divisible by 4 372 divisible by 6 374 divisible by 2 375 divisible by 3 375 divisible by 5 376 divisible by 2 376 divisible by 4 376 divisible by 8 378 divisible by 2 378 divisible by 3 378 divisible by 6 378 divisible by 7 378 divisible by 9 380 divisible by 2 380 divisible by 4 380 divisible by 5 381 divisible by 3 382 divisible by 2 384 divisible by 2 384 divisible by 3 384 divisible by 4 384 divisible by 6 384 divisible by 8 385 divisible by 5 385 divisible by 7 386 divisible by 2 387 divisible by 3 387 divisible by 9 388 divisible by 2 388 divisible by 4 390 divisible by 2 390 divisible by 3 390 divisible by 5 390 divisible by 6 392 divisible by 2 392 divisible by 4 392 divisible by 7 392 divisible by 8 393 divisible by 3 394 divisible by 2 395 divisible by 5 396 divisible by 2 396 divisible by 3 396 divisible by 4 396 divisible by 6 396 divisible by 9 398 divisible by 2 399 divisible by 3 399 divisible by 7 400 divisible by 2 400 divisible by 4 400 divisible by 5 400 divisible by 8 402 divisible by 2 402 divisible by 3 402 divisible by 6 404 divisible by 2 404 divisible by 4 405 divisible by 3 405 divisible by 5 405 divisible by 9 406 divisible by 2 406 divisible by 7 408 divisible by 2 408 divisible by 3 408 divisible by 4 408 divisible by 6 408 divisible by 8 410 divisible by 2 410 divisible by 5 411 divisible by 3 412 divisible by 2 412 divisible by 4 413 divisible by 7 414 divisible by 2 414 divisible by 3 414 divisible by 6 414 divisible by 9 415 divisible by 5 416 divisible by 2 416 divisible by 4 416 divisible by 8 417 divisible by 3 418 divisible by 2 420 divisible by 2 420 divisible by 3 420 divisible by 4 420 divisible by 5 420 divisible by 6 420 divisible by 7 422 divisible by 2 423 divisible by 3 423 divisible by 9 424 divisible by 2 424 divisible by 4 424 divisible by 8 425 divisible by 5 426 divisible by 2 426 divisible by 3 426 divisible by 6 427 divisible by 7 428 divisible by 2 428 divisible by 4 429 divisible by 3 430 divisible by 2 430 divisible by 5 432 divisible by 2 432 divisible by 3 432 divisible by 4 432 divisible by 6 432 divisible by 8 432 divisible by 9 434 divisible by 2 434 divisible by 7 435 divisible by 3 435 divisible by 5 436 divisible by 2 436 divisible by 4 438 divisible by 2 438 divisible by 3 438 divisible by 6 440 divisible by 2 440 divisible by 4 440 divisible by 5 440 divisible by 8 441 divisible by 3 441 divisible by 7 441 divisible by 9 442 divisible by 2 444 divisible by 2 444 divisible by 3 444 divisible by 4 444 divisible by 6 445 divisible by 5 446 divisible by 2 447 divisible by 3 448 divisible by 2 448 divisible by 4 448 divisible by 7 448 divisible by 8 450 divisible by 2 450 divisible by 3 450 divisible by 5 450 divisible by 6 450 divisible by 9 452 divisible by 2 452 divisible by 4 453 divisible by 3 454 divisible by 2 455 divisible by 5 455 divisible by 7 456 divisible by 2 456 divisible by 3 456 divisible by 4 456 divisible by 6 456 divisible by 8 458 divisible by 2 459 divisible by 3 459 divisible by 9 460 divisible by 2 460 divisible by 4 460 divisible by 5 462 divisible by 2 462 divisible by 3 462 divisible by 6 462 divisible by 7 464 divisible by 2 464 divisible by 4 464 divisible by 8 465 divisible by 3 465 divisible by 5 466 divisible by 2 468 divisible by 2 468 divisible by 3 468 divisible by 4 468 divisible by 6 468 divisible by 9 469 divisible by 7 470 divisible by 2 470 divisible by 5 471 divisible by 3 472 divisible by 2 472 divisible by 4 472 divisible by 8 474 divisible by 2 474 divisible by 3 474 divisible by 6 475 divisible by 5 476 divisible by 2 476 divisible by 4 476 divisible by 7 477 divisible by 3 477 divisible by 9 478 divisible by 2 480 divisible by 2 480 divisible by 3 480 divisible by 4 480 divisible by 5 480 divisible by 6 480 divisible by 8 482 divisible by 2 483 divisible by 3 483 divisible by 7 484 divisible by 2 484 divisible by 4 485 divisible by 5 486 divisible by 2 486 divisible by 3 486 divisible by 6 486 divisible by 9 488 divisible by 2 488 divisible by 4 488 divisible by 8 489 divisible by 3 490 divisible by 2 490 divisible by 5 490 divisible by 7 492 divisible by 2 492 divisible by 3 492 divisible by 4 492 divisible by 6 494 divisible by 2 495 divisible by 3 495 divisible by 5 495 divisible by 9 496 divisible by 2 496 divisible by 4 496 divisible by 8 497 divisible by 7 498 divisible by 2 498 divisible by 3 498 divisible by 6 500 divisible by 2 500 divisible by 4 500 divisible by 5 501 divisible by 3 502 divisible by 2 504 divisible by 2 504 divisible by 3 504 divisible by 4 504 divisible by 6 504 divisible by 7 504 divisible by 8 504 divisible by 9 505 divisible by 5 506 divisible by 2 507 divisible by 3 508 divisible by 2 508 divisible by 4 510 divisible by 2 510 divisible by 3 510 divisible by 5 510 divisible by 6 511 divisible by 7 512 divisible by 2 512 divisible by 4 512 divisible by 8 513 divisible by 3 513 divisible by 9 514 divisible by 2 515 divisible by 5 516 divisible by 2 516 divisible by 3 516 divisible by 4 516 divisible by 6 518 divisible by 2 518 divisible by 7 519 divisible by 3 520 divisible by 2 520 divisible by 4 520 divisible by 5 520 divisible by 8 522 divisible by 2 522 divisible by 3 522 divisible by 6 522 divisible by 9 524 divisible by 2 524 divisible by 4 525 divisible by 3 525 divisible by 5 525 divisible by 7 526 divisible by 2 528 divisible by 2 528 divisible by 3 528 divisible by 4 528 divisible by 6 528 divisible by 8 530 divisible by 2 530 divisible by 5 531 divisible by 3 531 divisible by 9 532 divisible by 2 532 divisible by 4 532 divisible by 7 534 divisible by 2 534 divisible by 3 534 divisible by 6 535 divisible by 5 536 divisible by 2 536 divisible by 4 536 divisible by 8 537 divisible by 3 538 divisible by 2 539 divisible by 7 540 divisible by 2 540 divisible by 3 540 divisible by 4 540 divisible by 5 540 divisible by 6 540 divisible by 9 542 divisible by 2 543 divisible by 3 544 divisible by 2 544 divisible by 4 544 divisible by 8 545 divisible by 5 546 divisible by 2 546 divisible by 3 546 divisible by 6 546 divisible by 7 548 divisible by 2 548 divisible by 4 549 divisible by 3 549 divisible by 9 550 divisible by 2 550 divisible by 5 552 divisible by 2 552 divisible by 3 552 divisible by 4 552 divisible by 6 552 divisible by 8 553 divisible by 7 554 divisible by 2 555 divisible by 3 555 divisible by 5 556 divisible by 2 556 divisible by 4 558 divisible by 2 558 divisible by 3 558 divisible by 6 558 divisible by 9 560 divisible by 2 560 divisible by 4 560 divisible by 5 560 divisible by 7 560 divisible by 8 561 divisible by 3 562 divisible by 2 564 divisible by 2 564 divisible by 3 564 divisible by 4 564 divisible by 6 565 divisible by 5 566 divisible by 2 567 divisible by 3 567 divisible by 7 567 divisible by 9 568 divisible by 2 568 divisible by 4 568 divisible by 8 570 divisible by 2 570 divisible by 3 570 divisible by 5 570 divisible by 6 572 divisible by 2 572 divisible by 4 573 divisible by 3 574 divisible by 2 574 divisible by 7 575 divisible by 5 576 divisible by 2 576 divisible by 3 576 divisible by 4 576 divisible by 6 576 divisible by 8 576 divisible by 9 578 divisible by 2 579 divisible by 3 580 divisible by 2 580 divisible by 4 580 divisible by 5 581 divisible by 7 582 divisible by 2 582 divisible by 3 582 divisible by 6 584 divisible by 2 584 divisible by 4 584 divisible by 8 585 divisible by 3 585 divisible by 5 585 divisible by 9 586 divisible by 2 588 divisible by 2 588 divisible by 3 588 divisible by 4 588 divisible by 6 588 divisible by 7 590 divisible by 2 590 divisible by 5 591 divisible by 3 592 divisible by 2 592 divisible by 4 592 divisible by 8 594 divisible by 2 594 divisible by 3 594 divisible by 6 594 divisible by 9 595 divisible by 5 595 divisible by 7 596 divisible by 2 596 divisible by 4 597 divisible by 3 598 divisible by 2 600 divisible by 2 600 divisible by 3 600 divisible by 4 600 divisible by 5 600 divisible by 6 600 divisible by 8 602 divisible by 2 602 divisible by 7 603 divisible by 3 603 divisible by 9 604 divisible by 2 604 divisible by 4 605 divisible by 5 606 divisible by 2 606 divisible by 3 606 divisible by 6 608 divisible by 2 608 divisible by 4 608 divisible by 8 609 divisible by 3 609 divisible by 7 610 divisible by 2 610 divisible by 5 612 divisible by 2 612 divisible by 3 612 divisible by 4 612 divisible by 6 612 divisible by 9 614 divisible by 2 615 divisible by 3 615 divisible by 5 616 divisible by 2 616 divisible by 4 616 divisible by 7 616 divisible by 8 618 divisible by 2 618 divisible by 3 618 divisible by 6 620 divisible by 2 620 divisible by 4 620 divisible by 5 621 divisible by 3 621 divisible by 9 622 divisible by 2 623 divisible by 7 624 divisible by 2 624 divisible by 3 624 divisible by 4 624 divisible by 6 624 divisible by 8 625 divisible by 5 626 divisible by 2 627 divisible by 3 628 divisible by 2 628 divisible by 4 630 divisible by 2 630 divisible by 3 630 divisible by 5 630 divisible by 6 630 divisible by 7 630 divisible by 9 632 divisible by 2 632 divisible by 4 632 divisible by 8 633 divisible by 3 634 divisible by 2 635 divisible by 5 636 divisible by 2 636 divisible by 3 636 divisible by 4 636 divisible by 6 637 divisible by 7 638 divisible by 2 639 divisible by 3 639 divisible by 9 640 divisible by 2 640 divisible by 4 640 divisible by 5 640 divisible by 8 642 divisible by 2 642 divisible by 3 642 divisible by 6 644 divisible by 2 644 divisible by 4 644 divisible by 7 645 divisible by 3 645 divisible by 5 646 divisible by 2 648 divisible by 2 648 divisible by 3 648 divisible by 4 648 divisible by 6 648 divisible by 8 648 divisible by 9 650 divisible by 2 650 divisible by 5 651 divisible by 3 651 divisible by 7 652 divisible by 2 652 divisible by 4 654 divisible by 2 654 divisible by 3 654 divisible by 6 655 divisible by 5 656 divisible by 2 656 divisible by 4 656 divisible by 8 657 divisible by 3 657 divisible by 9 658 divisible by 2 658 divisible by 7 660 divisible by 2 660 divisible by 3 660 divisible by 4 660 divisible by 5 660 divisible by 6 662 divisible by 2 663 divisible by 3 664 divisible by 2 664 divisible by 4 664 divisible by 8 665 divisible by 5 665 divisible by 7 666 divisible by 2 666 divisible by 3 666 divisible by 6 666 divisible by 9 668 divisible by 2 668 divisible by 4 669 divisible by 3 670 divisible by 2 670 divisible by 5 672 divisible by 2 672 divisible by 3 672 divisible by 4 672 divisible by 6 672 divisible by 7 672 divisible by 8 674 divisible by 2 675 divisible by 3 675 divisible by 5 675 divisible by 9 676 divisible by 2 676 divisible by 4 678 divisible by 2 678 divisible by 3 678 divisible by 6 679 divisible by 7 680 divisible by 2 680 divisible by 4 680 divisible by 5 680 divisible by 8 681 divisible by 3 682 divisible by 2 684 divisible by 2 684 divisible by 3 684 divisible by 4 684 divisible by 6 684 divisible by 9 685 divisible by 5 686 divisible by 2 686 divisible by 7 687 divisible by 3 688 divisible by 2 688 divisible by 4 688 divisible by 8 690 divisible by 2 690 divisible by 3 690 divisible by 5 690 divisible by 6 692 divisible by 2 692 divisible by 4 693 divisible by 3 693 divisible by 7 693 divisible by 9 694 divisible by 2 695 divisible by 5 696 divisible by 2 696 divisible by 3 696 divisible by 4 696 divisible by 6 696 divisible by 8 698 divisible by 2 699 divisible by 3 700 divisible by 2 700 divisible by 4 700 divisible by 5 700 divisible by 7 702 divisible by 2 702 divisible by 3 702 divisible by 6 702 divisible by 9 704 divisible by 2 704 divisible by 4 704 divisible by 8 705 divisible by 3 705 divisible by 5 706 divisible by 2 707 divisible by 7 708 divisible by 2 708 divisible by 3 708 divisible by 4 708 divisible by 6 710 divisible by 2 710 divisible by 5 711 divisible by 3 711 divisible by 9 712 divisible by 2 712 divisible by 4 712 divisible by 8 714 divisible by 2 714 divisible by 3 714 divisible by 6 714 divisible by 7 715 divisible by 5 716 divisible by 2 716 divisible by 4 717 divisible by 3 718 divisible by 2 720 divisible by 2 720 divisible by 3 720 divisible by 4 720 divisible by 5 720 divisible by 6 720 divisible by 8 720 divisible by 9 721 divisible by 7 722 divisible by 2 723 divisible by 3 724 divisible by 2 724 divisible by 4 725 divisible by 5 726 divisible by 2 726 divisible by 3 726 divisible by 6 728 divisible by 2 728 divisible by 4 728 divisible by 7 728 divisible by 8 729 divisible by 3 729 divisible by 9 730 divisible by 2 730 divisible by 5 732 divisible by 2 732 divisible by 3 732 divisible by 4 732 divisible by 6 734 divisible by 2 735 divisible by 3 735 divisible by 5 735 divisible by 7 736 divisible by 2 736 divisible by 4 736 divisible by 8 738 divisible by 2 738 divisible by 3 738 divisible by 6 738 divisible by 9 740 divisible by 2 740 divisible by 4 740 divisible by 5 741 divisible by 3 742 divisible by 2 742 divisible by 7 744 divisible by 2 744 divisible by 3 744 divisible by 4 744 divisible by 6 744 divisible by 8 745 divisible by 5 746 divisible by 2 747 divisible by 3 747 divisible by 9 748 divisible by 2 748 divisible by 4 749 divisible by 7 750 divisible by 2 750 divisible by 3 750 divisible by 5 750 divisible by 6 752 divisible by 2 752 divisible by 4 752 divisible by 8 753 divisible by 3 754 divisible by 2 755 divisible by 5 756 divisible by 2 756 divisible by 3 756 divisible by 4 756 divisible by 6 756 divisible by 7 756 divisible by 9 758 divisible by 2 759 divisible by 3 760 divisible by 2 760 divisible by 4 760 divisible by 5 760 divisible by 8 762 divisible by 2 762 divisible by 3 762 divisible by 6 763 divisible by 7 764 divisible by 2 764 divisible by 4 765 divisible by 3 765 divisible by 5 765 divisible by 9 766 divisible by 2 768 divisible by 2 768 divisible by 3 768 divisible by 4 768 divisible by 6 768 divisible by 8 770 divisible by 2 770 divisible by 5 770 divisible by 7 771 divisible by 3 772 divisible by 2 772 divisible by 4 774 divisible by 2 774 divisible by 3 774 divisible by 6 774 divisible by 9 775 divisible by 5 776 divisible by 2 776 divisible by 4 776 divisible by 8 777 divisible by 3 777 divisible by 7 778 divisible by 2 780 divisible by 2 780 divisible by 3 780 divisible by 4 780 divisible by 5 780 divisible by 6 782 divisible by 2 783 divisible by 3 783 divisible by 9 784 divisible by 2 784 divisible by 4 784 divisible by 7 784 divisible by 8 785 divisible by 5 786 divisible by 2 786 divisible by 3 786 divisible by 6 788 divisible by 2 788 divisible by 4 789 divisible by 3 790 divisible by 2 790 divisible by 5 791 divisible by 7 792 divisible by 2 792 divisible by 3 792 divisible by 4 792 divisible by 6 792 divisible by 8 792 divisible by 9 794 divisible by 2 795 divisible by 3 795 divisible by 5 796 divisible by 2 796 divisible by 4 798 divisible by 2 798 divisible by 3 798 divisible by 6 798 divisible by 7 800 divisible by 2 800 divisible by 4 800 divisible by 5 800 divisible by 8 801 divisible by 3 801 divisible by 9 802 divisible by 2 804 divisible by 2 804 divisible by 3 804 divisible by 4 804 divisible by 6 805 divisible by 5 805 divisible by 7 806 divisible by 2 807 divisible by 3 808 divisible by 2 808 divisible by 4 808 divisible by 8 810 divisible by 2 810 divisible by 3 810 divisible by 5 810 divisible by 6 810 divisible by 9 812 divisible by 2 812 divisible by 4 812 divisible by 7 813 divisible by 3 814 divisible by 2 815 divisible by 5 816 divisible by 2 816 divisible by 3 816 divisible by 4 816 divisible by 6 816 divisible by 8 818 divisible by 2 819 divisible by 3 819 divisible by 7 819 divisible by 9 820 divisible by 2 820 divisible by 4 820 divisible by 5 822 divisible by 2 822 divisible by 3 822 divisible by 6 824 divisible by 2 824 divisible by 4 824 divisible by 8 825 divisible by 3 825 divisible by 5 826 divisible by 2 826 divisible by 7 828 divisible by 2 828 divisible by 3 828 divisible by 4 828 divisible by 6 828 divisible by 9 830 divisible by 2 830 divisible by 5 831 divisible by 3 832 divisible by 2 832 divisible by 4 832 divisible by 8 833 divisible by 7 834 divisible by 2 834 divisible by 3 834 divisible by 6 835 divisible by 5 836 divisible by 2 836 divisible by 4 837 divisible by 3 837 divisible by 9 838 divisible by 2 840 divisible by 2 840 divisible by 3 840 divisible by 4 840 divisible by 5 840 divisible by 6 840 divisible by 7 840 divisible by 8 842 divisible by 2 843 divisible by 3 844 divisible by 2 844 divisible by 4 845 divisible by 5 846 divisible by 2 846 divisible by 3 846 divisible by 6 846 divisible by 9 847 divisible by 7 848 divisible by 2 848 divisible by 4 848 divisible by 8 849 divisible by 3 850 divisible by 2 850 divisible by 5 852 divisible by 2 852 divisible by 3 852 divisible by 4 852 divisible by 6 854 divisible by 2 854 divisible by 7 855 divisible by 3 855 divisible by 5 855 divisible by 9 856 divisible by 2 856 divisible by 4 856 divisible by 8 858 divisible by 2 858 divisible by 3 858 divisible by 6 860 divisible by 2 860 divisible by 4 860 divisible by 5 861 divisible by 3 861 divisible by 7 862 divisible by 2 864 divisible by 2 864 divisible by 3 864 divisible by 4 864 divisible by 6 864 divisible by 8 864 divisible by 9 865 divisible by 5 866 divisible by 2 867 divisible by 3 868 divisible by 2 868 divisible by 4 868 divisible by 7 870 divisible by 2 870 divisible by 3 870 divisible by 5 870 divisible by 6 872 divisible by 2 872 divisible by 4 872 divisible by 8 873 divisible by 3 873 divisible by 9 874 divisible by 2 875 divisible by 5 875 divisible by 7 876 divisible by 2 876 divisible by 3 876 divisible by 4 876 divisible by 6 878 divisible by 2 879 divisible by 3 880 divisible by 2 880 divisible by 4 880 divisible by 5 880 divisible by 8 882 divisible by 2 882 divisible by 3 882 divisible by 6 882 divisible by 7 882 divisible by 9 884 divisible by 2 884 divisible by 4 885 divisible by 3 885 divisible by 5 886 divisible by 2 888 divisible by 2 888 divisible by 3 888 divisible by 4 888 divisible by 6 888 divisible by 8 889 divisible by 7 890 divisible by 2 890 divisible by 5 891 divisible by 3 891 divisible by 9 892 divisible by 2 892 divisible by 4 894 divisible by 2 894 divisible by 3 894 divisible by 6 895 divisible by 5 896 divisible by 2 896 divisible by 4 896 divisible by 7 896 divisible by 8 897 divisible by 3 898 divisible by 2 900 divisible by 2 900 divisible by 3 900 divisible by 4 900 divisible by 5 900 divisible by 6 900 divisible by 9 902 divisible by 2 903 divisible by 3 903 divisible by 7 904 divisible by 2 904 divisible by 4 904 divisible by 8 905 divisible by 5 906 divisible by 2 906 divisible by 3 906 divisible by 6 908 divisible by 2 908 divisible by 4 909 divisible by 3 909 divisible by 9 910 divisible by 2 910 divisible by 5 910 divisible by 7 912 divisible by 2 912 divisible by 3 912 divisible by 4 912 divisible by 6 912 divisible by 8 914 divisible by 2 915 divisible by 3 915 divisible by 5 916 divisible by 2 916 divisible by 4 917 divisible by 7 918 divisible by 2 918 divisible by 3 918 divisible by 6 918 divisible by 9 920 divisible by 2 920 divisible by 4 920 divisible by 5 920 divisible by 8 921 divisible by 3 922 divisible by 2 924 divisible by 2 924 divisible by 3 924 divisible by 4 924 divisible by 6 924 divisible by 7 925 divisible by 5 926 divisible by 2 927 divisible by 3 927 divisible by 9 928 divisible by 2 928 divisible by 4 928 divisible by 8 930 divisible by 2 930 divisible by 3 930 divisible by 5 930 divisible by 6 931 divisible by 7 932 divisible by 2 932 divisible by 4 933 divisible by 3 934 divisible by 2 935 divisible by 5 936 divisible by 2 936 divisible by 3 936 divisible by 4 936 divisible by 6 936 divisible by 8 936 divisible by 9 938 divisible by 2 938 divisible by 7 939 divisible by 3 940 divisible by 2 940 divisible by 4 940 divisible by 5 942 divisible by 2 942 divisible by 3 942 divisible by 6 944 divisible by 2 944 divisible by 4 944 divisible by 8 945 divisible by 3 945 divisible by 5 945 divisible by 7 945 divisible by 9 946 divisible by 2 948 divisible by 2 948 divisible by 3 948 divisible by 4 948 divisible by 6 950 divisible by 2 950 divisible by 5 951 divisible by 3 952 divisible by 2 952 divisible by 4 952 divisible by 7 952 divisible by 8 954 divisible by 2 954 divisible by 3 954 divisible by 6 954 divisible by 9 955 divisible by 5 956 divisible by 2 956 divisible by 4 957 divisible by 3 958 divisible by 2 959 divisible by 7 960 divisible by 2 960 divisible by 3 960 divisible by 4 960 divisible by 5 960 divisible by 6 960 divisible by 8 962 divisible by 2 963 divisible by 3 963 divisible by 9 964 divisible by 2 964 divisible by 4 965 divisible by 5 966 divisible by 2 966 divisible by 3 966 divisible by 6 966 divisible by 7 968 divisible by 2 968 divisible by 4 968 divisible by 8 969 divisible by 3 970 divisible by 2 970 divisible by 5 972 divisible by 2 972 divisible by 3 972 divisible by 4 972 divisible by 6 972 divisible by 9 973 divisible by 7 974 divisible by 2 975 divisible by 3 975 divisible by 5 976 divisible by 2 976 divisible by 4 976 divisible by 8 978 divisible by 2 978 divisible by 3 978 divisible by 6 980 divisible by 2 980 divisible by 4 980 divisible by 5 980 divisible by 7 981 divisible by 3 981 divisible by 9 982 divisible by 2 984 divisible by 2 984 divisible by 3 984 divisible by 4 984 divisible by 6 984 divisible by 8 985 divisible by 5 986 divisible by 2 987 divisible by 3 987 divisible by 7 988 divisible by 2 988 divisible by 4 990 divisible by 2 990 divisible by 3 990 divisible by 5 990 divisible by 6 990 divisible by 9 992 divisible by 2 992 divisible by 4 992 divisible by 8 993 divisible by 3 994 divisible by 2 994 divisible by 7 995 divisible by 5 996 divisible by 2 996 divisible by 3 996 divisible by 4 996 divisible by 6 998 divisible by 2 999 divisible by 3 999 divisible by 9 1000 divisible by 2 1000 divisible by 4 1000 divisible by 5 1000 divisible by 8 "
     ]
    }
   ],
   "source": [
    "n=1000\n",
    "for i in range(1,n+1):\n",
    "    for j in range(2,10):\n",
    "        if i%j==0:\n",
    "            print(i,'divisible by',j,end=' ')"
   ]
  },
  {
   "cell_type": "markdown",
   "id": "b8dbfe86",
   "metadata": {},
   "source": [
    "3.Write a function that inputs a number and returns the product of digits of that number."
   ]
  },
  {
   "cell_type": "code",
   "execution_count": 84,
   "id": "713f79bd",
   "metadata": {},
   "outputs": [
    {
     "name": "stdout",
     "output_type": "stream",
     "text": [
      "2\n"
     ]
    }
   ],
   "source": [
    "n=32\n",
    "c=1\n",
    "for i in (1,n+1):\n",
    "    c=c*(n%10)\n",
    "    n=n//10\n",
    "print(c)"
   ]
  },
  {
   "cell_type": "code",
   "execution_count": 103,
   "id": "eec69171",
   "metadata": {},
   "outputs": [
    {
     "name": "stdout",
     "output_type": "stream",
     "text": [
      "6\n"
     ]
    }
   ],
   "source": [
    "n=int(input('enter a num'))\n",
    "def num(n):\n",
    "    c=1\n",
    "    for i in (1,n+1):\n",
    "        c=c*(n%10)\n",
    "        n=n//10\n",
    "    print(c)\n",
    "num(n)"
   ]
  },
  {
   "cell_type": "markdown",
   "id": "abfc65bf",
   "metadata": {},
   "source": [
    "4.Count the number of spaces in a string ‘In 2021 there were 56 instances of a protest with over 3500 people attending’"
   ]
  },
  {
   "cell_type": "code",
   "execution_count": 106,
   "id": "fbde50c8",
   "metadata": {},
   "outputs": [
    {
     "data": {
      "text/plain": [
       "13"
      ]
     },
     "execution_count": 106,
     "metadata": {},
     "output_type": "execute_result"
    }
   ],
   "source": [
    "n='In 2021 there were 56 instances of a protest with over 3500 people attending'\n",
    "count=n.count(' ')\n",
    "count"
   ]
  },
  {
   "cell_type": "markdown",
   "id": "192d9a8d",
   "metadata": {},
   "source": [
    "5.Write a function that finds the sum of proper divisors of a number.\n",
    "[ Hint : Proper divisors of a number are those numbers by which the number is divisible, except the number itself. \n",
    "Ex: Proper divisors of 36 are 1, 2, 3, 4, 6, 9, 12,18 ]"
   ]
  },
  {
   "cell_type": "code",
   "execution_count": 116,
   "id": "36324cdb",
   "metadata": {},
   "outputs": [
    {
     "name": "stdout",
     "output_type": "stream",
     "text": [
      "1\n",
      "2\n",
      "3\n",
      "4\n",
      "6\n",
      "9\n",
      "12\n",
      "18\n"
     ]
    }
   ],
   "source": [
    "n=36\n",
    "def num(n):\n",
    "    for i in range(1,n):\n",
    "        if n%i==0:\n",
    "            print(i)\n",
    "num(n)"
   ]
  },
  {
   "cell_type": "markdown",
   "id": "46221ab1",
   "metadata": {},
   "source": [
    "6.Write a program to print all the perfect numbers in a given range\n",
    "[ Hint : A number is called perfect if the sum of proper divisors of that number is equal to the number]"
   ]
  },
  {
   "cell_type": "code",
   "execution_count": 44,
   "id": "90bfb250",
   "metadata": {},
   "outputs": [
    {
     "name": "stdout",
     "output_type": "stream",
     "text": [
      "enter a num1000\n",
      "6\n",
      "28\n",
      "496\n"
     ]
    }
   ],
   "source": [
    "n=int(input('enter a num: '))\n",
    "for i in range(1,n+1):\n",
    "    c=0\n",
    "    for j in range(1,i):\n",
    "        if i%j==0:\n",
    "            c=c+j\n",
    "    if c==i:\n",
    "        print(i)\n",
    "    "
   ]
  },
  {
   "cell_type": "markdown",
   "id": "14a4e44e",
   "metadata": {},
   "source": [
    "7.Write a program using lambda which can filter odd numbers in a list by using filter function"
   ]
  },
  {
   "cell_type": "code",
   "execution_count": 21,
   "id": "960a701b",
   "metadata": {},
   "outputs": [
    {
     "name": "stdout",
     "output_type": "stream",
     "text": [
      "[1, 3, 5]\n"
     ]
    }
   ],
   "source": [
    "n=[1,2,3,4,5,6]\n",
    "c=list(filter(lambda x:x%2!=0,n))\n",
    "print(c)"
   ]
  },
  {
   "cell_type": "markdown",
   "id": "00ce15e5",
   "metadata": {},
   "source": [
    "8.Write a program  using lambda which can map() to make a list whose elements are cube of elements in a given list"
   ]
  },
  {
   "cell_type": "code",
   "execution_count": 1,
   "id": "e775a480",
   "metadata": {},
   "outputs": [
    {
     "name": "stdout",
     "output_type": "stream",
     "text": [
      "[1, 8, 27, 64, 125, 216]\n"
     ]
    }
   ],
   "source": [
    "n=[1,2,3,4,5,6]\n",
    "c=list(map(lambda x:x**3,n))\n",
    "print(c)"
   ]
  },
  {
   "cell_type": "code",
   "execution_count": 12,
   "id": "3463c9e2",
   "metadata": {},
   "outputs": [
    {
     "name": "stdout",
     "output_type": "stream",
     "text": [
      "1\n",
      "8\n",
      "27\n",
      "64\n",
      "125\n",
      "216\n"
     ]
    }
   ],
   "source": [
    "n=[1,2,3,4,5,6]\n",
    "for i in n:\n",
    "    print(i**3)"
   ]
  },
  {
   "cell_type": "markdown",
   "id": "c8ed2dab",
   "metadata": {},
   "source": [
    "9.Write a program which can compute the factorial of a given numbers."
   ]
  },
  {
   "cell_type": "code",
   "execution_count": 1,
   "id": "e4003dcd",
   "metadata": {},
   "outputs": [
    {
     "name": "stdout",
     "output_type": "stream",
     "text": [
      "enter a num5\n",
      "120\n"
     ]
    }
   ],
   "source": [
    "n=int(input('enter a num'))\n",
    "c=1\n",
    "for i in range(1,n+1):\n",
    "    c=c*i\n",
    "print(c)"
   ]
  },
  {
   "cell_type": "code",
   "execution_count": 14,
   "id": "25921bf5",
   "metadata": {},
   "outputs": [
    {
     "name": "stdout",
     "output_type": "stream",
     "text": [
      "A\n",
      "B\n",
      "C\n",
      "D\n",
      "E\n",
      "F\n",
      "G\n",
      "H\n",
      "I\n",
      "J\n",
      "K\n",
      "L\n",
      "M\n",
      "N\n",
      "O\n",
      "P\n",
      "Q\n",
      "R\n",
      "S\n",
      "T\n",
      "U\n",
      "V\n",
      "W\n",
      "X\n",
      "Y\n",
      "Z\n"
     ]
    }
   ],
   "source": [
    "for i in range(ord('A'),ord('Z')+1):\n",
    "    k=chr(i)\n",
    "    for j in range(k):\n",
    "        \n",
    "   "
   ]
  },
  {
   "cell_type": "code",
   "execution_count": null,
   "id": "2214050a",
   "metadata": {},
   "outputs": [],
   "source": [
    "for char in range(ord('a'), ord('z')+1):\n",
    "    print(chr(char), end=' ')\n"
   ]
  }
 ],
 "metadata": {
  "kernelspec": {
   "display_name": "Python 3 (ipykernel)",
   "language": "python",
   "name": "python3"
  },
  "language_info": {
   "codemirror_mode": {
    "name": "ipython",
    "version": 3
   },
   "file_extension": ".py",
   "mimetype": "text/x-python",
   "name": "python",
   "nbconvert_exporter": "python",
   "pygments_lexer": "ipython3",
   "version": "3.10.9"
  }
 },
 "nbformat": 4,
 "nbformat_minor": 5
}
