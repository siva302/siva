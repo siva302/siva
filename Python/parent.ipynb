{
 "cells": [
  {
   "cell_type": "code",
   "execution_count": 17,
   "id": "2ff67b4f",
   "metadata": {},
   "outputs": [
    {
     "ename": "SyntaxError",
     "evalue": "expected 'except' or 'finally' block (2037366681.py, line 21)",
     "output_type": "error",
     "traceback": [
      "\u001b[1;36m  Cell \u001b[1;32mIn[17], line 21\u001b[1;36m\u001b[0m\n\u001b[1;33m    finally:\u001b[0m\n\u001b[1;37m            ^\u001b[0m\n\u001b[1;31mSyntaxError\u001b[0m\u001b[1;31m:\u001b[0m expected 'except' or 'finally' block\n"
     ]
    }
   ],
   "source": [
    "import tabulate\n",
    "import mysql.connector\n",
    "from tabulate import tabulate\n",
    "connection=mysql.connector.connect(\n",
    "host='localhost',\n",
    "user='root',\n",
    "password='root@123',\n",
    "database='mitraz',\n",
    ")\n",
    "\n",
    "cursor=connection.cursor()\n",
    "print(\"Connection to MySQL established.\")\n",
    "def ins():\n",
    "    try:\n",
    "        ins='insert into custo values(%s,%s,%s,%s,%s,%s)'\n",
    "        ins_value=(int(input(\"enter a id: \")),input('enter a name: '),int(input('enter a age: ')),input(\"enter a address: \"),int(input(\"enter a salary: \")),input(\"enter a email: \"))\n",
    "        cursor.execute(ins,ins_value)\n",
    "        connection.commit()\n",
    "        print(\"Insertion successful!\")\n",
    "    \n",
    "finally:\n",
    "    if connection.is_connected():\n",
    "        print('ok done')  \n",
    "except mysql.connector.Error as e:\n",
    "    print(\"Error inserting record:\", e)\n",
    "except Exception as e:\n",
    "    print(\"Unexpected error:\", e) \n",
    "cursor.close()\n",
    "connection.close()"
   ]
  },
  {
   "cell_type": "code",
   "execution_count": null,
   "id": "f142547b",
   "metadata": {},
   "outputs": [],
   "source": []
  },
  {
   "cell_type": "code",
   "execution_count": 19,
   "id": "5af0f1de",
   "metadata": {},
   "outputs": [
    {
     "ename": "IndentationError",
     "evalue": "unindent does not match any outer indentation level (<tokenize>, line 8)",
     "output_type": "error",
     "traceback": [
      "\u001b[1;36m  File \u001b[1;32m<tokenize>:8\u001b[1;36m\u001b[0m\n\u001b[1;33m    def sel():\u001b[0m\n\u001b[1;37m    ^\u001b[0m\n\u001b[1;31mIndentationError\u001b[0m\u001b[1;31m:\u001b[0m unindent does not match any outer indentation level\n"
     ]
    }
   ],
   "source": [
    "           def up():\n",
    "                up='update custo set name=%s where id=%s'\n",
    "                up_value=(input(\"enter a name: \"),int(input('enter a id: ')))\n",
    "                cursor.execute(up,up_value)\n",
    "                connection.commit()\n",
    "                print(\"update successful!\")\n",
    "        \n",
    "            def sel():\n",
    "                query=\"select * from custo\"\n",
    "                cursor.execute(query)\n",
    "                results=cursor.fetchall()\n",
    "                for row in results:\n",
    "                    print(row)\n"
   ]
  },
  {
   "cell_type": "code",
   "execution_count": 1,
   "id": "1d573b0e",
   "metadata": {},
   "outputs": [],
   "source": [
    "import mysql.connector\n",
    "connection=mysql.connector.connect(\n",
    "    host='localhost',\n",
    "    user='root',\n",
    "    password='root@123',\n",
    "    database='mitraz',\n",
    "    )\n",
    "cursor=connection.cursor()\n",
    "def insert():\n",
    "    print(\"enter\")\n",
    "    try:\n",
    "        ins='insert into custo values(%s,%s,%s,%s,%s,%s)'\n",
    "        ins_value=(int(input(\"enter a id: \")),input('enter a name: '),int(input('enter a age: ')),input(\"enter a address: \"),int(input(\"enter a salary: \")),input(\"enter a email: \"))\n",
    "        cursor.execute(ins,ins_value)\n",
    "        connection.commit()\n",
    "        print(\"Insertion successful!\")\n",
    "    except mysql.connector as error:\n",
    "        print(\"mysql error\")\n"
   ]
  },
  {
   "cell_type": "code",
   "execution_count": null,
   "id": "c737412d",
   "metadata": {},
   "outputs": [],
   "source": [
    "def select():\n",
    "    print(\"enter\")\n",
    "    try:\n",
    "        query=\"select * from authors\"\n",
    "        cursor.execute(query)\n",
    "        results=cursor.fetchall()\n",
    "        for row in results:\n",
    "             print(row)\n",
    "    except mysql.connector as error:\n",
    "        print(\"mysql error\")"
   ]
  }
 ],
 "metadata": {
  "kernelspec": {
   "display_name": "Python 3 (ipykernel)",
   "language": "python",
   "name": "python3"
  },
  "language_info": {
   "codemirror_mode": {
    "name": "ipython",
    "version": 3
   },
   "file_extension": ".py",
   "mimetype": "text/x-python",
   "name": "python",
   "nbconvert_exporter": "python",
   "pygments_lexer": "ipython3",
   "version": "3.10.9"
  }
 },
 "nbformat": 4,
 "nbformat_minor": 5
}
